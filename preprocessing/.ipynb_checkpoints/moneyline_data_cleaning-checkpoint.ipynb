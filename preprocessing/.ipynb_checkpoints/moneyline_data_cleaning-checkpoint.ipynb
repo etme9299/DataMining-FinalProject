{
 "cells": [
  {
   "cell_type": "markdown",
   "id": "fa9113f4",
   "metadata": {},
   "source": [
    "## Moneyline Data Pre-Processing\n",
    "#### CSCI 4502 Final Project\n",
    "#### Ethan Meyer and Ishika Patel"
   ]
  },
  {
   "cell_type": "markdown",
   "id": "4b082789",
   "metadata": {},
   "source": [
    "#### Pre-Processing: Creating columns that will match with Keys of Kaggle Data"
   ]
  },
  {
   "cell_type": "code",
   "execution_count": 38,
   "id": "9d01b118",
   "metadata": {},
   "outputs": [],
   "source": [
    "import pandas as pd\n",
    "import numpy as np\n",
    "import os\n",
    "import glob\n",
    "import sys\n",
    "from Levenshtein import distance as lev_distance\n",
    "from datetime import datetime\n",
    "import warnings\n",
    "from pandas.core.common import SettingWithCopyWarning\n",
    "warnings.simplefilter(action=\"ignore\", category=SettingWithCopyWarning)\n"
   ]
  },
  {
   "cell_type": "code",
   "execution_count": 42,
   "id": "d742d229",
   "metadata": {},
   "outputs": [],
   "source": [
    "# Function to return TeamID value from Kaggle data based on string similarity with moneyline data\n",
    "def find_TeamID(team_name):\n",
    "    team_name = team_name.lower()\n",
    "    min_dist = 1e10\n",
    "    for idx, possible_name in enumerate(team_name_spelling_df['TeamNameSpelling']):\n",
    "        if lev_distance(team_name, possible_name) < min_dist:\n",
    "            min_dist = lev_distance(team_name, possible_name)\n",
    "            min_idx = idx\n",
    "    return team_name_spelling_df['TeamID'][min_idx]\n",
    "\n",
    "def find_DayNum(dirty_str_date, season_end_year, _):\n",
    "    \n",
    "    # Determine DayZero of Kaggle Season data frame based on moneyline data\n",
    "    season_idx = seasons_df[seasons_df[\"Season\"] == season_end_year][\"DayZero\"].index[0]\n",
    "    str_day_zero = seasons_df[\"DayZero\"][season_idx]\n",
    "    # Convert to datetime format\n",
    "    formatted_day_zero = datetime.strptime(str_day_zero,\"%Y-%m-%d %H:%M:%S\")\n",
    "    \n",
    "    # Convert moneyline data to datetime format\n",
    "    if len(dirty_str_date) == 3:\n",
    "        dirty_str_date = \"0\" + dirty_str_date\n",
    "        \n",
    "    if int(dirty_str_date[:2]) >= 10:\n",
    "        year = str(season_end_year - 1)\n",
    "    else:\n",
    "        year = str(season_end_year)\n",
    "\n",
    "        \n",
    "    clean_str_date = year + \"/\" + dirty_str_date[:2] + \"/\" + dirty_str_date[2:]\n",
    "    formatted_datetime = datetime.strptime(clean_str_date, '%Y/%m/%d')\n",
    "    \n",
    "    # Return number of days between two dates\n",
    "    return (formatted_datetime.date() - formatted_day_zero.date()).days\n",
    "    \n",
    "# Function to integrate moneyline data with Kaggle data based on TeamID\n",
    "def process_moneyline_data(moneyline_filename, end_year):\n",
    "    # Reading in file into DataFrame\n",
    "    moneyline_df = pd.read_excel(moneyline_filename)\n",
    "    \n",
    "    # Creating DataFrame\n",
    "    processed_moneyline_df = pd.DataFrame()\n",
    "    \n",
    "    # Creating column for Season \n",
    "    processed_moneyline_df[\"Season\"] = [end_year] * len(moneyline_df.index)\n",
    "    \n",
    "    # Finding DayNum value to integrate with other data\n",
    "    processed_moneyline_df['DayNum'] = moneyline_df['Date'].astype(str).apply(find_DayNum, args=(end_year,_))\n",
    "    \n",
    "    # Finding TeamID value to integrate with other data\n",
    "    processed_moneyline_df['TeamID'] = moneyline_df['Team'].apply(find_TeamID)\n",
    "    \n",
    "    # Adding Moneyline column\n",
    "    processed_moneyline_df['Moneyline'] = moneyline_df['ML']\n",
    "    \n",
    "    \n",
    "    return processed_moneyline_df  \n",
    "    "
   ]
  },
  {
   "cell_type": "code",
   "execution_count": 45,
   "id": "b04fd12b",
   "metadata": {},
   "outputs": [
    {
     "name": "stdout",
     "output_type": "stream",
     "text": [
      "Proccessing 2008 season \n",
      "File: ../data/NCAA-Moneyline/2007-08.xls\n",
      "Proccessing 2009 season \n",
      "File: ../data/NCAA-Moneyline/2008-09.xls\n",
      "Proccessing 2010 season \n",
      "File: ../data/NCAA-Moneyline/2009-10.xls\n",
      "Proccessing 2011 season \n",
      "File: ../data/NCAA-Moneyline/2010-11.xls\n",
      "Proccessing 2012 season \n",
      "File: ../data/NCAA-Moneyline/2011-12.xls\n",
      "Proccessing 2013 season \n",
      "File: ../data/NCAA-Moneyline/2012-13.xls\n",
      "Proccessing 2014 season \n",
      "File: ../data/NCAA-Moneyline/2013-14.xls\n",
      "Proccessing 2015 season \n",
      "File: ../data/NCAA-Moneyline/2014-15.xls\n",
      "Proccessing 2016 season \n",
      "File: ../data/NCAA-Moneyline/2015-16.xls\n",
      "Proccessing 2017 season \n",
      "File: ../data/NCAA-Moneyline/2016-17.xls\n",
      "Proccessing 2018 season \n",
      "File: ../data/NCAA-Moneyline/2017-18.xls\n",
      "Proccessing 2019 season \n",
      "File: ../data/NCAA-Moneyline/2018-19.xls\n",
      "Proccessing 2020 season \n",
      "File: ../data/NCAA-Moneyline/2019-20.xls\n",
      "Proccessing 2021 season \n",
      "File: ../data/NCAA-Moneyline/2020-21.xls\n",
      "Proccessing 2022 season \n",
      "File: ../data/NCAA-Moneyline/2021-22.xls\n"
     ]
    }
   ],
   "source": [
    "team_name_spelling_df = pd.read_csv(\"../data/Kaggle-Data/MDataFiles_Stage1/MTeamSpellings.csv\")\n",
    "seasons_df = pd.read_csv(\"../data//Kaggle-Data/MDataFiles_Stage1/MSeasons.csv\")\n",
    "moneyline_files = glob.glob(os.path.join(\"../data/NCAA-Moneyline/\", \"*.xls\"))\n",
    "moneyline_files.sort()\n",
    "list_of_years = list(range(2008, 2023))\n",
    "\n",
    "\n",
    "pre_proccessed_df = pd.DataFrame()\n",
    "\n",
    "for file, year in zip(moneyline_files, list_of_years):\n",
    "    print(\"Proccessing\",year,\"season\", \"\\nFile:\",file)\n",
    "    result_df = process_moneyline_data(file, year)\n",
    "    pre_proccessed_df = pre_proccessed_df.append(result_df, ignore_index=True)\n",
    "\n"
   ]
  },
  {
   "cell_type": "markdown",
   "id": "1adf72e5",
   "metadata": {},
   "source": [
    "#### Cleaning: Resolving missing/incorrect data "
   ]
  },
  {
   "cell_type": "code",
   "execution_count": 46,
   "id": "1913b120",
   "metadata": {},
   "outputs": [
    {
     "data": {
      "text/plain": [
       "Season        0\n",
       "DayNum        0\n",
       "TeamID        0\n",
       "Moneyline    76\n",
       "dtype: int64"
      ]
     },
     "execution_count": 46,
     "metadata": {},
     "output_type": "execute_result"
    }
   ],
   "source": [
    "pre_proccessed_df.isna().sum()"
   ]
  },
  {
   "cell_type": "code",
   "execution_count": 47,
   "id": "4a0221da",
   "metadata": {},
   "outputs": [
    {
     "data": {
      "text/plain": [
       "0"
      ]
     },
     "execution_count": 47,
     "metadata": {},
     "output_type": "execute_result"
    }
   ],
   "source": [
    "sum(pre_proccessed_df['Season'].apply(type) != int)"
   ]
  },
  {
   "cell_type": "code",
   "execution_count": 48,
   "id": "ca535692",
   "metadata": {},
   "outputs": [
    {
     "data": {
      "text/plain": [
       "0"
      ]
     },
     "execution_count": 48,
     "metadata": {},
     "output_type": "execute_result"
    }
   ],
   "source": [
    "sum(pre_proccessed_df['DayNum'].apply(type) != int)"
   ]
  },
  {
   "cell_type": "code",
   "execution_count": 49,
   "id": "3555ea5d",
   "metadata": {},
   "outputs": [
    {
     "data": {
      "text/plain": [
       "0"
      ]
     },
     "execution_count": 49,
     "metadata": {},
     "output_type": "execute_result"
    }
   ],
   "source": [
    "sum(pre_proccessed_df['TeamID'].apply(type) != int)"
   ]
  },
  {
   "cell_type": "code",
   "execution_count": 50,
   "id": "eafe7305",
   "metadata": {},
   "outputs": [
    {
     "data": {
      "text/plain": [
       "2365"
      ]
     },
     "execution_count": 50,
     "metadata": {},
     "output_type": "execute_result"
    }
   ],
   "source": [
    "sum(pre_proccessed_df['Moneyline'].apply(type) != int)"
   ]
  },
  {
   "cell_type": "code",
   "execution_count": 51,
   "id": "e6b080ed",
   "metadata": {},
   "outputs": [
    {
     "name": "stdout",
     "output_type": "stream",
     "text": [
      "Unique non-integer Moneyline values: ['NL', 61.5, 68.5, 'pk', '-145', '-130', '-149', '-', 128.5, -33.5, nan]\n"
     ]
    }
   ],
   "source": [
    "# Now we investigate the rows of Moneyline that have a non-integer value\n",
    "non_int_moneylines = pre_proccessed_df[pre_proccessed_df['Moneyline'].apply(type) != int]['Moneyline']\n",
    "\n",
    "unique_non_ints = []\n",
    "for val in non_int_moneylines:\n",
    "    if val not in unique_non_ints:\n",
    "        unique_non_ints.append(val)\n",
    "\n",
    "print(\"Unique non-integer Moneyline values:\",unique_non_ints)"
   ]
  },
  {
   "cell_type": "code",
   "execution_count": 52,
   "id": "b7194d8b",
   "metadata": {},
   "outputs": [],
   "source": [
    "# The negative string values and float values make sense... let's drop rows containing any of the others\n",
    "cleaned_df = pre_proccessed_df[pre_proccessed_df[\"Moneyline\"].str.contains(\"NL|pk|-|nan\")!=True]\n"
   ]
  },
  {
   "cell_type": "code",
   "execution_count": 53,
   "id": "048eb4e8",
   "metadata": {},
   "outputs": [
    {
     "data": {
      "text/plain": [
       "Season        0\n",
       "DayNum        0\n",
       "TeamID        0\n",
       "Moneyline    76\n",
       "dtype: int64"
      ]
     },
     "execution_count": 53,
     "metadata": {},
     "output_type": "execute_result"
    }
   ],
   "source": [
    "cleaned_df.isna().sum()"
   ]
  },
  {
   "cell_type": "code",
   "execution_count": 54,
   "id": "755259a4",
   "metadata": {},
   "outputs": [
    {
     "data": {
      "text/html": [
       "<div>\n",
       "<style scoped>\n",
       "    .dataframe tbody tr th:only-of-type {\n",
       "        vertical-align: middle;\n",
       "    }\n",
       "\n",
       "    .dataframe tbody tr th {\n",
       "        vertical-align: top;\n",
       "    }\n",
       "\n",
       "    .dataframe thead th {\n",
       "        text-align: right;\n",
       "    }\n",
       "</style>\n",
       "<table border=\"1\" class=\"dataframe\">\n",
       "  <thead>\n",
       "    <tr style=\"text-align: right;\">\n",
       "      <th></th>\n",
       "      <th>Season</th>\n",
       "      <th>DayNum</th>\n",
       "      <th>TeamID</th>\n",
       "      <th>Moneyline</th>\n",
       "    </tr>\n",
       "  </thead>\n",
       "  <tbody>\n",
       "    <tr>\n",
       "      <th>0</th>\n",
       "      <td>2008</td>\n",
       "      <td>0</td>\n",
       "      <td>1263</td>\n",
       "      <td>200</td>\n",
       "    </tr>\n",
       "    <tr>\n",
       "      <th>1</th>\n",
       "      <td>2008</td>\n",
       "      <td>0</td>\n",
       "      <td>1350</td>\n",
       "      <td>-240</td>\n",
       "    </tr>\n",
       "    <tr>\n",
       "      <th>2</th>\n",
       "      <td>2008</td>\n",
       "      <td>0</td>\n",
       "      <td>1404</td>\n",
       "      <td>13000</td>\n",
       "    </tr>\n",
       "    <tr>\n",
       "      <th>3</th>\n",
       "      <td>2008</td>\n",
       "      <td>0</td>\n",
       "      <td>1272</td>\n",
       "      <td>-39000</td>\n",
       "    </tr>\n",
       "    <tr>\n",
       "      <th>4</th>\n",
       "      <td>2008</td>\n",
       "      <td>1</td>\n",
       "      <td>1205</td>\n",
       "      <td>-160</td>\n",
       "    </tr>\n",
       "    <tr>\n",
       "      <th>...</th>\n",
       "      <td>...</td>\n",
       "      <td>...</td>\n",
       "      <td>...</td>\n",
       "      <td>...</td>\n",
       "    </tr>\n",
       "    <tr>\n",
       "      <th>125207</th>\n",
       "      <td>2022</td>\n",
       "      <td>152</td>\n",
       "      <td>1242</td>\n",
       "      <td>-190</td>\n",
       "    </tr>\n",
       "    <tr>\n",
       "      <th>125208</th>\n",
       "      <td>2022</td>\n",
       "      <td>152</td>\n",
       "      <td>1314</td>\n",
       "      <td>175</td>\n",
       "    </tr>\n",
       "    <tr>\n",
       "      <th>125209</th>\n",
       "      <td>2022</td>\n",
       "      <td>152</td>\n",
       "      <td>1181</td>\n",
       "      <td>-200</td>\n",
       "    </tr>\n",
       "    <tr>\n",
       "      <th>125210</th>\n",
       "      <td>2022</td>\n",
       "      <td>154</td>\n",
       "      <td>1314</td>\n",
       "      <td>190</td>\n",
       "    </tr>\n",
       "    <tr>\n",
       "      <th>125211</th>\n",
       "      <td>2022</td>\n",
       "      <td>154</td>\n",
       "      <td>1242</td>\n",
       "      <td>-220</td>\n",
       "    </tr>\n",
       "  </tbody>\n",
       "</table>\n",
       "<p>122851 rows × 4 columns</p>\n",
       "</div>"
      ],
      "text/plain": [
       "        Season  DayNum  TeamID Moneyline\n",
       "0         2008       0    1263       200\n",
       "1         2008       0    1350      -240\n",
       "2         2008       0    1404     13000\n",
       "3         2008       0    1272    -39000\n",
       "4         2008       1    1205      -160\n",
       "...        ...     ...     ...       ...\n",
       "125207    2022     152    1242      -190\n",
       "125208    2022     152    1314       175\n",
       "125209    2022     152    1181      -200\n",
       "125210    2022     154    1314       190\n",
       "125211    2022     154    1242      -220\n",
       "\n",
       "[122851 rows x 4 columns]"
      ]
     },
     "execution_count": 54,
     "metadata": {},
     "output_type": "execute_result"
    }
   ],
   "source": [
    "# Finally, drop NAs\n",
    "cleaned_df = cleaned_df.dropna()\n",
    "cleaned_df"
   ]
  },
  {
   "cell_type": "code",
   "execution_count": 55,
   "id": "bc3578a3",
   "metadata": {},
   "outputs": [],
   "source": [
    "cleaned_df.to_csv(\"../data/Pre-Processed-Data/CleanedMoneylineData.csv\")"
   ]
  }
 ],
 "metadata": {
  "interpreter": {
   "hash": "aee8b7b246df8f9039afb4144a1f6fd8d2ca17a180786b69acc140d282b71a49"
  },
  "kernelspec": {
   "display_name": "Python 3 (ipykernel)",
   "language": "python",
   "name": "python3"
  },
  "language_info": {
   "codemirror_mode": {
    "name": "ipython",
    "version": 3
   },
   "file_extension": ".py",
   "mimetype": "text/x-python",
   "name": "python",
   "nbconvert_exporter": "python",
   "pygments_lexer": "ipython3",
   "version": "3.9.6"
  }
 },
 "nbformat": 4,
 "nbformat_minor": 5
}
