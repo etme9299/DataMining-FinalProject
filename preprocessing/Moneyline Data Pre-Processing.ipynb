{
 "cells": [
  {
   "cell_type": "markdown",
   "id": "d7c796ca",
   "metadata": {},
   "source": [
    "## Moneyline Data Pre-Processing\n",
    "#### CSCI 4502 Final Project\n",
    "#### Ethan Meyer and Ishika Patel"
   ]
  },
  {
   "cell_type": "markdown",
   "id": "6e1afec5",
   "metadata": {},
   "source": [
    "#### Pre-Processing: Creating columns that will match with Keys of Kaggle Data"
   ]
  },
  {
   "cell_type": "code",
   "execution_count": 348,
   "id": "bd2882cc",
   "metadata": {},
   "outputs": [],
   "source": [
    "import pandas as pd\n",
    "import numpy as np\n",
    "import os\n",
    "import glob\n",
    "import sys\n",
    "from Levenshtein import distance as lev_distance\n",
    "from datetime import datetime\n",
    "import warnings\n",
    "from pandas.core.common import SettingWithCopyWarning\n",
    "warnings.simplefilter(action=\"ignore\", category=SettingWithCopyWarning)\n"
   ]
  },
  {
   "cell_type": "code",
   "execution_count": 415,
   "id": "caab416e",
   "metadata": {},
   "outputs": [],
   "source": [
    "# Function to return TeamID value from Kaggle data based on string similarity with moneyline data\n",
    "def find_TeamID(team_name):\n",
    "    min_dist = 1e10\n",
    "    for idx, possible_name in enumerate(team_name_spelling_df['TeamNameSpelling']):\n",
    "        if lev_distance(team_name, possible_name) < min_dist:\n",
    "            min_dist = lev_distance(team_name, possible_name)\n",
    "            min_idx = idx\n",
    "    return team_name_spelling_df['TeamID'][min_idx]\n",
    "\n",
    "def find_DayNum(dirty_str_date, season_end_year, _):\n",
    "    \n",
    "    # Determine DayZero of Kaggle Season data frame based on moneyline data\n",
    "    season_idx = seasons_df[seasons_df[\"Season\"] == season_end_year][\"DayZero\"].index[0]\n",
    "    str_day_zero = seasons_df[\"DayZero\"][season_idx]\n",
    "    # Convert to datetime format\n",
    "    formatted_day_zero = datetime.strptime(str_day_zero,\"%Y-%m-%d %H:%M:%S\")\n",
    "    \n",
    "    # Convert moneyline data to datetime format\n",
    "    if len(dirty_str_date) == 3:\n",
    "        dirty_str_date = \"0\" + dirty_str_date\n",
    "        \n",
    "    if int(dirty_str_date[:2]) >= 10:\n",
    "        year = str(season_end_year - 1)\n",
    "    else:\n",
    "        year = str(season_end_year)\n",
    "\n",
    "        \n",
    "    clean_str_date = year + \"/\" + dirty_str_date[:2] + \"/\" + dirty_str_date[2:]\n",
    "    formatted_datetime = datetime.strptime(clean_str_date, '%Y/%m/%d')\n",
    "    \n",
    "    # Return number of days between two dates\n",
    "    return (formatted_datetime.date() - formatted_day_zero.date()).days\n",
    "    \n",
    "# Function to integrate moneyline data with Kaggle data based on TeamID\n",
    "def process_moneyline_data(moneyline_filename, end_year):\n",
    "    # Reading in file into DataFrame\n",
    "    moneyline_df = pd.read_excel(moneyline_filename)\n",
    "    \n",
    "    # Creating DataFrame\n",
    "    processed_moneyline_df = pd.DataFrame()\n",
    "    \n",
    "    # Creating column for Season \n",
    "    processed_moneyline_df[\"Season\"] = [end_year] * len(moneyline_df.index)\n",
    "    \n",
    "    # Finding DayNum value to integrate with other data\n",
    "    processed_moneyline_df['DayNum'] = moneyline_df['Date'].astype(str).apply(find_DayNum, args=(end_year,_))\n",
    "    \n",
    "    # Finding TeamID value to integrate with other data\n",
    "    processed_moneyline_df['TeamID'] = moneyline_df['Team'].apply(find_TeamID)\n",
    "    \n",
    "    # Adding Moneyline column\n",
    "    processed_moneyline_df['Moneyline'] = moneyline_df['ML']\n",
    "    \n",
    "    \n",
    "    return processed_moneyline_df  \n",
    "    "
   ]
  },
  {
   "cell_type": "code",
   "execution_count": 417,
   "id": "b04fd12b",
   "metadata": {},
   "outputs": [
    {
     "name": "stdout",
     "output_type": "stream",
     "text": [
      "Proccessing 2008 season \n",
      "File: ../data/NCAA-Moneyline/2007-08.xls\n",
      "Proccessing 2009 season \n",
      "File: ../data/NCAA-Moneyline/2008-09.xls\n",
      "Proccessing 2010 season \n",
      "File: ../data/NCAA-Moneyline/2009-10.xls\n",
      "Proccessing 2011 season \n",
      "File: ../data/NCAA-Moneyline/2010-11.xls\n",
      "Proccessing 2012 season \n",
      "File: ../data/NCAA-Moneyline/2011-12.xls\n",
      "Proccessing 2013 season \n",
      "File: ../data/NCAA-Moneyline/2012-13.xls\n",
      "Proccessing 2014 season \n",
      "File: ../data/NCAA-Moneyline/2013-14.xls\n",
      "Proccessing 2015 season \n",
      "File: ../data/NCAA-Moneyline/2014-15.xls\n",
      "Proccessing 2016 season \n",
      "File: ../data/NCAA-Moneyline/2015-16.xls\n",
      "Proccessing 2017 season \n",
      "File: ../data/NCAA-Moneyline/2016-17.xls\n",
      "Proccessing 2018 season \n",
      "File: ../data/NCAA-Moneyline/2017-18.xls\n",
      "Proccessing 2019 season \n",
      "File: ../data/NCAA-Moneyline/2018-19.xls\n",
      "Proccessing 2020 season \n",
      "File: ../data/NCAA-Moneyline/2019-20.xls\n",
      "Proccessing 2021 season \n",
      "File: ../data/NCAA-Moneyline/2020-21.xls\n",
      "Proccessing 2022 season \n",
      "File: ../data/NCAA-Moneyline/2021-22.xls\n"
     ]
    }
   ],
   "source": [
    "team_name_spelling_df = pd.read_csv(\"../data/Kaggle-Data/MDataFiles_Stage1/MTeamSpellings_1.csv\")\n",
    "seasons_df = pd.read_csv(\"../data//Kaggle-Data/MDataFiles_Stage1/MSeasons.csv\")\n",
    "moneyline_files = glob.glob(os.path.join(\"../data/NCAA-Moneyline/\", \"*.xls\"))\n",
    "moneyline_files.sort()\n",
    "list_of_years = list(range(2008, 2023))\n",
    "\n",
    "\n",
    "pre_proccessed_df = pd.DataFrame()\n",
    "\n",
    "for file, year in zip(moneyline_files, list_of_years):\n",
    "    print(\"Proccessing\",year,\"season\", \"\\nFile:\",file)\n",
    "    result_df = process_moneyline_data(file, year)\n",
    "    pre_proccessed_df = pre_proccessed_df.append(result_df, ignore_index=True)\n",
    "\n"
   ]
  },
  {
   "cell_type": "markdown",
   "id": "2430f0ec",
   "metadata": {},
   "source": [
    "#### Cleaning: Resolving missing/incorrect data "
   ]
  },
  {
   "cell_type": "code",
   "execution_count": 433,
   "id": "efbbed7d",
   "metadata": {},
   "outputs": [
    {
     "data": {
      "text/plain": [
       "Season        0\n",
       "DayNum        0\n",
       "TeamID        0\n",
       "Moneyline    76\n",
       "dtype: int64"
      ]
     },
     "execution_count": 433,
     "metadata": {},
     "output_type": "execute_result"
    }
   ],
   "source": [
    "pre_proccessed_df.isna().sum()"
   ]
  },
  {
   "cell_type": "code",
   "execution_count": 436,
   "id": "343e1dcd",
   "metadata": {},
   "outputs": [
    {
     "data": {
      "text/plain": [
       "0"
      ]
     },
     "execution_count": 436,
     "metadata": {},
     "output_type": "execute_result"
    }
   ],
   "source": [
    "sum(pre_proccessed_df['Season'].apply(type) != int)"
   ]
  },
  {
   "cell_type": "code",
   "execution_count": 439,
   "id": "b474f06e",
   "metadata": {},
   "outputs": [
    {
     "data": {
      "text/plain": [
       "0"
      ]
     },
     "execution_count": 439,
     "metadata": {},
     "output_type": "execute_result"
    }
   ],
   "source": [
    "sum(pre_proccessed_df['DayNum'].apply(type) != int)"
   ]
  },
  {
   "cell_type": "code",
   "execution_count": 440,
   "id": "5e9c8250",
   "metadata": {},
   "outputs": [
    {
     "data": {
      "text/plain": [
       "0"
      ]
     },
     "execution_count": 440,
     "metadata": {},
     "output_type": "execute_result"
    }
   ],
   "source": [
    "sum(pre_proccessed_df['TeamID'].apply(type) != int)"
   ]
  },
  {
   "cell_type": "code",
   "execution_count": 441,
   "id": "ae87f343",
   "metadata": {},
   "outputs": [
    {
     "data": {
      "text/plain": [
       "2365"
      ]
     },
     "execution_count": 441,
     "metadata": {},
     "output_type": "execute_result"
    }
   ],
   "source": [
    "sum(pre_proccessed_df['Moneyline'].apply(type) != int)"
   ]
  },
  {
   "cell_type": "code",
   "execution_count": 485,
   "id": "5098b0e3",
   "metadata": {},
   "outputs": [
    {
     "name": "stdout",
     "output_type": "stream",
     "text": [
      "Unique non-integer Moneyline values: ['NL', 61.5, 68.5, 'pk', '-145', '-130', '-149', '-', 128.5, -33.5, nan]\n"
     ]
    }
   ],
   "source": [
    "# Now we investigate the rows of Moneyline that have a non-integer value\n",
    "non_int_moneylines = pre_proccessed_df[pre_proccessed_df['Moneyline'].apply(type) != int]['Moneyline']\n",
    "\n",
    "unique_non_ints = []\n",
    "for val in non_int_moneylines:\n",
    "    if val not in unique_non_ints:\n",
    "        unique_non_ints.append(val)\n",
    "\n",
    "print(\"Unique non-integer Moneyline values:\",unique_non_ints)"
   ]
  },
  {
   "cell_type": "code",
   "execution_count": 486,
   "id": "d77213eb",
   "metadata": {},
   "outputs": [],
   "source": [
    "# The negative string values and float values make sense... let's drop rows containing any of the others\n",
    "cleaned_df = pre_proccessed_df[pre_proccessed_df[\"Moneyline\"].str.contains(\"NL|pk|-|nan\")!=True]\n"
   ]
  },
  {
   "cell_type": "code",
   "execution_count": 487,
   "id": "7e368db8",
   "metadata": {},
   "outputs": [
    {
     "data": {
      "text/plain": [
       "Season        0\n",
       "DayNum        0\n",
       "TeamID        0\n",
       "Moneyline    76\n",
       "dtype: int64"
      ]
     },
     "execution_count": 487,
     "metadata": {},
     "output_type": "execute_result"
    }
   ],
   "source": [
    "cleaned_df.isna().sum()"
   ]
  },
  {
   "cell_type": "code",
   "execution_count": 484,
   "id": "066788ff",
   "metadata": {},
   "outputs": [],
   "source": [
    "# Finally, drop NAs\n",
    "cleaned_df = cleaned_df.dropna()"
   ]
  }
 ],
 "metadata": {
  "interpreter": {
   "hash": "aee8b7b246df8f9039afb4144a1f6fd8d2ca17a180786b69acc140d282b71a49"
  },
  "kernelspec": {
   "display_name": "Python 3 (ipykernel)",
   "language": "python",
   "name": "python3"
  },
  "language_info": {
   "codemirror_mode": {
    "name": "ipython",
    "version": 3
   },
   "file_extension": ".py",
   "mimetype": "text/x-python",
   "name": "python",
   "nbconvert_exporter": "python",
   "pygments_lexer": "ipython3",
   "version": "3.9.6"
  }
 },
 "nbformat": 4,
 "nbformat_minor": 5
}
