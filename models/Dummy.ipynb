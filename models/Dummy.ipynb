{
 "cells": [
  {
   "cell_type": "code",
   "execution_count": 1,
   "id": "a9e0f423",
   "metadata": {},
   "outputs": [],
   "source": [
    "import pandas as pd\n",
    "import numpy as np\n",
    "import warnings\n",
    "from pandas.core.common import SettingWithCopyWarning\n",
    "warnings.simplefilter(action=\"ignore\", category=SettingWithCopyWarning)"
   ]
  },
  {
   "cell_type": "code",
   "execution_count": 2,
   "id": "dca61f0d",
   "metadata": {},
   "outputs": [],
   "source": [
    "# Load Tournament results and filter to year > 2008 (oldest moneyline data)\n",
    "tournament_compact_results_df = pd.read_csv(\"../data//Kaggle-Data/MDataFiles_Stage1/MNCAATourneyCompactResults.csv\")\n",
    "tournament_compact_results_df = tournament_compact_results_df[tournament_compact_results_df['Season'] >= 2008]\n",
    "\n",
    "moneyline_df = pd.read_csv(\"../data/Pre-Processed-Data/CleanedMoneylineData.csv\",index_col=0)"
   ]
  },
  {
   "cell_type": "code",
   "execution_count": 3,
   "id": "f79cfa33",
   "metadata": {},
   "outputs": [
    {
     "data": {
      "text/html": [
       "<div>\n",
       "<style scoped>\n",
       "    .dataframe tbody tr th:only-of-type {\n",
       "        vertical-align: middle;\n",
       "    }\n",
       "\n",
       "    .dataframe tbody tr th {\n",
       "        vertical-align: top;\n",
       "    }\n",
       "\n",
       "    .dataframe thead th {\n",
       "        text-align: right;\n",
       "    }\n",
       "</style>\n",
       "<table border=\"1\" class=\"dataframe\">\n",
       "  <thead>\n",
       "    <tr style=\"text-align: right;\">\n",
       "      <th></th>\n",
       "      <th>Season</th>\n",
       "      <th>DayNum</th>\n",
       "      <th>WTeamID</th>\n",
       "      <th>WScore</th>\n",
       "      <th>LTeamID</th>\n",
       "      <th>LScore</th>\n",
       "      <th>WLoc</th>\n",
       "      <th>NumOT</th>\n",
       "    </tr>\n",
       "  </thead>\n",
       "  <tbody>\n",
       "    <tr>\n",
       "      <th>1456</th>\n",
       "      <td>2008</td>\n",
       "      <td>134</td>\n",
       "      <td>1291</td>\n",
       "      <td>69</td>\n",
       "      <td>1164</td>\n",
       "      <td>60</td>\n",
       "      <td>N</td>\n",
       "      <td>0</td>\n",
       "    </tr>\n",
       "    <tr>\n",
       "      <th>1457</th>\n",
       "      <td>2008</td>\n",
       "      <td>136</td>\n",
       "      <td>1181</td>\n",
       "      <td>71</td>\n",
       "      <td>1125</td>\n",
       "      <td>70</td>\n",
       "      <td>N</td>\n",
       "      <td>0</td>\n",
       "    </tr>\n",
       "    <tr>\n",
       "      <th>1458</th>\n",
       "      <td>2008</td>\n",
       "      <td>136</td>\n",
       "      <td>1242</td>\n",
       "      <td>85</td>\n",
       "      <td>1340</td>\n",
       "      <td>61</td>\n",
       "      <td>N</td>\n",
       "      <td>0</td>\n",
       "    </tr>\n",
       "    <tr>\n",
       "      <th>1459</th>\n",
       "      <td>2008</td>\n",
       "      <td>136</td>\n",
       "      <td>1243</td>\n",
       "      <td>80</td>\n",
       "      <td>1425</td>\n",
       "      <td>67</td>\n",
       "      <td>N</td>\n",
       "      <td>0</td>\n",
       "    </tr>\n",
       "    <tr>\n",
       "      <th>1460</th>\n",
       "      <td>2008</td>\n",
       "      <td>136</td>\n",
       "      <td>1266</td>\n",
       "      <td>74</td>\n",
       "      <td>1246</td>\n",
       "      <td>66</td>\n",
       "      <td>N</td>\n",
       "      <td>0</td>\n",
       "    </tr>\n",
       "  </tbody>\n",
       "</table>\n",
       "</div>"
      ],
      "text/plain": [
       "      Season  DayNum  WTeamID  WScore  LTeamID  LScore WLoc  NumOT\n",
       "1456    2008     134     1291      69     1164      60    N      0\n",
       "1457    2008     136     1181      71     1125      70    N      0\n",
       "1458    2008     136     1242      85     1340      61    N      0\n",
       "1459    2008     136     1243      80     1425      67    N      0\n",
       "1460    2008     136     1266      74     1246      66    N      0"
      ]
     },
     "execution_count": 3,
     "metadata": {},
     "output_type": "execute_result"
    }
   ],
   "source": [
    "tournament_compact_results_df.head()"
   ]
  },
  {
   "cell_type": "code",
   "execution_count": 4,
   "id": "4b5c6e46",
   "metadata": {},
   "outputs": [
    {
     "data": {
      "text/html": [
       "<div>\n",
       "<style scoped>\n",
       "    .dataframe tbody tr th:only-of-type {\n",
       "        vertical-align: middle;\n",
       "    }\n",
       "\n",
       "    .dataframe tbody tr th {\n",
       "        vertical-align: top;\n",
       "    }\n",
       "\n",
       "    .dataframe thead th {\n",
       "        text-align: right;\n",
       "    }\n",
       "</style>\n",
       "<table border=\"1\" class=\"dataframe\">\n",
       "  <thead>\n",
       "    <tr style=\"text-align: right;\">\n",
       "      <th></th>\n",
       "      <th>Season</th>\n",
       "      <th>DayNum</th>\n",
       "      <th>TeamID</th>\n",
       "      <th>Moneyline</th>\n",
       "    </tr>\n",
       "  </thead>\n",
       "  <tbody>\n",
       "    <tr>\n",
       "      <th>0</th>\n",
       "      <td>2008</td>\n",
       "      <td>0</td>\n",
       "      <td>1263</td>\n",
       "      <td>200.0</td>\n",
       "    </tr>\n",
       "    <tr>\n",
       "      <th>1</th>\n",
       "      <td>2008</td>\n",
       "      <td>0</td>\n",
       "      <td>1350</td>\n",
       "      <td>-240.0</td>\n",
       "    </tr>\n",
       "    <tr>\n",
       "      <th>2</th>\n",
       "      <td>2008</td>\n",
       "      <td>0</td>\n",
       "      <td>1404</td>\n",
       "      <td>13000.0</td>\n",
       "    </tr>\n",
       "    <tr>\n",
       "      <th>3</th>\n",
       "      <td>2008</td>\n",
       "      <td>0</td>\n",
       "      <td>1272</td>\n",
       "      <td>-39000.0</td>\n",
       "    </tr>\n",
       "    <tr>\n",
       "      <th>4</th>\n",
       "      <td>2008</td>\n",
       "      <td>1</td>\n",
       "      <td>1205</td>\n",
       "      <td>-160.0</td>\n",
       "    </tr>\n",
       "  </tbody>\n",
       "</table>\n",
       "</div>"
      ],
      "text/plain": [
       "   Season  DayNum  TeamID  Moneyline\n",
       "0    2008       0    1263      200.0\n",
       "1    2008       0    1350     -240.0\n",
       "2    2008       0    1404    13000.0\n",
       "3    2008       0    1272   -39000.0\n",
       "4    2008       1    1205     -160.0"
      ]
     },
     "execution_count": 4,
     "metadata": {},
     "output_type": "execute_result"
    }
   ],
   "source": [
    "moneyline_df.head()"
   ]
  },
  {
   "cell_type": "code",
   "execution_count": 5,
   "id": "d9d44d27",
   "metadata": {},
   "outputs": [],
   "source": [
    "winner_moneylines = pd.merge(tournament_compact_results_df, moneyline_df, how='left', \n",
    "                             left_on=['Season','DayNum','WTeamID'], \n",
    "                             right_on = ['Season','DayNum','TeamID'])[[\"Season\", \"DayNum\", \"WTeamID\", \"LTeamID\",\"Moneyline\"]]\n",
    "\n",
    "winner_moneylines.rename(columns = {\"Moneyline\": \"WMoneyline\"}, inplace = True)"
   ]
  },
  {
   "cell_type": "code",
   "execution_count": 6,
   "id": "7c89ce75",
   "metadata": {},
   "outputs": [
    {
     "data": {
      "text/html": [
       "<div>\n",
       "<style scoped>\n",
       "    .dataframe tbody tr th:only-of-type {\n",
       "        vertical-align: middle;\n",
       "    }\n",
       "\n",
       "    .dataframe tbody tr th {\n",
       "        vertical-align: top;\n",
       "    }\n",
       "\n",
       "    .dataframe thead th {\n",
       "        text-align: right;\n",
       "    }\n",
       "</style>\n",
       "<table border=\"1\" class=\"dataframe\">\n",
       "  <thead>\n",
       "    <tr style=\"text-align: right;\">\n",
       "      <th></th>\n",
       "      <th>Season</th>\n",
       "      <th>DayNum</th>\n",
       "      <th>WTeamID</th>\n",
       "      <th>LTeamID</th>\n",
       "      <th>WMoneyline</th>\n",
       "      <th>LMoneyline</th>\n",
       "    </tr>\n",
       "  </thead>\n",
       "  <tbody>\n",
       "    <tr>\n",
       "      <th>0</th>\n",
       "      <td>2008</td>\n",
       "      <td>134</td>\n",
       "      <td>1291</td>\n",
       "      <td>1164</td>\n",
       "      <td>-375.0</td>\n",
       "      <td>315.0</td>\n",
       "    </tr>\n",
       "    <tr>\n",
       "      <th>1</th>\n",
       "      <td>2008</td>\n",
       "      <td>136</td>\n",
       "      <td>1181</td>\n",
       "      <td>1125</td>\n",
       "      <td>-4500.0</td>\n",
       "      <td>2250.0</td>\n",
       "    </tr>\n",
       "    <tr>\n",
       "      <th>2</th>\n",
       "      <td>2008</td>\n",
       "      <td>136</td>\n",
       "      <td>1242</td>\n",
       "      <td>1340</td>\n",
       "      <td>-5000.0</td>\n",
       "      <td>2500.0</td>\n",
       "    </tr>\n",
       "    <tr>\n",
       "      <th>3</th>\n",
       "      <td>2008</td>\n",
       "      <td>136</td>\n",
       "      <td>1243</td>\n",
       "      <td>1425</td>\n",
       "      <td>140.0</td>\n",
       "      <td>-160.0</td>\n",
       "    </tr>\n",
       "    <tr>\n",
       "      <th>4</th>\n",
       "      <td>2008</td>\n",
       "      <td>136</td>\n",
       "      <td>1266</td>\n",
       "      <td>1246</td>\n",
       "      <td>-275.0</td>\n",
       "      <td>235.0</td>\n",
       "    </tr>\n",
       "  </tbody>\n",
       "</table>\n",
       "</div>"
      ],
      "text/plain": [
       "   Season  DayNum  WTeamID  LTeamID  WMoneyline  LMoneyline\n",
       "0    2008     134     1291     1164      -375.0       315.0\n",
       "1    2008     136     1181     1125     -4500.0      2250.0\n",
       "2    2008     136     1242     1340     -5000.0      2500.0\n",
       "3    2008     136     1243     1425       140.0      -160.0\n",
       "4    2008     136     1266     1246      -275.0       235.0"
      ]
     },
     "execution_count": 6,
     "metadata": {},
     "output_type": "execute_result"
    }
   ],
   "source": [
    "tournament_moneyline_df = pd.merge(winner_moneylines, moneyline_df, how='left', \n",
    "                             left_on=['Season','DayNum','LTeamID'], \n",
    "                             right_on = ['Season','DayNum','TeamID'])[[\"Season\", \"DayNum\", \"WTeamID\", \"LTeamID\",\"WMoneyline\",\"Moneyline\"]]\n",
    "\n",
    "tournament_moneyline_df.rename(columns = {\"Moneyline\": \"LMoneyline\"}, inplace = True)\n",
    "\n",
    "tournament_moneyline_df.head()"
   ]
  },
  {
   "cell_type": "code",
   "execution_count": 7,
   "id": "82c139e4",
   "metadata": {},
   "outputs": [
    {
     "data": {
      "text/plain": [
       "Season        0\n",
       "DayNum        0\n",
       "WTeamID       0\n",
       "LTeamID       0\n",
       "WMoneyline    0\n",
       "LMoneyline    3\n",
       "dtype: int64"
      ]
     },
     "execution_count": 7,
     "metadata": {},
     "output_type": "execute_result"
    }
   ],
   "source": [
    "tournament_moneyline_df.isna().sum()"
   ]
  },
  {
   "cell_type": "code",
   "execution_count": 8,
   "id": "6efa3151",
   "metadata": {},
   "outputs": [],
   "source": [
    "# For now, drop NAs\n",
    "tournament_moneyline_df = tournament_moneyline_df.dropna()"
   ]
  },
  {
   "cell_type": "markdown",
   "id": "260f2d30",
   "metadata": {},
   "source": [
    "#### Determining implied probability"
   ]
  },
  {
   "cell_type": "code",
   "execution_count": 9,
   "id": "bf22e647",
   "metadata": {},
   "outputs": [],
   "source": [
    "def calc_implied_p(moneyline):\n",
    "    if moneyline < 0:\n",
    "        return (-1*(moneyline)) / (-1*(moneyline) + 100)\n",
    "    else:\n",
    "        return 100 / (moneyline + 100)\n",
    "    \n",
    "def calc_net_payout(moneyline, amount_bet = 1):\n",
    "    if moneyline < 0:\n",
    "        return -amount_bet*(100/moneyline)\n",
    "    else:\n",
    "        return amount_bet*(moneyline/100)\n"
   ]
  },
  {
   "cell_type": "code",
   "execution_count": 10,
   "id": "581fe838",
   "metadata": {},
   "outputs": [
    {
     "data": {
      "text/html": [
       "<div>\n",
       "<style scoped>\n",
       "    .dataframe tbody tr th:only-of-type {\n",
       "        vertical-align: middle;\n",
       "    }\n",
       "\n",
       "    .dataframe tbody tr th {\n",
       "        vertical-align: top;\n",
       "    }\n",
       "\n",
       "    .dataframe thead th {\n",
       "        text-align: right;\n",
       "    }\n",
       "</style>\n",
       "<table border=\"1\" class=\"dataframe\">\n",
       "  <thead>\n",
       "    <tr style=\"text-align: right;\">\n",
       "      <th></th>\n",
       "      <th>Season</th>\n",
       "      <th>DayNum</th>\n",
       "      <th>WTeamID</th>\n",
       "      <th>LTeamID</th>\n",
       "      <th>WMoneyline</th>\n",
       "      <th>LMoneyline</th>\n",
       "      <th>WTeam_Win%</th>\n",
       "      <th>LTeam_Win%</th>\n",
       "    </tr>\n",
       "  </thead>\n",
       "  <tbody>\n",
       "    <tr>\n",
       "      <th>0</th>\n",
       "      <td>2008</td>\n",
       "      <td>134</td>\n",
       "      <td>1291</td>\n",
       "      <td>1164</td>\n",
       "      <td>-375.0</td>\n",
       "      <td>315.0</td>\n",
       "      <td>0.789474</td>\n",
       "      <td>0.240964</td>\n",
       "    </tr>\n",
       "    <tr>\n",
       "      <th>1</th>\n",
       "      <td>2008</td>\n",
       "      <td>136</td>\n",
       "      <td>1181</td>\n",
       "      <td>1125</td>\n",
       "      <td>-4500.0</td>\n",
       "      <td>2250.0</td>\n",
       "      <td>0.978261</td>\n",
       "      <td>0.042553</td>\n",
       "    </tr>\n",
       "    <tr>\n",
       "      <th>2</th>\n",
       "      <td>2008</td>\n",
       "      <td>136</td>\n",
       "      <td>1242</td>\n",
       "      <td>1340</td>\n",
       "      <td>-5000.0</td>\n",
       "      <td>2500.0</td>\n",
       "      <td>0.980392</td>\n",
       "      <td>0.038462</td>\n",
       "    </tr>\n",
       "    <tr>\n",
       "      <th>3</th>\n",
       "      <td>2008</td>\n",
       "      <td>136</td>\n",
       "      <td>1243</td>\n",
       "      <td>1425</td>\n",
       "      <td>140.0</td>\n",
       "      <td>-160.0</td>\n",
       "      <td>0.416667</td>\n",
       "      <td>0.615385</td>\n",
       "    </tr>\n",
       "    <tr>\n",
       "      <th>4</th>\n",
       "      <td>2008</td>\n",
       "      <td>136</td>\n",
       "      <td>1266</td>\n",
       "      <td>1246</td>\n",
       "      <td>-275.0</td>\n",
       "      <td>235.0</td>\n",
       "      <td>0.733333</td>\n",
       "      <td>0.298507</td>\n",
       "    </tr>\n",
       "  </tbody>\n",
       "</table>\n",
       "</div>"
      ],
      "text/plain": [
       "   Season  DayNum  WTeamID  LTeamID  WMoneyline  LMoneyline  WTeam_Win%  \\\n",
       "0    2008     134     1291     1164      -375.0       315.0    0.789474   \n",
       "1    2008     136     1181     1125     -4500.0      2250.0    0.978261   \n",
       "2    2008     136     1242     1340     -5000.0      2500.0    0.980392   \n",
       "3    2008     136     1243     1425       140.0      -160.0    0.416667   \n",
       "4    2008     136     1266     1246      -275.0       235.0    0.733333   \n",
       "\n",
       "   LTeam_Win%  \n",
       "0    0.240964  \n",
       "1    0.042553  \n",
       "2    0.038462  \n",
       "3    0.615385  \n",
       "4    0.298507  "
      ]
     },
     "execution_count": 10,
     "metadata": {},
     "output_type": "execute_result"
    }
   ],
   "source": [
    "tournament_probability_df = tournament_moneyline_df\n",
    "tournament_probability_df[\"WTeam_Win%\"] = tournament_probability_df[\"WMoneyline\"].apply(calc_implied_p)\n",
    "tournament_probability_df[\"LTeam_Win%\"] = tournament_probability_df[\"LMoneyline\"].apply(calc_implied_p)\n",
    "\n",
    "tournament_probability_df.head()"
   ]
  },
  {
   "cell_type": "markdown",
   "id": "f862336a",
   "metadata": {},
   "source": [
    "#### Strategy 1: Always bet 1 unit on favorite"
   ]
  },
  {
   "cell_type": "code",
   "execution_count": 11,
   "id": "c9746522",
   "metadata": {},
   "outputs": [],
   "source": [
    "def bet_favorite(df):\n",
    "    initial_investment = len(df.index) # 1 unit for every game\n",
    "    running_balance = initial_investment\n",
    "    num_correct = 0\n",
    "    \n",
    "    for idx, row in df.iterrows():\n",
    "        if row[\"WTeam_Win%\"] > row[\"LTeam_Win%\"]: # The favorite was the winning team \n",
    "            running_balance += calc_net_payout(row[\"WMoneyline\"])\n",
    "            num_correct += 1\n",
    "        else: # The favorite was the losing team\n",
    "            running_balance -= 1\n",
    "\n",
    "    bet_favorite_ROI = (running_balance - initial_investment)/initial_investment\n",
    "    accuracy = num_correct / initial_investment\n",
    "    \n",
    "    return bet_favorite_ROI, accuracy"
   ]
  },
  {
   "cell_type": "markdown",
   "id": "25e3ff84",
   "metadata": {},
   "source": [
    "#### Strategy 2: Always bet 1 unit on underdog"
   ]
  },
  {
   "cell_type": "code",
   "execution_count": 12,
   "id": "8ebd3b72",
   "metadata": {},
   "outputs": [],
   "source": [
    "def bet_underdog(df):\n",
    "    initial_investment = len(df.index) # 1 unit for every game\n",
    "    running_balance = initial_investment\n",
    "    num_correct = 0\n",
    "    \n",
    "    for idx, row in df.iterrows():\n",
    "        if row[\"WTeam_Win%\"] < row[\"LTeam_Win%\"]: # The underdog was the winning team \n",
    "            running_balance += calc_net_payout(row[\"WMoneyline\"])\n",
    "            num_correct += 1\n",
    "        else: # The favorite was the losing team\n",
    "            running_balance -= 1\n",
    "\n",
    "    bet_underdog_ROI = (running_balance - initial_investment)/initial_investment \n",
    "    accuracy = num_correct / initial_investment\n",
    "    \n",
    "    return bet_underdog_ROI, accuracy"
   ]
  },
  {
   "cell_type": "markdown",
   "id": "fb89cbf9",
   "metadata": {},
   "source": [
    "#### Strategy 3: Bet 1 unit in alignment with random choice based on implied win%"
   ]
  },
  {
   "cell_type": "code",
   "execution_count": 13,
   "id": "c86e2dcc",
   "metadata": {},
   "outputs": [],
   "source": [
    "def bet_mixed(df, n_iter=30):\n",
    "    ROI_tracker = np.empty(n_iter)\n",
    "    accuracy_tracker = np.empty(n_iter)\n",
    "    \n",
    "    for trial_num in range(n_iter): # Conduct several trials to reduce chance\n",
    "        \n",
    "        initial_investment = len(df.index) # 1 unit for every game\n",
    "        running_balance = initial_investment\n",
    "        num_correct = 0\n",
    "        \n",
    "        for idx, row in df.iterrows():\n",
    "            normalized_p_win = row[\"WTeam_Win%\"]/(row[\"WTeam_Win%\"] + row[\"LTeam_Win%\"])\n",
    "            normalized_p_lose = row[\"LTeam_Win%\"]/(row[\"WTeam_Win%\"] + row[\"LTeam_Win%\"])\n",
    "            bet_on = np.random.choice([\"winner\",\"loser\"], p=[normalized_p_win,normalized_p_lose])\n",
    "            if bet_on == \"winner\":\n",
    "                running_balance += calc_net_payout(row[\"WMoneyline\"])\n",
    "                num_correct += 1\n",
    "            else:\n",
    "                running_balance -= 1\n",
    "\n",
    "        bet_mixed_ROI = (running_balance - initial_investment)/initial_investment\n",
    "        accuracy = num_correct / initial_investment\n",
    "        \n",
    "        ROI_tracker[trial_num] = bet_mixed_ROI\n",
    "        accuracy_tracker[trial_num] = accuracy\n",
    "    \n",
    "    return np.mean(ROI_tracker), np.mean(accuracy_tracker)\n",
    "                                                    "
   ]
  },
  {
   "cell_type": "markdown",
   "id": "c60c379f",
   "metadata": {},
   "source": [
    "### Strategy comparisson"
   ]
  },
  {
   "cell_type": "code",
   "execution_count": 14,
   "id": "2c6f573c",
   "metadata": {},
   "outputs": [],
   "source": [
    "list_of_years = np.unique(tournament_probability_df[\"Season\"])\n",
    "favorite_ROI_tracker = []\n",
    "favorite_accuracy_tracker = []\n",
    "underdog_ROI_tracker = []\n",
    "underdog_accuracy_tracker = []\n",
    "mixed_ROI_tracker = []\n",
    "mixed_accuracy_tracker = []\n",
    "\n",
    "for year in list_of_years:\n",
    "    year_df = tournament_probability_df[tournament_probability_df[\"Season\"] == year]\n",
    "    \n",
    "    fav_results = bet_favorite(year_df)\n",
    "    favorite_ROI_tracker.append(fav_results[0])\n",
    "    favorite_accuracy_tracker.append(fav_results[1])\n",
    "    \n",
    "    underdog_results = bet_underdog(year_df)\n",
    "    underdog_ROI_tracker.append(underdog_results[0])\n",
    "    underdog_accuracy_tracker.append(underdog_results[1])\n",
    "    \n",
    "    mixed_results = bet_mixed(year_df)\n",
    "    mixed_ROI_tracker.append(mixed_results[0])\n",
    "    mixed_accuracy_tracker.append(mixed_results[1])\n",
    "    \n",
    "\n",
    "# dummy_ROI_comparisson = pd.DataFrame({\"Year\": list_of_years, \n",
    "#                                       \"Bet Favorite\":favorite_tracker, \n",
    "#                                       \"Bet Underdog\":underdog_tracker,\n",
    "#                                       \"Bet Mixed\":mixed_tracker})"
   ]
  },
  {
   "cell_type": "code",
   "execution_count": 18,
   "id": "85486ab3",
   "metadata": {},
   "outputs": [
    {
     "name": "stdout",
     "output_type": "stream",
     "text": [
      "62.84799217663743 -3.8288221368444773\n"
     ]
    }
   ],
   "source": [
    "print( 100*np.mean(mixed_accuracy_tracker), 100*np.mean(mixed_ROI_tracker))"
   ]
  },
  {
   "cell_type": "code",
   "execution_count": 15,
   "id": "e239217c",
   "metadata": {
    "scrolled": true
   },
   "outputs": [
    {
     "data": {
      "image/png": "[encoded data removed]",
      "text/plain": [
       "<Figure size 648x360 with 1 Axes>"
      ]
     },
     "metadata": {
      "needs_background": "light"
     },
     "output_type": "display_data"
    }
   ],
   "source": [
    "import matplotlib.pyplot as plt\n",
    "\n",
    "plt.figure(figsize=(9, 5))\n",
    "\n",
    "plt.plot(list_of_years, favorite_ROI_tracker, label = \"Bet Favorite\")\n",
    "plt.plot(list_of_years, underdog_ROI_tracker, label = \"Bet Underdog\")\n",
    "plt.plot(list_of_years, mixed_ROI_tracker, label = \"Bet Mixed\")\n",
    "plt.title(\"NCAA Tournament ROI by Naive Betting Strategy\", size = 16)\n",
    "plt.xlabel(\"Year\", size = 12)\n",
    "plt.ylabel(\"Return on Investment\", size = 12)\n",
    "plt.legend()\n",
    "plt.show()"
   ]
  },
  {
   "cell_type": "code",
   "execution_count": 16,
   "id": "634e8b93",
   "metadata": {},
   "outputs": [
    {
     "data": {
      "image/png": "[encoded data removed]",
      "text/plain": [
       "<Figure size 648x360 with 1 Axes>"
      ]
     },
     "metadata": {
      "needs_background": "light"
     },
     "output_type": "display_data"
    }
   ],
   "source": [
    "fig, ax = plt.subplots(figsize=(9, 5))\n",
    "ax.boxplot([favorite_ROI_tracker, underdog_ROI_tracker, mixed_ROI_tracker])\n",
    "ax.set_xticklabels(['Bet Favorite', 'Bet Underdog', 'Bet Mixed'], size = 12)\n",
    "ax.set_ylabel(\"Return on Investment\", size = 12)\n",
    "ax.set_title(\"NCAA Tournament ROI by Naive Betting Strategy\", size =16);\n"
   ]
  },
  {
   "cell_type": "code",
   "execution_count": 36,
   "id": "e31e0cc6",
   "metadata": {},
   "outputs": [
    {
     "data": {
      "image/png": "[encoded data removed]",
      "text/plain": [
       "<Figure size 648x360 with 1 Axes>"
      ]
     },
     "metadata": {
      "needs_background": "light"
     },
     "output_type": "display_data"
    }
   ],
   "source": [
    "fig, ax = plt.subplots(figsize=(9, 5))\n",
    "ax.boxplot([favorite_accuracy_tracker, underdog_accuracy_tracker, mixed_accuracy_tracker])\n",
    "ax.set_xticklabels(['Bet Favorite', 'Bet Underdog', 'Bet Mixed'], size = 12)\n",
    "ax.set_ylabel(\"Accuracy\", size = 12)\n",
    "ax.set_title(\"NCAA Tournament Accuracy by Naive Betting Strategy\", size =16);"
   ]
  },
  {
   "cell_type": "code",
   "execution_count": 37,
   "id": "f9fd6e6a",
   "metadata": {},
   "outputs": [
    {
     "data": {
      "image/png": "[encoded data removed]",
      "text/plain": [
       "<Figure size 648x360 with 1 Axes>"
      ]
     },
     "metadata": {
      "needs_background": "light"
     },
     "output_type": "display_data"
    }
   ],
   "source": [
    "plt.figure(figsize=(9, 5))\n",
    "\n",
    "plt.plot(list_of_years, favorite_accuracy_tracker, label = \"Bet Favorite\")\n",
    "plt.plot(list_of_years, underdog_accuracy_tracker, label = \"Bet Underdog\")\n",
    "plt.plot(list_of_years, mixed_accuracy_tracker, label = \"Bet Mixed\")\n",
    "plt.title(\"NCAA Tournament Accuracy by Naive Betting Strategy\", size = 16)\n",
    "plt.xlabel(\"Year\", size = 12)\n",
    "plt.ylabel(\"Accuracy\", size = 12)\n",
    "plt.legend()\n",
    "plt.show()"
   ]
  },
  {
   "cell_type": "code",
   "execution_count": 19,
   "id": "7a4ab023",
   "metadata": {},
   "outputs": [
    {
     "data": {
      "image/png": "[encoded data removed]",
      "text/plain": [
       "<Figure size 648x360 with 1 Axes>"
      ]
     },
     "metadata": {
      "needs_background": "light"
     },
     "output_type": "display_data"
    }
   ],
   "source": [
    "plt.figure(figsize=(9, 5))\n",
    "plt.scatter(favorite_accuracy_tracker, favorite_ROI_tracker, label=\"Bet Favorite\")\n",
    "plt.scatter(underdog_accuracy_tracker, underdog_ROI_tracker, label=\"Bet Underdog\")\n",
    "plt.scatter(mixed_accuracy_tracker, mixed_ROI_tracker, label=\"Bet Mixed\")\n",
    "plt.title(\"Accuracy vs ROI by Naive Betting Strategy\", size = 16)\n",
    "plt.xlabel(\"Accuracy\", size = 12)\n",
    "plt.ylabel(\"Return on Investment\", size = 12)\n",
    "plt.legend()\n",
    "plt.show()"
   ]
  },
  {
   "cell_type": "code",
   "execution_count": 20,
   "id": "481fd8b3",
   "metadata": {},
   "outputs": [
    {
     "data": {
      "text/plain": [
       "<matplotlib.collections.PathCollection at 0x117d9dc70>"
      ]
     },
     "execution_count": 20,
     "metadata": {},
     "output_type": "execute_result"
    },
    {
     "data": {
      "image/png": "[encoded data removed]",
      "text/plain": [
       "<Figure size 1152x360 with 3 Axes>"
      ]
     },
     "metadata": {
      "needs_background": "light"
     },
     "output_type": "display_data"
    }
   ],
   "source": [
    "fig, axes = plt.subplots(1,3,figsize=(16, 5))\n",
    "\n",
    "axes[0].scatter(favorite_accuracy_tracker, favorite_ROI_tracker)\n",
    "axes[1].scatter(underdog_accuracy_tracker, underdog_ROI_tracker)\n",
    "axes[2].scatter(mixed_accuracy_tracker, mixed_ROI_tracker)"
   ]
  },
  {
   "cell_type": "code",
   "execution_count": 21,
   "id": "feaf8f8c",
   "metadata": {},
   "outputs": [
    {
     "data": {
      "image/png": "[encoded data removed]",
      "text/plain": [
       "<Figure size 864x504 with 1 Axes>"
      ]
     },
     "metadata": {
      "needs_background": "light"
     },
     "output_type": "display_data"
    }
   ],
   "source": [
    "plt.figure(figsize=(12, 7))\n",
    "\n",
    "plt.bar(['Bet Favorite', 'Bet Underdog', 'Bet Mixed'], \n",
    "        [np.mean(favorite_ROI_tracker), np.mean(underdog_ROI_tracker), np.mean(mixed_ROI_tracker)],\n",
    "        color=['C0', 'C1', 'C2'])\n",
    "\n",
    "plt.title(\"ROI by Naive Betting Strategy\", size = 16)\n",
    "plt.ylabel(\"Return on Investment\", size = 12)\n",
    "plt.show()"
   ]
  },
  {
   "cell_type": "markdown",
   "id": "83eda1b4",
   "metadata": {},
   "source": [
    "### Regular Season Games"
   ]
  },
  {
   "cell_type": "code",
   "execution_count": null,
   "id": "dd8ed30e",
   "metadata": {},
   "outputs": [],
   "source": []
  },
  {
   "cell_type": "code",
   "execution_count": 22,
   "id": "294ead13",
   "metadata": {},
   "outputs": [],
   "source": [
    "regular_season_compact_results_df = pd.read_csv(\"../data//Kaggle-Data/MDataFiles_Stage1/MRegularSeasonCompactResults.csv\")\n",
    "regular_season_compact_results_df = regular_season_compact_results_df[regular_season_compact_results_df['Season'] >= 2008]\n",
    "\n"
   ]
  },
  {
   "cell_type": "code",
   "execution_count": 23,
   "id": "ca9667d7",
   "metadata": {},
   "outputs": [],
   "source": [
    "winner_moneylines = pd.merge(regular_season_compact_results_df, moneyline_df, how='left', \n",
    "                             left_on=['Season','DayNum','WTeamID'], \n",
    "                             right_on = ['Season','DayNum','TeamID'])[[\"Season\", \"DayNum\", \"WTeamID\", \"LTeamID\",\"Moneyline\"]]\n",
    "\n",
    "winner_moneylines.rename(columns = {\"Moneyline\": \"WMoneyline\"}, inplace = True)"
   ]
  },
  {
   "cell_type": "code",
   "execution_count": 24,
   "id": "430d9b1a",
   "metadata": {},
   "outputs": [
    {
     "data": {
      "text/html": [
       "<div>\n",
       "<style scoped>\n",
       "    .dataframe tbody tr th:only-of-type {\n",
       "        vertical-align: middle;\n",
       "    }\n",
       "\n",
       "    .dataframe tbody tr th {\n",
       "        vertical-align: top;\n",
       "    }\n",
       "\n",
       "    .dataframe thead th {\n",
       "        text-align: right;\n",
       "    }\n",
       "</style>\n",
       "<table border=\"1\" class=\"dataframe\">\n",
       "  <thead>\n",
       "    <tr style=\"text-align: right;\">\n",
       "      <th></th>\n",
       "      <th>Season</th>\n",
       "      <th>DayNum</th>\n",
       "      <th>WTeamID</th>\n",
       "      <th>LTeamID</th>\n",
       "      <th>WMoneyline</th>\n",
       "      <th>LMoneyline</th>\n",
       "    </tr>\n",
       "  </thead>\n",
       "  <tbody>\n",
       "    <tr>\n",
       "      <th>0</th>\n",
       "      <td>2008</td>\n",
       "      <td>0</td>\n",
       "      <td>1272</td>\n",
       "      <td>1404</td>\n",
       "      <td>-39000.0</td>\n",
       "      <td>13000.0</td>\n",
       "    </tr>\n",
       "    <tr>\n",
       "      <th>1</th>\n",
       "      <td>2008</td>\n",
       "      <td>0</td>\n",
       "      <td>1350</td>\n",
       "      <td>1263</td>\n",
       "      <td>-240.0</td>\n",
       "      <td>200.0</td>\n",
       "    </tr>\n",
       "    <tr>\n",
       "      <th>2</th>\n",
       "      <td>2008</td>\n",
       "      <td>1</td>\n",
       "      <td>1205</td>\n",
       "      <td>1105</td>\n",
       "      <td>-160.0</td>\n",
       "      <td>140.0</td>\n",
       "    </tr>\n",
       "    <tr>\n",
       "      <th>3</th>\n",
       "      <td>2008</td>\n",
       "      <td>1</td>\n",
       "      <td>1246</td>\n",
       "      <td>1146</td>\n",
       "      <td>-7000.0</td>\n",
       "      <td>3000.0</td>\n",
       "    </tr>\n",
       "    <tr>\n",
       "      <th>4</th>\n",
       "      <td>2008</td>\n",
       "      <td>1</td>\n",
       "      <td>1272</td>\n",
       "      <td>1350</td>\n",
       "      <td>-10000.0</td>\n",
       "      <td>4000.0</td>\n",
       "    </tr>\n",
       "  </tbody>\n",
       "</table>\n",
       "</div>"
      ],
      "text/plain": [
       "   Season  DayNum  WTeamID  LTeamID  WMoneyline  LMoneyline\n",
       "0    2008       0     1272     1404    -39000.0     13000.0\n",
       "1    2008       0     1350     1263      -240.0       200.0\n",
       "2    2008       1     1205     1105      -160.0       140.0\n",
       "3    2008       1     1246     1146     -7000.0      3000.0\n",
       "4    2008       1     1272     1350    -10000.0      4000.0"
      ]
     },
     "execution_count": 24,
     "metadata": {},
     "output_type": "execute_result"
    }
   ],
   "source": [
    "tournament_moneyline_df = pd.merge(winner_moneylines, moneyline_df, how='left', \n",
    "                             left_on=['Season','DayNum','LTeamID'], \n",
    "                             right_on = ['Season','DayNum','TeamID'])[[\"Season\", \"DayNum\", \"WTeamID\", \"LTeamID\",\"WMoneyline\",\"Moneyline\"]]\n",
    "\n",
    "tournament_moneyline_df.rename(columns = {\"Moneyline\": \"LMoneyline\"}, inplace = True)\n",
    "\n",
    "tournament_moneyline_df.head()"
   ]
  },
  {
   "cell_type": "code",
   "execution_count": 25,
   "id": "df7986d2",
   "metadata": {},
   "outputs": [
    {
     "data": {
      "text/plain": [
       "18963"
      ]
     },
     "execution_count": 25,
     "metadata": {},
     "output_type": "execute_result"
    }
   ],
   "source": [
    "tournament_moneyline_df[tournament_moneyline_df[\"WMoneyline\"].isna()]['LMoneyline'].isna().sum()"
   ]
  },
  {
   "cell_type": "code",
   "execution_count": 26,
   "id": "4ab39272",
   "metadata": {},
   "outputs": [
    {
     "data": {
      "text/plain": [
       "77043"
      ]
     },
     "execution_count": 26,
     "metadata": {},
     "output_type": "execute_result"
    }
   ],
   "source": [
    "len(tournament_moneyline_df.index)"
   ]
  },
  {
   "cell_type": "code",
   "execution_count": 27,
   "id": "ea0e2fb3",
   "metadata": {},
   "outputs": [
    {
     "data": {
      "text/plain": [
       "(array([ 3.,  6.,  5., 13., 16., 26., 37., 46., 46., 54., 46., 71., 51.,\n",
       "        64., 78., 54., 53., 45., 58., 86.]),\n",
       " array([0.02980626, 0.07830595, 0.12680564, 0.17530533, 0.22380502,\n",
       "        0.2723047 , 0.32080439, 0.36930408, 0.41780377, 0.46630346,\n",
       "        0.51480315, 0.56330284, 0.61180253, 0.66030222, 0.70880191,\n",
       "        0.75730159, 0.80580128, 0.85430097, 0.90280066, 0.95130035,\n",
       "        0.99980004]),\n",
       " <BarContainer object of 20 artists>)"
      ]
     },
     "execution_count": 27,
     "metadata": {},
     "output_type": "execute_result"
    },
    {
     "data": {
      "image/png": "[encoded data removed]",
      "text/plain": [
       "<Figure size 432x288 with 1 Axes>"
      ]
     },
     "metadata": {
      "needs_background": "light"
     },
     "output_type": "display_data"
    }
   ],
   "source": [
    "plt.hist(tournament_probability_df[\"WTeam_Win%\"], bins =20)"
   ]
  },
  {
   "cell_type": "code",
   "execution_count": 28,
   "id": "a0f65956",
   "metadata": {},
   "outputs": [
    {
     "data": {
      "image/png": "[encoded data removed]",
      "text/plain": [
       "<Figure size 648x360 with 1 Axes>"
      ]
     },
     "metadata": {
      "needs_background": "light"
     },
     "output_type": "display_data"
    }
   ],
   "source": [
    "plt.figure(figsize=(9, 5))\n",
    "plt.hist(tournament_probability_df[\"LTeam_Win%\"], bins =20, facecolor='darkred', alpha=0.5, label=\"Losers\")\n",
    "plt.axvline(0.5, color='k', linestyle='dashed', linewidth=1)\n",
    "\n",
    "plt.title(\"Distribution of Implied Win Probability\", size = 16)\n",
    "plt.xlabel(\"Implied P(Win)\", size = 12)\n",
    "plt.ylabel(\"Frequency\", size = 12)\n",
    "plt.legend()\n",
    "plt.show()\n"
   ]
  },
  {
   "cell_type": "code",
   "execution_count": 29,
   "id": "9e8d4d19",
   "metadata": {},
   "outputs": [
    {
     "data": {
      "image/png": "[encoded data removed]",
      "text/plain": [
       "<Figure size 648x360 with 1 Axes>"
      ]
     },
     "metadata": {
      "needs_background": "light"
     },
     "output_type": "display_data"
    }
   ],
   "source": [
    "plt.figure(figsize=(9, 5))\n",
    "plt.hist(tournament_probability_df[\"WTeam_Win%\"], bins =20, facecolor='darkgreen', alpha=0.5, label=\"Winners\")\n",
    "plt.title(\"Distribution of Implied Win Probability\", size = 16)\n",
    "plt.axvline(0.5, color='k', linestyle='dashed', linewidth=1)\n",
    "\n",
    "plt.xlabel(\"Implied P(Win)\", size = 12)\n",
    "plt.ylabel(\"Frequency\", size = 12)\n",
    "plt.legend()\n",
    "plt.show()\n"
   ]
  },
  {
   "cell_type": "code",
   "execution_count": 30,
   "id": "c2f47659",
   "metadata": {},
   "outputs": [],
   "source": [
    "wteam_iWin = np.array(tournament_probability_df['WTeam_Win%'])\n",
    "lteam_iWin = np.array(tournament_probability_df['LTeam_Win%'])"
   ]
  },
  {
   "cell_type": "code",
   "execution_count": 31,
   "id": "6ed75fe9",
   "metadata": {},
   "outputs": [],
   "source": [
    "bucket_width = 0.05\n",
    "actual_win_pcts = []\n",
    "buckets = np.arange(0, 1, bucket_width)\n",
    "for floor_val in buckets:\n",
    "    mask = (wteam_iWin >= floor_val) & (wteam_iWin < floor_val + bucket_width)\n",
    "    num_winners = len(wteam_iWin[mask])\n",
    "    \n",
    "    mask = (lteam_iWin >= floor_val) & (lteam_iWin < floor_val + bucket_width)\n",
    "    num_losers = len(lteam_iWin[mask])\n",
    "    \n",
    "    actual_win_pcts.append(num_winners / (num_winners + num_losers))\n",
    "    "
   ]
  },
  {
   "cell_type": "code",
   "execution_count": 32,
   "id": "072663ad",
   "metadata": {},
   "outputs": [
    {
     "data": {
      "text/plain": [
       "array([-0.03278689, -0.03510638, -0.00344828,  0.00245902,  0.02894737,\n",
       "       -0.03915663,  0.00408163, -0.05366972,  0.00784314, -0.09385965,\n",
       "        0.0047619 ,  0.02552448,  0.03478261,  0.0127451 , -0.00535714,\n",
       "       -0.00294118, -0.00882353,  0.01129032, -0.00140845, -0.01629213])"
      ]
     },
     "execution_count": 32,
     "metadata": {},
     "output_type": "execute_result"
    }
   ],
   "source": [
    "buckets - actual_win_pcts"
   ]
  },
  {
   "cell_type": "code",
   "execution_count": 33,
   "id": "ce026a3c",
   "metadata": {},
   "outputs": [
    {
     "data": {
      "text/plain": [
       "[<matplotlib.lines.Line2D at 0x118082850>]"
      ]
     },
     "execution_count": 33,
     "metadata": {},
     "output_type": "execute_result"
    },
    {
     "data": {
      "image/png": "[encoded data removed]",
      "text/plain": [
       "<Figure size 432x288 with 1 Axes>"
      ]
     },
     "metadata": {
      "needs_background": "light"
     },
     "output_type": "display_data"
    }
   ],
   "source": [
    "plt.plot(np.arange(0, 1, bucket_width), buckets - actual_win_pcts)"
   ]
  },
  {
   "cell_type": "code",
   "execution_count": 34,
   "id": "014e23a6",
   "metadata": {},
   "outputs": [
    {
     "data": {
      "text/plain": [
       "15"
      ]
     },
     "execution_count": 34,
     "metadata": {},
     "output_type": "execute_result"
    }
   ],
   "source": [
    "mask = (wteam_iWin > 0.1) & (wteam_iWin < 0.2)\n",
    "len(wteam_iWin[mask])"
   ]
  },
  {
   "cell_type": "code",
   "execution_count": 35,
   "id": "466265cb",
   "metadata": {},
   "outputs": [
    {
     "data": {
      "text/plain": [
       "array([-0.03278689, -0.03510638, -0.00344828,  0.00245902,  0.02894737,\n",
       "       -0.03915663,  0.00408163, -0.05366972,  0.00784314, -0.09385965,\n",
       "        0.0047619 ,  0.02552448,  0.03478261,  0.0127451 , -0.00535714,\n",
       "       -0.00294118, -0.00882353,  0.01129032, -0.00140845, -0.01629213])"
      ]
     },
     "execution_count": 35,
     "metadata": {},
     "output_type": "execute_result"
    }
   ],
   "source": [
    "buckets - actual_win_pcts"
   ]
  },
  {
   "cell_type": "code",
   "execution_count": null,
   "id": "9fd39823",
   "metadata": {},
   "outputs": [],
   "source": []
  }
 ],
 "metadata": {
  "kernelspec": {
   "display_name": "Python 3 (ipykernel)",
   "language": "python",
   "name": "python3"
  },
  "language_info": {
   "codemirror_mode": {
    "name": "ipython",
    "version": 3
   },
   "file_extension": ".py",
   "mimetype": "text/x-python",
   "name": "python",
   "nbconvert_exporter": "python",
   "pygments_lexer": "ipython3",
   "version": "3.9.6"
  }
 },
 "nbformat": 4,
 "nbformat_minor": 5
}
