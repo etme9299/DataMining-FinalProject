{
 "cells": [
  {
   "cell_type": "code",
   "execution_count": 1,
   "id": "78486ed3",
   "metadata": {},
   "outputs": [],
   "source": [
    "import pandas as pd\n",
    "import numpy as np\n",
    "import warnings\n",
    "from pandas.core.common import SettingWithCopyWarning\n",
    "warnings.simplefilter(action=\"ignore\", category=SettingWithCopyWarning)"
   ]
  },
  {
   "cell_type": "code",
   "execution_count": 2,
   "id": "38d1f6f5",
   "metadata": {},
   "outputs": [],
   "source": [
    "# Load Tournament results and filter to year > 2008 (oldest moneyline data)\n",
    "tournament_compact_results_df = pd.read_csv(\"../data//Kaggle-Data/MDataFiles_Stage1/MNCAATourneyCompactResults.csv\")\n",
    "tournament_compact_results_df = tournament_compact_results_df[tournament_compact_results_df['Season'] >= 2008]\n",
    "\n",
    "moneyline_df = pd.read_csv(\"../data/Pre-Processed-Data/CleanedMoneylineData.csv\",index_col=0)"
   ]
  },
  {
   "cell_type": "code",
   "execution_count": 3,
   "id": "be041a90",
   "metadata": {},
   "outputs": [
    {
     "data": {
      "text/html": [
       "<div>\n",
       "<style scoped>\n",
       "    .dataframe tbody tr th:only-of-type {\n",
       "        vertical-align: middle;\n",
       "    }\n",
       "\n",
       "    .dataframe tbody tr th {\n",
       "        vertical-align: top;\n",
       "    }\n",
       "\n",
       "    .dataframe thead th {\n",
       "        text-align: right;\n",
       "    }\n",
       "</style>\n",
       "<table border=\"1\" class=\"dataframe\">\n",
       "  <thead>\n",
       "    <tr style=\"text-align: right;\">\n",
       "      <th></th>\n",
       "      <th>Season</th>\n",
       "      <th>DayNum</th>\n",
       "      <th>WTeamID</th>\n",
       "      <th>WScore</th>\n",
       "      <th>LTeamID</th>\n",
       "      <th>LScore</th>\n",
       "      <th>WLoc</th>\n",
       "      <th>NumOT</th>\n",
       "    </tr>\n",
       "  </thead>\n",
       "  <tbody>\n",
       "    <tr>\n",
       "      <th>1456</th>\n",
       "      <td>2008</td>\n",
       "      <td>134</td>\n",
       "      <td>1291</td>\n",
       "      <td>69</td>\n",
       "      <td>1164</td>\n",
       "      <td>60</td>\n",
       "      <td>N</td>\n",
       "      <td>0</td>\n",
       "    </tr>\n",
       "    <tr>\n",
       "      <th>1457</th>\n",
       "      <td>2008</td>\n",
       "      <td>136</td>\n",
       "      <td>1181</td>\n",
       "      <td>71</td>\n",
       "      <td>1125</td>\n",
       "      <td>70</td>\n",
       "      <td>N</td>\n",
       "      <td>0</td>\n",
       "    </tr>\n",
       "    <tr>\n",
       "      <th>1458</th>\n",
       "      <td>2008</td>\n",
       "      <td>136</td>\n",
       "      <td>1242</td>\n",
       "      <td>85</td>\n",
       "      <td>1340</td>\n",
       "      <td>61</td>\n",
       "      <td>N</td>\n",
       "      <td>0</td>\n",
       "    </tr>\n",
       "    <tr>\n",
       "      <th>1459</th>\n",
       "      <td>2008</td>\n",
       "      <td>136</td>\n",
       "      <td>1243</td>\n",
       "      <td>80</td>\n",
       "      <td>1425</td>\n",
       "      <td>67</td>\n",
       "      <td>N</td>\n",
       "      <td>0</td>\n",
       "    </tr>\n",
       "    <tr>\n",
       "      <th>1460</th>\n",
       "      <td>2008</td>\n",
       "      <td>136</td>\n",
       "      <td>1266</td>\n",
       "      <td>74</td>\n",
       "      <td>1246</td>\n",
       "      <td>66</td>\n",
       "      <td>N</td>\n",
       "      <td>0</td>\n",
       "    </tr>\n",
       "  </tbody>\n",
       "</table>\n",
       "</div>"
      ],
      "text/plain": [
       "      Season  DayNum  WTeamID  WScore  LTeamID  LScore WLoc  NumOT\n",
       "1456    2008     134     1291      69     1164      60    N      0\n",
       "1457    2008     136     1181      71     1125      70    N      0\n",
       "1458    2008     136     1242      85     1340      61    N      0\n",
       "1459    2008     136     1243      80     1425      67    N      0\n",
       "1460    2008     136     1266      74     1246      66    N      0"
      ]
     },
     "execution_count": 3,
     "metadata": {},
     "output_type": "execute_result"
    }
   ],
   "source": [
    "tournament_compact_results_df.head()"
   ]
  },
  {
   "cell_type": "code",
   "execution_count": 4,
   "id": "b8308040",
   "metadata": {},
   "outputs": [
    {
     "data": {
      "text/html": [
       "<div>\n",
       "<style scoped>\n",
       "    .dataframe tbody tr th:only-of-type {\n",
       "        vertical-align: middle;\n",
       "    }\n",
       "\n",
       "    .dataframe tbody tr th {\n",
       "        vertical-align: top;\n",
       "    }\n",
       "\n",
       "    .dataframe thead th {\n",
       "        text-align: right;\n",
       "    }\n",
       "</style>\n",
       "<table border=\"1\" class=\"dataframe\">\n",
       "  <thead>\n",
       "    <tr style=\"text-align: right;\">\n",
       "      <th></th>\n",
       "      <th>Season</th>\n",
       "      <th>DayNum</th>\n",
       "      <th>TeamID</th>\n",
       "      <th>Moneyline</th>\n",
       "    </tr>\n",
       "  </thead>\n",
       "  <tbody>\n",
       "    <tr>\n",
       "      <th>0</th>\n",
       "      <td>2008</td>\n",
       "      <td>0</td>\n",
       "      <td>1263</td>\n",
       "      <td>200.0</td>\n",
       "    </tr>\n",
       "    <tr>\n",
       "      <th>1</th>\n",
       "      <td>2008</td>\n",
       "      <td>0</td>\n",
       "      <td>1350</td>\n",
       "      <td>-240.0</td>\n",
       "    </tr>\n",
       "    <tr>\n",
       "      <th>2</th>\n",
       "      <td>2008</td>\n",
       "      <td>0</td>\n",
       "      <td>1404</td>\n",
       "      <td>13000.0</td>\n",
       "    </tr>\n",
       "    <tr>\n",
       "      <th>3</th>\n",
       "      <td>2008</td>\n",
       "      <td>0</td>\n",
       "      <td>1272</td>\n",
       "      <td>-39000.0</td>\n",
       "    </tr>\n",
       "    <tr>\n",
       "      <th>4</th>\n",
       "      <td>2008</td>\n",
       "      <td>1</td>\n",
       "      <td>1205</td>\n",
       "      <td>-160.0</td>\n",
       "    </tr>\n",
       "  </tbody>\n",
       "</table>\n",
       "</div>"
      ],
      "text/plain": [
       "   Season  DayNum  TeamID  Moneyline\n",
       "0    2008       0    1263      200.0\n",
       "1    2008       0    1350     -240.0\n",
       "2    2008       0    1404    13000.0\n",
       "3    2008       0    1272   -39000.0\n",
       "4    2008       1    1205     -160.0"
      ]
     },
     "execution_count": 4,
     "metadata": {},
     "output_type": "execute_result"
    }
   ],
   "source": [
    "moneyline_df.head()"
   ]
  },
  {
   "cell_type": "code",
   "execution_count": 5,
   "id": "b2de6a9f",
   "metadata": {},
   "outputs": [],
   "source": [
    "winner_moneylines = pd.merge(tournament_compact_results_df, moneyline_df, how='left', \n",
    "                             left_on=['Season','DayNum','WTeamID'], \n",
    "                             right_on = ['Season','DayNum','TeamID'])[[\"Season\", \"DayNum\", \"WTeamID\", \"LTeamID\",\"Moneyline\"]]\n",
    "\n",
    "winner_moneylines.rename(columns = {\"Moneyline\": \"WMoneyline\"}, inplace = True)"
   ]
  },
  {
   "cell_type": "code",
   "execution_count": 14,
   "id": "19469659",
   "metadata": {},
   "outputs": [
    {
     "data": {
      "text/html": [
       "<div>\n",
       "<style scoped>\n",
       "    .dataframe tbody tr th:only-of-type {\n",
       "        vertical-align: middle;\n",
       "    }\n",
       "\n",
       "    .dataframe tbody tr th {\n",
       "        vertical-align: top;\n",
       "    }\n",
       "\n",
       "    .dataframe thead th {\n",
       "        text-align: right;\n",
       "    }\n",
       "</style>\n",
       "<table border=\"1\" class=\"dataframe\">\n",
       "  <thead>\n",
       "    <tr style=\"text-align: right;\">\n",
       "      <th></th>\n",
       "      <th>Season</th>\n",
       "      <th>DayNum</th>\n",
       "      <th>WTeamID</th>\n",
       "      <th>LTeamID</th>\n",
       "      <th>WMoneyline</th>\n",
       "      <th>LMoneyline</th>\n",
       "    </tr>\n",
       "  </thead>\n",
       "  <tbody>\n",
       "    <tr>\n",
       "      <th>0</th>\n",
       "      <td>2008</td>\n",
       "      <td>134</td>\n",
       "      <td>1291</td>\n",
       "      <td>1164</td>\n",
       "      <td>-375.0</td>\n",
       "      <td>315.0</td>\n",
       "    </tr>\n",
       "    <tr>\n",
       "      <th>1</th>\n",
       "      <td>2008</td>\n",
       "      <td>136</td>\n",
       "      <td>1181</td>\n",
       "      <td>1125</td>\n",
       "      <td>-4500.0</td>\n",
       "      <td>2250.0</td>\n",
       "    </tr>\n",
       "    <tr>\n",
       "      <th>2</th>\n",
       "      <td>2008</td>\n",
       "      <td>136</td>\n",
       "      <td>1242</td>\n",
       "      <td>1340</td>\n",
       "      <td>-5000.0</td>\n",
       "      <td>2500.0</td>\n",
       "    </tr>\n",
       "    <tr>\n",
       "      <th>3</th>\n",
       "      <td>2008</td>\n",
       "      <td>136</td>\n",
       "      <td>1243</td>\n",
       "      <td>1425</td>\n",
       "      <td>140.0</td>\n",
       "      <td>-160.0</td>\n",
       "    </tr>\n",
       "    <tr>\n",
       "      <th>4</th>\n",
       "      <td>2008</td>\n",
       "      <td>136</td>\n",
       "      <td>1266</td>\n",
       "      <td>1246</td>\n",
       "      <td>-275.0</td>\n",
       "      <td>235.0</td>\n",
       "    </tr>\n",
       "  </tbody>\n",
       "</table>\n",
       "</div>"
      ],
      "text/plain": [
       "   Season  DayNum  WTeamID  LTeamID  WMoneyline  LMoneyline\n",
       "0    2008     134     1291     1164      -375.0       315.0\n",
       "1    2008     136     1181     1125     -4500.0      2250.0\n",
       "2    2008     136     1242     1340     -5000.0      2500.0\n",
       "3    2008     136     1243     1425       140.0      -160.0\n",
       "4    2008     136     1266     1246      -275.0       235.0"
      ]
     },
     "execution_count": 14,
     "metadata": {},
     "output_type": "execute_result"
    }
   ],
   "source": [
    "tournament_moneyline_df = pd.merge(winner_moneylines, moneyline_df, how='left', \n",
    "                             left_on=['Season','DayNum','LTeamID'], \n",
    "                             right_on = ['Season','DayNum','TeamID'])[[\"Season\", \"DayNum\", \"WTeamID\", \"LTeamID\",\"WMoneyline\",\"Moneyline\"]]\n",
    "\n",
    "tournament_moneyline_df.rename(columns = {\"Moneyline\": \"LMoneyline\"}, inplace = True)\n",
    "\n",
    "tournament_moneyline_df.head()"
   ]
  },
  {
   "cell_type": "code",
   "execution_count": 15,
   "id": "4fc9dfa4",
   "metadata": {},
   "outputs": [
    {
     "data": {
      "text/plain": [
       "Season        0\n",
       "DayNum        0\n",
       "WTeamID       0\n",
       "LTeamID       0\n",
       "WMoneyline    0\n",
       "LMoneyline    3\n",
       "dtype: int64"
      ]
     },
     "execution_count": 15,
     "metadata": {},
     "output_type": "execute_result"
    }
   ],
   "source": [
    "tournament_moneyline_df.isna().sum()"
   ]
  },
  {
   "cell_type": "code",
   "execution_count": 21,
   "id": "85c7f671",
   "metadata": {},
   "outputs": [],
   "source": [
    "# For now, drop NAs\n",
    "tournament_moneyline_df = tournament_moneyline_df.dropna()"
   ]
  },
  {
   "cell_type": "markdown",
   "id": "ae8f1eb9",
   "metadata": {},
   "source": [
    "#### Determining implied probability"
   ]
  },
  {
   "cell_type": "code",
   "execution_count": 35,
   "id": "639726ef",
   "metadata": {},
   "outputs": [],
   "source": [
    "def calc_implied_p(moneyline):\n",
    "    if moneyline < 0:\n",
    "        return (-1*(moneyline)) / (-1*(moneyline) + 100)\n",
    "    else:\n",
    "        return 100 / (moneyline + 100)\n",
    "    \n",
    "def calc_net_payout(moneyline, amount_bet = 1):\n",
    "    if moneyline < 0:\n",
    "        return -amount_bet*(100/moneyline)\n",
    "    else:\n",
    "        return amount_bet*(moneyline/100)\n"
   ]
  },
  {
   "cell_type": "code",
   "execution_count": 23,
   "id": "2ec71d0c",
   "metadata": {},
   "outputs": [
    {
     "data": {
      "text/html": [
       "<div>\n",
       "<style scoped>\n",
       "    .dataframe tbody tr th:only-of-type {\n",
       "        vertical-align: middle;\n",
       "    }\n",
       "\n",
       "    .dataframe tbody tr th {\n",
       "        vertical-align: top;\n",
       "    }\n",
       "\n",
       "    .dataframe thead th {\n",
       "        text-align: right;\n",
       "    }\n",
       "</style>\n",
       "<table border=\"1\" class=\"dataframe\">\n",
       "  <thead>\n",
       "    <tr style=\"text-align: right;\">\n",
       "      <th></th>\n",
       "      <th>Season</th>\n",
       "      <th>DayNum</th>\n",
       "      <th>WTeamID</th>\n",
       "      <th>LTeamID</th>\n",
       "      <th>WMoneyline</th>\n",
       "      <th>LMoneyline</th>\n",
       "      <th>WTeam_Win%</th>\n",
       "      <th>LTeam_Win%</th>\n",
       "    </tr>\n",
       "  </thead>\n",
       "  <tbody>\n",
       "    <tr>\n",
       "      <th>0</th>\n",
       "      <td>2008</td>\n",
       "      <td>134</td>\n",
       "      <td>1291</td>\n",
       "      <td>1164</td>\n",
       "      <td>-375.0</td>\n",
       "      <td>315.0</td>\n",
       "      <td>0.789474</td>\n",
       "      <td>0.240964</td>\n",
       "    </tr>\n",
       "    <tr>\n",
       "      <th>1</th>\n",
       "      <td>2008</td>\n",
       "      <td>136</td>\n",
       "      <td>1181</td>\n",
       "      <td>1125</td>\n",
       "      <td>-4500.0</td>\n",
       "      <td>2250.0</td>\n",
       "      <td>0.978261</td>\n",
       "      <td>0.042553</td>\n",
       "    </tr>\n",
       "    <tr>\n",
       "      <th>2</th>\n",
       "      <td>2008</td>\n",
       "      <td>136</td>\n",
       "      <td>1242</td>\n",
       "      <td>1340</td>\n",
       "      <td>-5000.0</td>\n",
       "      <td>2500.0</td>\n",
       "      <td>0.980392</td>\n",
       "      <td>0.038462</td>\n",
       "    </tr>\n",
       "    <tr>\n",
       "      <th>3</th>\n",
       "      <td>2008</td>\n",
       "      <td>136</td>\n",
       "      <td>1243</td>\n",
       "      <td>1425</td>\n",
       "      <td>140.0</td>\n",
       "      <td>-160.0</td>\n",
       "      <td>0.416667</td>\n",
       "      <td>0.615385</td>\n",
       "    </tr>\n",
       "    <tr>\n",
       "      <th>4</th>\n",
       "      <td>2008</td>\n",
       "      <td>136</td>\n",
       "      <td>1266</td>\n",
       "      <td>1246</td>\n",
       "      <td>-275.0</td>\n",
       "      <td>235.0</td>\n",
       "      <td>0.733333</td>\n",
       "      <td>0.298507</td>\n",
       "    </tr>\n",
       "  </tbody>\n",
       "</table>\n",
       "</div>"
      ],
      "text/plain": [
       "   Season  DayNum  WTeamID  LTeamID  WMoneyline  LMoneyline  WTeam_Win%  \\\n",
       "0    2008     134     1291     1164      -375.0       315.0    0.789474   \n",
       "1    2008     136     1181     1125     -4500.0      2250.0    0.978261   \n",
       "2    2008     136     1242     1340     -5000.0      2500.0    0.980392   \n",
       "3    2008     136     1243     1425       140.0      -160.0    0.416667   \n",
       "4    2008     136     1266     1246      -275.0       235.0    0.733333   \n",
       "\n",
       "   LTeam_Win%  \n",
       "0    0.240964  \n",
       "1    0.042553  \n",
       "2    0.038462  \n",
       "3    0.615385  \n",
       "4    0.298507  "
      ]
     },
     "execution_count": 23,
     "metadata": {},
     "output_type": "execute_result"
    }
   ],
   "source": [
    "tournament_probability_df = tournament_moneyline_df\n",
    "tournament_probability_df[\"WTeam_Win%\"] = tournament_probability_df[\"WMoneyline\"].apply(calc_implied_p)\n",
    "tournament_probability_df[\"LTeam_Win%\"] = tournament_probability_df[\"LMoneyline\"].apply(calc_implied_p)\n",
    "\n",
    "tournament_probability_df.head()"
   ]
  },
  {
   "cell_type": "markdown",
   "id": "0754bc5d",
   "metadata": {},
   "source": [
    "#### Strategy 1: Always bet 1 unit on favorite"
   ]
  },
  {
   "cell_type": "code",
   "execution_count": 72,
   "id": "33799306",
   "metadata": {},
   "outputs": [],
   "source": [
    "def bet_favorite(df):\n",
    "    initial_investment = len(df.index) # 1 unit for every game\n",
    "    running_balance = initial_investment\n",
    "    for idx, row in df.iterrows():\n",
    "        if row[\"WTeam_Win%\"] > row[\"LTeam_Win%\"]: # The favorite was the winning team \n",
    "            running_balance += calc_net_payout(row[\"WMoneyline\"])\n",
    "        else: # The favorite was the losing team\n",
    "            running_balance -= 1\n",
    "\n",
    "    bet_favorite_ROI = (running_balance - initial_investment)/initial_investment  \n",
    "    return bet_favorite_ROI"
   ]
  },
  {
   "cell_type": "markdown",
   "id": "41e3d933",
   "metadata": {},
   "source": [
    "#### Strategy 2: Always bet 1 unit on underdog"
   ]
  },
  {
   "cell_type": "code",
   "execution_count": 84,
   "id": "d53ea2ac",
   "metadata": {},
   "outputs": [],
   "source": [
    "def bet_underdog(df):\n",
    "    initial_investment = len(df.index) # 1 unit for every game\n",
    "    running_balance = initial_investment\n",
    "    for idx, row in df.iterrows():\n",
    "        if row[\"WTeam_Win%\"] < row[\"LTeam_Win%\"]: # The underdog was the winning team \n",
    "            running_balance += calc_net_payout(row[\"WMoneyline\"])\n",
    "        else: # The favorite was the losing team\n",
    "            running_balance -= 1\n",
    "\n",
    "    bet_underdog_ROI = (running_balance - initial_investment)/initial_investment \n",
    "    return bet_underdog_ROI"
   ]
  },
  {
   "cell_type": "markdown",
   "id": "107a7a72",
   "metadata": {},
   "source": [
    "#### Strategy 3: Bet 1 unit in alignment with random choice based on implied win%"
   ]
  },
  {
   "cell_type": "code",
   "execution_count": 94,
   "id": "91a52069",
   "metadata": {},
   "outputs": [],
   "source": [
    "def bet_mixed(df, n_iter=30):\n",
    "    result_tracker = np.empty(n_iter)\n",
    "    \n",
    "    for trial_num in range(n_iter): # Conduct several trials to reduce chance\n",
    "        \n",
    "        initial_investment = len(df.index) # 1 unit for every game\n",
    "        running_balance = initial_investment\n",
    "        for idx, row in df.iterrows():\n",
    "            normalized_p_win = row[\"WTeam_Win%\"]/(row[\"WTeam_Win%\"] + row[\"LTeam_Win%\"])\n",
    "            normalized_p_lose = row[\"LTeam_Win%\"]/(row[\"WTeam_Win%\"] + row[\"LTeam_Win%\"])\n",
    "            bet_on = np.random.choice([\"winner\",\"loser\"], p=[normalized_p_win,normalized_p_lose])\n",
    "            if bet_on == \"winner\":\n",
    "                running_balance += calc_net_payout(row[\"WMoneyline\"])\n",
    "            else:\n",
    "                running_balance -= 1\n",
    "\n",
    "        bet_mixed_ROI = (running_balance - initial_investment)/initial_investment \n",
    "        \n",
    "        result_tracker[trial_num] = bet_mixed_ROI\n",
    "    \n",
    "    return np.mean(result_tracker)\n",
    "                                                    "
   ]
  },
  {
   "cell_type": "markdown",
   "id": "eda8b194",
   "metadata": {},
   "source": [
    "### Strategy comparisson"
   ]
  },
  {
   "cell_type": "code",
   "execution_count": 95,
   "id": "fd42961e",
   "metadata": {},
   "outputs": [],
   "source": [
    "list_of_years = np.unique(tournament_probability_df[\"Season\"])\n",
    "favorite_tracker = []\n",
    "underdog_tracker = []\n",
    "mixed_tracker = []\n",
    "\n",
    "for year in list_of_years:\n",
    "    year_df = tournament_probability_df[tournament_probability_df[\"Season\"] == year]\n",
    "    favorite_tracker.append(bet_favorite(year_df))\n",
    "    underdog_tracker.append(bet_underdog(year_df))\n",
    "    mixed_tracker.append(bet_mixed(year_df))\n",
    "\n",
    "dummy_ROI_comparisson = pd.DataFrame({\"Year\": list_of_years, \n",
    "                                      \"Bet Favorite\":favorite_tracker, \n",
    "                                      \"Bet Underdog\":underdog_tracker,\n",
    "                                      \"Bet Mixed\":mixed_tracker})"
   ]
  },
  {
   "cell_type": "code",
   "execution_count": 96,
   "id": "1631889c",
   "metadata": {},
   "outputs": [
    {
     "data": {
      "image/png": "[encoded data removed]",
      "text/plain": [
       "<Figure size 1152x648 with 1 Axes>"
      ]
     },
     "metadata": {
      "needs_background": "light"
     },
     "output_type": "display_data"
    }
   ],
   "source": [
    "import matplotlib.pyplot as plt\n",
    "\n",
    "plt.figure(figsize=(16, 9))\n",
    "\n",
    "plt.plot(list_of_years, favorite_tracker, label = \"Bet Favorite\")\n",
    "plt.plot(list_of_years, underdog_tracker, label = \"Bet Underdog\")\n",
    "plt.plot(list_of_years, mixed_tracker, label = \"Bet Mixed\")\n",
    "plt.legend()\n",
    "plt.show()"
   ]
  },
  {
   "cell_type": "code",
   "execution_count": 108,
   "id": "98398e85",
   "metadata": {},
   "outputs": [],
   "source": [
    "regular_season_compact_results_df = pd.read_csv(\"../data//Kaggle-Data/MDataFiles_Stage1/MRegularSeasonCompactResults.csv\")\n",
    "regular_season_compact_results_df = regular_season_compact_results_df[regular_season_compact_results_df['Season'] >= 2008]\n",
    "\n"
   ]
  },
  {
   "cell_type": "code",
   "execution_count": 109,
   "id": "46d0cc67",
   "metadata": {},
   "outputs": [],
   "source": [
    "winner_moneylines = pd.merge(regular_season_compact_results_df, moneyline_df, how='left', \n",
    "                             left_on=['Season','DayNum','WTeamID'], \n",
    "                             right_on = ['Season','DayNum','TeamID'])[[\"Season\", \"DayNum\", \"WTeamID\", \"LTeamID\",\"Moneyline\"]]\n",
    "\n",
    "winner_moneylines.rename(columns = {\"Moneyline\": \"WMoneyline\"}, inplace = True)"
   ]
  },
  {
   "cell_type": "code",
   "execution_count": 110,
   "id": "9face40d",
   "metadata": {},
   "outputs": [
    {
     "data": {
      "text/html": [
       "<div>\n",
       "<style scoped>\n",
       "    .dataframe tbody tr th:only-of-type {\n",
       "        vertical-align: middle;\n",
       "    }\n",
       "\n",
       "    .dataframe tbody tr th {\n",
       "        vertical-align: top;\n",
       "    }\n",
       "\n",
       "    .dataframe thead th {\n",
       "        text-align: right;\n",
       "    }\n",
       "</style>\n",
       "<table border=\"1\" class=\"dataframe\">\n",
       "  <thead>\n",
       "    <tr style=\"text-align: right;\">\n",
       "      <th></th>\n",
       "      <th>Season</th>\n",
       "      <th>DayNum</th>\n",
       "      <th>WTeamID</th>\n",
       "      <th>LTeamID</th>\n",
       "      <th>WMoneyline</th>\n",
       "      <th>LMoneyline</th>\n",
       "    </tr>\n",
       "  </thead>\n",
       "  <tbody>\n",
       "    <tr>\n",
       "      <th>0</th>\n",
       "      <td>2008</td>\n",
       "      <td>0</td>\n",
       "      <td>1272</td>\n",
       "      <td>1404</td>\n",
       "      <td>-39000.0</td>\n",
       "      <td>13000.0</td>\n",
       "    </tr>\n",
       "    <tr>\n",
       "      <th>1</th>\n",
       "      <td>2008</td>\n",
       "      <td>0</td>\n",
       "      <td>1350</td>\n",
       "      <td>1263</td>\n",
       "      <td>-240.0</td>\n",
       "      <td>200.0</td>\n",
       "    </tr>\n",
       "    <tr>\n",
       "      <th>2</th>\n",
       "      <td>2008</td>\n",
       "      <td>1</td>\n",
       "      <td>1205</td>\n",
       "      <td>1105</td>\n",
       "      <td>-160.0</td>\n",
       "      <td>140.0</td>\n",
       "    </tr>\n",
       "    <tr>\n",
       "      <th>3</th>\n",
       "      <td>2008</td>\n",
       "      <td>1</td>\n",
       "      <td>1246</td>\n",
       "      <td>1146</td>\n",
       "      <td>-7000.0</td>\n",
       "      <td>3000.0</td>\n",
       "    </tr>\n",
       "    <tr>\n",
       "      <th>4</th>\n",
       "      <td>2008</td>\n",
       "      <td>1</td>\n",
       "      <td>1272</td>\n",
       "      <td>1350</td>\n",
       "      <td>-10000.0</td>\n",
       "      <td>4000.0</td>\n",
       "    </tr>\n",
       "  </tbody>\n",
       "</table>\n",
       "</div>"
      ],
      "text/plain": [
       "   Season  DayNum  WTeamID  LTeamID  WMoneyline  LMoneyline\n",
       "0    2008       0     1272     1404    -39000.0     13000.0\n",
       "1    2008       0     1350     1263      -240.0       200.0\n",
       "2    2008       1     1205     1105      -160.0       140.0\n",
       "3    2008       1     1246     1146     -7000.0      3000.0\n",
       "4    2008       1     1272     1350    -10000.0      4000.0"
      ]
     },
     "execution_count": 110,
     "metadata": {},
     "output_type": "execute_result"
    }
   ],
   "source": [
    "tournament_moneyline_df = pd.merge(winner_moneylines, moneyline_df, how='left', \n",
    "                             left_on=['Season','DayNum','LTeamID'], \n",
    "                             right_on = ['Season','DayNum','TeamID'])[[\"Season\", \"DayNum\", \"WTeamID\", \"LTeamID\",\"WMoneyline\",\"Moneyline\"]]\n",
    "\n",
    "tournament_moneyline_df.rename(columns = {\"Moneyline\": \"LMoneyline\"}, inplace = True)\n",
    "\n",
    "tournament_moneyline_df.head()"
   ]
  },
  {
   "cell_type": "code",
   "execution_count": 111,
   "id": "19ed24d3",
   "metadata": {},
   "outputs": [
    {
     "data": {
      "text/plain": [
       "Season            0\n",
       "DayNum            0\n",
       "WTeamID           0\n",
       "LTeamID           0\n",
       "WMoneyline    19490\n",
       "LMoneyline    19517\n",
       "dtype: int64"
      ]
     },
     "execution_count": 111,
     "metadata": {},
     "output_type": "execute_result"
    }
   ],
   "source": [
    "tournament_moneyline_df.isna().sum()"
   ]
  },
  {
   "cell_type": "code",
   "execution_count": null,
   "id": "2b6e56ab",
   "metadata": {},
   "outputs": [],
   "source": []
  }
 ],
 "metadata": {
  "kernelspec": {
   "display_name": "Python 3 (ipykernel)",
   "language": "python",
   "name": "python3"
  },
  "language_info": {
   "codemirror_mode": {
    "name": "ipython",
    "version": 3
   },
   "file_extension": ".py",
   "mimetype": "text/x-python",
   "name": "python",
   "nbconvert_exporter": "python",
   "pygments_lexer": "ipython3",
   "version": "3.10.5"
  }
 },
 "nbformat": 4,
 "nbformat_minor": 5
}
