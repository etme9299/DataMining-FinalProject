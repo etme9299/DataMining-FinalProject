{
 "cells": [
  {
   "cell_type": "markdown",
   "id": "6726dd22-c4a3-4b88-9871-4d334bfd89fa",
   "metadata": {},
   "source": [
    "# Four Factors Prediction Model\n",
    "\n",
    "Four Factors are the box score derived metrics that correlate most closely with winning basketball games. These factors also identify a team’s strategic strengths and weaknesses. These can be calculated for the winning and loosing teams.\n",
    "\n",
    "1) Team’s Own Effective Field Goal Percentage\n",
    "    1) Effective Field Goal Percentage measures the shooting factor is measured using\n",
    "    2) Effective Field Goal Percentage = (Field Goals Made) + (0.5 * 3-Pointer Field Goals Made) / (Field Goal Attempts)\n",
    "    3) Winning Team: WFGM + (0.5 * WFGM3) / WFGA\n",
    "    4) Losing Team: LFGM + (0.5 * LFGM3) / LFGA\n",
    "2) Team’s Own Turnover Percentage\n",
    "    1) Turnover Percentage is the percentage of a team’s or possessions that end in a turnover. Calculating the number of turnovers a player will make in 100 possessions makes itself ‘tempo-free’\n",
    "    2) Turnover Percentage = Turnovers / (Field Goal Attempts + (0.44 * Free Throw Attempts) + Turnovers)\n",
    "    3) Winning Team: WTO / (WFGA + (0.44 * WFTA) + WTO)\n",
    "    4) Losing Team: LTO / (LFGA + (0.44 * LFTA) + LTO)\n",
    "3) Team’s Own Offensive Rebound Percentage\n",
    "    1) Offensive rebound percentage is an estimate of the percentage of available offensive rebounds a team grabbed.\n",
    "    2) Offensive Rebounding Percentage = (Offensive Rebounds) / (Offensive Rebounds + Opponent’s Defensive Rebounds)\n",
    "    3) Winning Team: WOR / WOR + LDR\n",
    "    4) Losing Team: LOR / LOR + WDR\n",
    "    5) For the Losing team with respect to the winning teams needed metric, we calculate Defensive Rebound: WDR / (LOR + WDR). As opposed to LOR / LOR + WDR.\n",
    "4) Team’s Own Free Throw Rate\n",
    "    1) The free throw factor is a measure of both how often a team gets to the line and how often they make them.\n",
    "    2)Free Throw Rate = Free Throws Made / Field Goals Attempted\n",
    "    3) Winning Team: WFTM / WFGA\n",
    "    4) Losing Team: LFTM / LFGA\n",
    "    \n",
    "While these are the four essential factors that decide to win and to lose in the NBA, the factors do not carry equal weight. Dean Oliver (American statistician and assistant coach for the NBA's Washington Wizards) placed a certain set of weights on each of the four categories to ascertain value of each factor in regards to a win. \n",
    "\n",
    "1. Shooting (40%)\n",
    "2. Turnovers (25%)\n",
    "3. Rebounding (20%)\n",
    "4. Free Throws (15%)"
   ]
  },
  {
   "cell_type": "markdown",
   "id": "c6f797e2-f457-44f7-bdd1-318d815b6eb3",
   "metadata": {},
   "source": [
    "- https://www.nbastuffer.com/analytics101/four-factors/\n",
    "- https://www.basketball-reference.com/about/factors.html\n",
    "- https://squared2020.com/2017/09/05/introduction-to-olivers-four-factors/"
   ]
  },
  {
   "cell_type": "code",
   "execution_count": 19,
   "id": "3600f6c4-c65e-442c-897d-6c7bad47e940",
   "metadata": {},
   "outputs": [],
   "source": [
    "import pandas as pd\n",
    "import numpy as np\n",
    "import warnings\n",
    "from pandas.core.common import SettingWithCopyWarning\n",
    "warnings.simplefilter(action=\"ignore\", category=SettingWithCopyWarning)\n",
    "import matplotlib.pyplot as plt"
   ]
  },
  {
   "cell_type": "code",
   "execution_count": 2,
   "id": "38d1f6f5",
   "metadata": {},
   "outputs": [],
   "source": [
    "# Load Tournament results and filter to year > 2008 (oldest moneyline data)\n",
    "box_scores_df = pd.read_csv(\"../data//Kaggle-Data/MDataFiles_Stage1/MNCAATourneyDetailedResults.csv\")\n",
    "box_scores_df = box_scores_df[box_scores_df['Season'] >= 2008]\n",
    "\n",
    "moneyline_df = pd.read_csv(\"../data/Pre-Processed-Data/CleanedMoneylineData.csv\",index_col=0)"
   ]
  },
  {
   "cell_type": "code",
   "execution_count": 3,
   "id": "be041a90",
   "metadata": {},
   "outputs": [],
   "source": [
    "box_scores_df = box_scores_df[[\"Season\", \"DayNum\", \"WTeamID\", \"LTeamID\", \"WFGM\", \"WFGA\", \"WFGM3\", \"WFTM\", \"WFTA\", \"WOR\", \"WDR\", \"WTO\", \"LFGM\", \"LFGA\", \"LFGM3\", \"LFTM\", \"LFTA\", \"LOR\", \"LDR\", \"LTO\"]]"
   ]
  },
  {
   "cell_type": "code",
   "execution_count": 4,
   "id": "b2de6a9f",
   "metadata": {},
   "outputs": [],
   "source": [
    "winner_moneylines = pd.merge(box_scores_df, moneyline_df, how='left', \n",
    "                             left_on=['Season','DayNum','WTeamID'], \n",
    "                             right_on = ['Season','DayNum','TeamID'])[[\"Season\", \"DayNum\", \"WTeamID\", \"LTeamID\",\"Moneyline\", \"WFGM\", \"WFGA\", \"WFGM3\", \"WFTM\", \"WFTA\", \"WOR\", \"WDR\", \"WTO\", \"LFGM\", \"LFGA\", \"LFGM3\", \"LFTM\", \"LFTA\", \"LOR\", \"LDR\", \"LTO\"]]\n",
    "\n",
    "winner_moneylines.rename(columns = {\"Moneyline\": \"WMoneyline\"}, inplace = True)"
   ]
  },
  {
   "cell_type": "code",
   "execution_count": 5,
   "id": "19469659",
   "metadata": {},
   "outputs": [
    {
     "data": {
      "text/html": [
       "<div>\n",
       "<style scoped>\n",
       "    .dataframe tbody tr th:only-of-type {\n",
       "        vertical-align: middle;\n",
       "    }\n",
       "\n",
       "    .dataframe tbody tr th {\n",
       "        vertical-align: top;\n",
       "    }\n",
       "\n",
       "    .dataframe thead th {\n",
       "        text-align: right;\n",
       "    }\n",
       "</style>\n",
       "<table border=\"1\" class=\"dataframe\">\n",
       "  <thead>\n",
       "    <tr style=\"text-align: right;\">\n",
       "      <th></th>\n",
       "      <th>Season</th>\n",
       "      <th>DayNum</th>\n",
       "      <th>WTeamID</th>\n",
       "      <th>LTeamID</th>\n",
       "      <th>WMoneyline</th>\n",
       "      <th>LMoneyline</th>\n",
       "      <th>WFGM</th>\n",
       "      <th>WFGA</th>\n",
       "      <th>WFGM3</th>\n",
       "      <th>WFTM</th>\n",
       "      <th>...</th>\n",
       "      <th>WDR</th>\n",
       "      <th>WTO</th>\n",
       "      <th>LFGM</th>\n",
       "      <th>LFGA</th>\n",
       "      <th>LFGM3</th>\n",
       "      <th>LFTM</th>\n",
       "      <th>LFTA</th>\n",
       "      <th>LOR</th>\n",
       "      <th>LDR</th>\n",
       "      <th>LTO</th>\n",
       "    </tr>\n",
       "  </thead>\n",
       "  <tbody>\n",
       "    <tr>\n",
       "      <th>0</th>\n",
       "      <td>2008</td>\n",
       "      <td>134</td>\n",
       "      <td>1291</td>\n",
       "      <td>1164</td>\n",
       "      <td>-375.0</td>\n",
       "      <td>315.0</td>\n",
       "      <td>19</td>\n",
       "      <td>55</td>\n",
       "      <td>5</td>\n",
       "      <td>26</td>\n",
       "      <td>...</td>\n",
       "      <td>28</td>\n",
       "      <td>11</td>\n",
       "      <td>25</td>\n",
       "      <td>57</td>\n",
       "      <td>4</td>\n",
       "      <td>6</td>\n",
       "      <td>13</td>\n",
       "      <td>8</td>\n",
       "      <td>26</td>\n",
       "      <td>11</td>\n",
       "    </tr>\n",
       "    <tr>\n",
       "      <th>1</th>\n",
       "      <td>2008</td>\n",
       "      <td>136</td>\n",
       "      <td>1181</td>\n",
       "      <td>1125</td>\n",
       "      <td>-4500.0</td>\n",
       "      <td>2250.0</td>\n",
       "      <td>25</td>\n",
       "      <td>58</td>\n",
       "      <td>6</td>\n",
       "      <td>15</td>\n",
       "      <td>...</td>\n",
       "      <td>27</td>\n",
       "      <td>15</td>\n",
       "      <td>26</td>\n",
       "      <td>59</td>\n",
       "      <td>8</td>\n",
       "      <td>10</td>\n",
       "      <td>15</td>\n",
       "      <td>9</td>\n",
       "      <td>24</td>\n",
       "      <td>14</td>\n",
       "    </tr>\n",
       "    <tr>\n",
       "      <th>2</th>\n",
       "      <td>2008</td>\n",
       "      <td>136</td>\n",
       "      <td>1242</td>\n",
       "      <td>1340</td>\n",
       "      <td>-5000.0</td>\n",
       "      <td>2500.0</td>\n",
       "      <td>33</td>\n",
       "      <td>61</td>\n",
       "      <td>12</td>\n",
       "      <td>7</td>\n",
       "      <td>...</td>\n",
       "      <td>23</td>\n",
       "      <td>11</td>\n",
       "      <td>21</td>\n",
       "      <td>55</td>\n",
       "      <td>9</td>\n",
       "      <td>10</td>\n",
       "      <td>14</td>\n",
       "      <td>13</td>\n",
       "      <td>18</td>\n",
       "      <td>16</td>\n",
       "    </tr>\n",
       "    <tr>\n",
       "      <th>3</th>\n",
       "      <td>2008</td>\n",
       "      <td>136</td>\n",
       "      <td>1243</td>\n",
       "      <td>1425</td>\n",
       "      <td>140.0</td>\n",
       "      <td>-160.0</td>\n",
       "      <td>29</td>\n",
       "      <td>60</td>\n",
       "      <td>7</td>\n",
       "      <td>15</td>\n",
       "      <td>...</td>\n",
       "      <td>23</td>\n",
       "      <td>13</td>\n",
       "      <td>21</td>\n",
       "      <td>50</td>\n",
       "      <td>6</td>\n",
       "      <td>19</td>\n",
       "      <td>27</td>\n",
       "      <td>9</td>\n",
       "      <td>18</td>\n",
       "      <td>11</td>\n",
       "    </tr>\n",
       "    <tr>\n",
       "      <th>4</th>\n",
       "      <td>2008</td>\n",
       "      <td>136</td>\n",
       "      <td>1266</td>\n",
       "      <td>1246</td>\n",
       "      <td>-275.0</td>\n",
       "      <td>235.0</td>\n",
       "      <td>23</td>\n",
       "      <td>52</td>\n",
       "      <td>5</td>\n",
       "      <td>23</td>\n",
       "      <td>...</td>\n",
       "      <td>19</td>\n",
       "      <td>7</td>\n",
       "      <td>23</td>\n",
       "      <td>48</td>\n",
       "      <td>8</td>\n",
       "      <td>12</td>\n",
       "      <td>17</td>\n",
       "      <td>9</td>\n",
       "      <td>17</td>\n",
       "      <td>12</td>\n",
       "    </tr>\n",
       "  </tbody>\n",
       "</table>\n",
       "<p>5 rows × 22 columns</p>\n",
       "</div>"
      ],
      "text/plain": [
       "   Season  DayNum  WTeamID  LTeamID  WMoneyline  LMoneyline  WFGM  WFGA  \\\n",
       "0    2008     134     1291     1164      -375.0       315.0    19    55   \n",
       "1    2008     136     1181     1125     -4500.0      2250.0    25    58   \n",
       "2    2008     136     1242     1340     -5000.0      2500.0    33    61   \n",
       "3    2008     136     1243     1425       140.0      -160.0    29    60   \n",
       "4    2008     136     1266     1246      -275.0       235.0    23    52   \n",
       "\n",
       "   WFGM3  WFTM  ...  WDR  WTO  LFGM  LFGA  LFGM3  LFTM  LFTA  LOR  LDR  LTO  \n",
       "0      5    26  ...   28   11    25    57      4     6    13    8   26   11  \n",
       "1      6    15  ...   27   15    26    59      8    10    15    9   24   14  \n",
       "2     12     7  ...   23   11    21    55      9    10    14   13   18   16  \n",
       "3      7    15  ...   23   13    21    50      6    19    27    9   18   11  \n",
       "4      5    23  ...   19    7    23    48      8    12    17    9   17   12  \n",
       "\n",
       "[5 rows x 22 columns]"
      ]
     },
     "execution_count": 5,
     "metadata": {},
     "output_type": "execute_result"
    }
   ],
   "source": [
    "tournament_moneyline_df = pd.merge(winner_moneylines, moneyline_df, how='left', \n",
    "                             left_on=['Season','DayNum','LTeamID'], \n",
    "                             right_on = ['Season','DayNum','TeamID'])[[\"Season\", \"DayNum\", \"WTeamID\", \"LTeamID\",\"WMoneyline\",\"Moneyline\", \"WFGM\", \"WFGA\", \"WFGM3\", \"WFTM\", \"WFTA\", \"WOR\", \"WDR\", \"WTO\", \"LFGM\", \"LFGA\", \"LFGM3\", \"LFTM\", \"LFTA\", \"LOR\", \"LDR\", \"LTO\"]]\n",
    "\n",
    "tournament_moneyline_df.rename(columns = {\"Moneyline\": \"LMoneyline\"}, inplace = True)\n",
    "\n",
    "tournament_moneyline_df.head()"
   ]
  },
  {
   "cell_type": "code",
   "execution_count": 6,
   "id": "4fc9dfa4",
   "metadata": {},
   "outputs": [
    {
     "data": {
      "text/plain": [
       "Season        0\n",
       "DayNum        0\n",
       "WTeamID       0\n",
       "LTeamID       0\n",
       "WMoneyline    0\n",
       "LMoneyline    3\n",
       "WFGM          0\n",
       "WFGA          0\n",
       "WFGM3         0\n",
       "WFTM          0\n",
       "WFTA          0\n",
       "WOR           0\n",
       "WDR           0\n",
       "WTO           0\n",
       "LFGM          0\n",
       "LFGA          0\n",
       "LFGM3         0\n",
       "LFTM          0\n",
       "LFTA          0\n",
       "LOR           0\n",
       "LDR           0\n",
       "LTO           0\n",
       "dtype: int64"
      ]
     },
     "execution_count": 6,
     "metadata": {},
     "output_type": "execute_result"
    }
   ],
   "source": [
    "tournament_moneyline_df.isna().sum()"
   ]
  },
  {
   "cell_type": "code",
   "execution_count": 7,
   "id": "85c7f671",
   "metadata": {},
   "outputs": [],
   "source": [
    "# For now, drop NAs\n",
    "tournament_moneyline_df = tournament_moneyline_df.dropna()"
   ]
  },
  {
   "cell_type": "markdown",
   "id": "ae159d89-f419-4706-8222-9eb7985aba14",
   "metadata": {},
   "source": [
    "## Compute the factors/attributes for each tournament"
   ]
  },
  {
   "cell_type": "code",
   "execution_count": 8,
   "id": "4d9b6ab7-a888-48a7-becf-f4742f9d6eeb",
   "metadata": {},
   "outputs": [],
   "source": [
    "# Effective Field Goal Percentage\n",
    "# Winning Team: WFGM + (0.5 * WFGM3) / WFGA\n",
    "tournament_moneyline_df['WEFGP'] = tournament_moneyline_df.apply(lambda row: (row.WFGM + (0.5 * row.WFGM3))/(row.WFGA), axis=1)\n",
    "# Losing Team: LFGM + (0.5 * LFGM3) / LFGA\n",
    "tournament_moneyline_df['LEFGP'] = tournament_moneyline_df.apply(lambda row: (row.LFGM + (0.5 * row.LFGM3))/(row.LFGA), axis=1)\n",
    "\n",
    "#Turnover Percentage\n",
    "# Winning Team: WTO / (WFGA + (0.44 * WFTA) + WTO)\n",
    "tournament_moneyline_df['WTP'] = tournament_moneyline_df.apply(lambda row: (row.WTO)/(row.WFGA + (0.44 * row.WFTA) + row.WTO), axis=1)\n",
    "# Losing Team: LTO / (LFGA + (0.44 * LFTA) + LTO)\n",
    "tournament_moneyline_df['LTP'] = tournament_moneyline_df.apply(lambda row: (row.LTO)/(row.LFGA + (0.44 * row.LFTA) + row.LTO), axis=1)\n",
    "\n",
    "# Offensive Rebound Percentage\n",
    "# Winning Team: WOR / WOR + LDR\n",
    "tournament_moneyline_df['WORP'] = tournament_moneyline_df.apply(lambda row: (row.WOR)/(row.WOR + row.LDR), axis=1)\n",
    "#Losing Team: LOR / LOR + WDR\n",
    "tournament_moneyline_df['LORP'] = tournament_moneyline_df.apply(lambda row: (row.LOR)/(row.LOR + row.WDR), axis=1)\n",
    "\n",
    "#Winning Team Defensive Rebound: WDR / (LOR + WDR)\n",
    "#tournament_moneyline_df['WDRP'] = tournament_moneyline_df.apply(lambda row: (row.WDR)/(row.LOR + row.WDR), axis=1)\n",
    "#Losing Team Defensive Rebound: LDR / (WOR + LDR)\n",
    "#tournament_moneyline_df['LDRP'] = tournament_moneyline_df.apply(lambda row: (row.LDR)/(row.WOR + row.LDR), axis=1)\n",
    "\n",
    "# Free Throw Rate\n",
    "# Winning Team: WFTM / WFGA\n",
    "tournament_moneyline_df['WFTR'] = tournament_moneyline_df.apply(lambda row: (row.WFTM)/(row.WFGA), axis=1)\n",
    "# Losing Team: LFTM / LFGA\n",
    "tournament_moneyline_df['LFTR'] = tournament_moneyline_df.apply(lambda row: (row.LFTM)/(row.LFGA), axis=1)"
   ]
  },
  {
   "cell_type": "code",
   "execution_count": 9,
   "id": "19ce26dc-5732-4bcb-9d90-fc219bc02adc",
   "metadata": {},
   "outputs": [],
   "source": [
    "factors_tournament_moneyline_df = tournament_moneyline_df.drop([\"WFGM\", \"WFGA\", \"WFGM3\", \"WFTM\", \"WFTA\", \"WOR\", \"WDR\", \"WTO\", \"LFGM\", \"LFGA\", \"LFGM3\", \"LFTM\", \"LFTA\", \"LOR\", \"LDR\", \"LTO\"], axis=1)"
   ]
  },
  {
   "cell_type": "code",
   "execution_count": 10,
   "id": "877ac1ae-49f8-4a37-89a0-721e4be80354",
   "metadata": {},
   "outputs": [
    {
     "data": {
      "text/html": [
       "<div>\n",
       "<style scoped>\n",
       "    .dataframe tbody tr th:only-of-type {\n",
       "        vertical-align: middle;\n",
       "    }\n",
       "\n",
       "    .dataframe tbody tr th {\n",
       "        vertical-align: top;\n",
       "    }\n",
       "\n",
       "    .dataframe thead th {\n",
       "        text-align: right;\n",
       "    }\n",
       "</style>\n",
       "<table border=\"1\" class=\"dataframe\">\n",
       "  <thead>\n",
       "    <tr style=\"text-align: right;\">\n",
       "      <th></th>\n",
       "      <th>Season</th>\n",
       "      <th>DayNum</th>\n",
       "      <th>WTeamID</th>\n",
       "      <th>LTeamID</th>\n",
       "      <th>WMoneyline</th>\n",
       "      <th>LMoneyline</th>\n",
       "      <th>WEFGP</th>\n",
       "      <th>LEFGP</th>\n",
       "      <th>WTP</th>\n",
       "      <th>LTP</th>\n",
       "      <th>WORP</th>\n",
       "      <th>LORP</th>\n",
       "      <th>WFTR</th>\n",
       "      <th>LFTR</th>\n",
       "    </tr>\n",
       "  </thead>\n",
       "  <tbody>\n",
       "    <tr>\n",
       "      <th>0</th>\n",
       "      <td>2008</td>\n",
       "      <td>134</td>\n",
       "      <td>1291</td>\n",
       "      <td>1164</td>\n",
       "      <td>-375.0</td>\n",
       "      <td>315.0</td>\n",
       "      <td>0.390909</td>\n",
       "      <td>0.473684</td>\n",
       "      <td>0.137363</td>\n",
       "      <td>0.149213</td>\n",
       "      <td>0.333333</td>\n",
       "      <td>0.222222</td>\n",
       "      <td>0.472727</td>\n",
       "      <td>0.105263</td>\n",
       "    </tr>\n",
       "    <tr>\n",
       "      <th>1</th>\n",
       "      <td>2008</td>\n",
       "      <td>136</td>\n",
       "      <td>1181</td>\n",
       "      <td>1125</td>\n",
       "      <td>-4500.0</td>\n",
       "      <td>2250.0</td>\n",
       "      <td>0.482759</td>\n",
       "      <td>0.508475</td>\n",
       "      <td>0.182393</td>\n",
       "      <td>0.175879</td>\n",
       "      <td>0.351351</td>\n",
       "      <td>0.250000</td>\n",
       "      <td>0.258621</td>\n",
       "      <td>0.169492</td>\n",
       "    </tr>\n",
       "    <tr>\n",
       "      <th>2</th>\n",
       "      <td>2008</td>\n",
       "      <td>136</td>\n",
       "      <td>1242</td>\n",
       "      <td>1340</td>\n",
       "      <td>-5000.0</td>\n",
       "      <td>2500.0</td>\n",
       "      <td>0.639344</td>\n",
       "      <td>0.463636</td>\n",
       "      <td>0.139949</td>\n",
       "      <td>0.207361</td>\n",
       "      <td>0.454545</td>\n",
       "      <td>0.361111</td>\n",
       "      <td>0.114754</td>\n",
       "      <td>0.181818</td>\n",
       "    </tr>\n",
       "    <tr>\n",
       "      <th>3</th>\n",
       "      <td>2008</td>\n",
       "      <td>136</td>\n",
       "      <td>1243</td>\n",
       "      <td>1425</td>\n",
       "      <td>140.0</td>\n",
       "      <td>-160.0</td>\n",
       "      <td>0.541667</td>\n",
       "      <td>0.480000</td>\n",
       "      <td>0.153955</td>\n",
       "      <td>0.150933</td>\n",
       "      <td>0.538462</td>\n",
       "      <td>0.281250</td>\n",
       "      <td>0.250000</td>\n",
       "      <td>0.380000</td>\n",
       "    </tr>\n",
       "    <tr>\n",
       "      <th>4</th>\n",
       "      <td>2008</td>\n",
       "      <td>136</td>\n",
       "      <td>1266</td>\n",
       "      <td>1246</td>\n",
       "      <td>-275.0</td>\n",
       "      <td>235.0</td>\n",
       "      <td>0.490385</td>\n",
       "      <td>0.562500</td>\n",
       "      <td>0.097547</td>\n",
       "      <td>0.177830</td>\n",
       "      <td>0.468750</td>\n",
       "      <td>0.321429</td>\n",
       "      <td>0.442308</td>\n",
       "      <td>0.250000</td>\n",
       "    </tr>\n",
       "  </tbody>\n",
       "</table>\n",
       "</div>"
      ],
      "text/plain": [
       "   Season  DayNum  WTeamID  LTeamID  WMoneyline  LMoneyline     WEFGP  \\\n",
       "0    2008     134     1291     1164      -375.0       315.0  0.390909   \n",
       "1    2008     136     1181     1125     -4500.0      2250.0  0.482759   \n",
       "2    2008     136     1242     1340     -5000.0      2500.0  0.639344   \n",
       "3    2008     136     1243     1425       140.0      -160.0  0.541667   \n",
       "4    2008     136     1266     1246      -275.0       235.0  0.490385   \n",
       "\n",
       "      LEFGP       WTP       LTP      WORP      LORP      WFTR      LFTR  \n",
       "0  0.473684  0.137363  0.149213  0.333333  0.222222  0.472727  0.105263  \n",
       "1  0.508475  0.182393  0.175879  0.351351  0.250000  0.258621  0.169492  \n",
       "2  0.463636  0.139949  0.207361  0.454545  0.361111  0.114754  0.181818  \n",
       "3  0.480000  0.153955  0.150933  0.538462  0.281250  0.250000  0.380000  \n",
       "4  0.562500  0.097547  0.177830  0.468750  0.321429  0.442308  0.250000  "
      ]
     },
     "execution_count": 10,
     "metadata": {},
     "output_type": "execute_result"
    }
   ],
   "source": [
    "factors_tournament_moneyline_df.head()"
   ]
  },
  {
   "cell_type": "markdown",
   "id": "721220a3-9ab4-49c5-8807-39fe419888e6",
   "metadata": {},
   "source": [
    "## Data Visualization"
   ]
  },
  {
   "cell_type": "code",
   "execution_count": 22,
   "id": "2b830c27-f2bf-44ef-b7a9-5f9736d53b73",
   "metadata": {},
   "outputs": [
    {
     "data": {
      "text/plain": [
       "<matplotlib.legend.Legend at 0x7f18479f1f30>"
      ]
     },
     "execution_count": 22,
     "metadata": {},
     "output_type": "execute_result"
    },
    {
     "data": {
      "image/png": "[encoded data removed]",
      "text/plain": [
       "<Figure size 576x576 with 1 Axes>"
      ]
     },
     "metadata": {
      "needs_background": "light"
     },
     "output_type": "display_data"
    }
   ],
   "source": [
    "fig, ax = plt.subplots(figsize=(8,8))\n",
    "factors_tournament_moneyline_df.hist(column='WEFGP', ax=ax,facecolor=\"darkgreen\", alpha = 0.5, edgecolor=\"white\", label = \"Winning Team Effective Field Goal Percentage\")\n",
    "factors_tournament_moneyline_df.hist(column='LEFGP', ax=ax,facecolor=\"yellow\", alpha = 0.5, edgecolor=\"white\", label = \"Losing Team Effective Field Goal Percentage\")\n",
    "\n",
    "# Add titles and labels \n",
    "ax.set_title(\"Histogram Distribution of Effective Field Goal Percentage\", fontsize=20)\n",
    "ax.set_xlabel(\"Effective Field Goal Percentage\", fontsize=16)\n",
    "ax.set_ylabel(\"Frequency\", fontsize=16)\n",
    "\n",
    "# Make grid lighter and set behind data\n",
    "ax.grid(alpha=0.25)\n",
    "ax.set_axisbelow(True)\n",
    "ax.legend()"
   ]
  },
  {
   "cell_type": "code",
   "execution_count": 27,
   "id": "f019c656-0d05-4534-8311-5c4ace6cad71",
   "metadata": {},
   "outputs": [
    {
     "data": {
      "text/plain": [
       "<matplotlib.legend.Legend at 0x7f1843dc6a40>"
      ]
     },
     "execution_count": 27,
     "metadata": {},
     "output_type": "execute_result"
    },
    {
     "data": {
      "image/png": "[encoded data removed]",
      "text/plain": [
       "<Figure size 576x576 with 1 Axes>"
      ]
     },
     "metadata": {
      "needs_background": "light"
     },
     "output_type": "display_data"
    }
   ],
   "source": [
    "fig, ax = plt.subplots(figsize=(8,8))\n",
    "factors_tournament_moneyline_df.hist(column='WTP', ax=ax,facecolor=\"darkgreen\", alpha = 0.5, edgecolor=\"white\", label = \"Winning Team Turnover Percentage\")\n",
    "factors_tournament_moneyline_df.hist(column='LTP', ax=ax,facecolor=\"yellow\", alpha = 0.5, edgecolor=\"white\", label = \"Losing Team Turnover Percentage\")\n",
    "\n",
    "# Add titles and labels \n",
    "ax.set_title(\"Histogram Distribution of Turnover Percentage\", fontsize=20)\n",
    "ax.set_xlabel(\"Turnover Percentage\", fontsize=16)\n",
    "ax.set_ylabel(\"Frequency\", fontsize=16)\n",
    "\n",
    "# Make grid lighter and set behind data\n",
    "ax.grid(alpha=0.25)\n",
    "ax.set_axisbelow(True)\n",
    "ax.legend()"
   ]
  },
  {
   "cell_type": "code",
   "execution_count": 28,
   "id": "df08d821-867e-4ea6-9661-4b234683de84",
   "metadata": {},
   "outputs": [
    {
     "data": {
      "text/plain": [
       "<matplotlib.legend.Legend at 0x7f1843cf7940>"
      ]
     },
     "execution_count": 28,
     "metadata": {},
     "output_type": "execute_result"
    },
    {
     "data": {
      "image/png": "[encoded data removed]",
      "text/plain": [
       "<Figure size 576x576 with 1 Axes>"
      ]
     },
     "metadata": {
      "needs_background": "light"
     },
     "output_type": "display_data"
    }
   ],
   "source": [
    "fig, ax = plt.subplots(figsize=(8,8))\n",
    "factors_tournament_moneyline_df.hist(column='WORP', ax=ax,facecolor=\"darkgreen\", alpha = 0.5, edgecolor=\"white\", label = \"Winning Team Offensive Rebound Percentage\")\n",
    "factors_tournament_moneyline_df.hist(column='LORP', ax=ax,facecolor=\"yellow\", alpha = 0.5, edgecolor=\"white\", label = \"Losing Team Offensive Rebound Percentage\")\n",
    "\n",
    "# Add titles and labels \n",
    "ax.set_title(\"Histogram Distribution of Offensive Rebound Percentage\", fontsize=20)\n",
    "ax.set_xlabel(\"Offensive Rebound Percentage\", fontsize=16)\n",
    "ax.set_ylabel(\"Frequency\", fontsize=16)\n",
    "\n",
    "# Make grid lighter and set behind data\n",
    "ax.grid(alpha=0.25)\n",
    "ax.set_axisbelow(True)\n",
    "ax.legend()"
   ]
  },
  {
   "cell_type": "code",
   "execution_count": 29,
   "id": "e788346a-00ea-4499-9bb6-1941cd3ce455",
   "metadata": {},
   "outputs": [
    {
     "data": {
      "text/plain": [
       "<matplotlib.legend.Legend at 0x7f1843b9b5e0>"
      ]
     },
     "execution_count": 29,
     "metadata": {},
     "output_type": "execute_result"
    },
    {
     "data": {
      "image/png": "[encoded data removed]",
      "text/plain": [
       "<Figure size 576x576 with 1 Axes>"
      ]
     },
     "metadata": {
      "needs_background": "light"
     },
     "output_type": "display_data"
    }
   ],
   "source": [
    "fig, ax = plt.subplots(figsize=(8,8))\n",
    "factors_tournament_moneyline_df.hist(column='WFTR', ax=ax,facecolor=\"darkgreen\", alpha = 0.5, edgecolor=\"white\", label = \"Winning Team Free Throw Rate\")\n",
    "factors_tournament_moneyline_df.hist(column='LFTR', ax=ax,facecolor=\"yellow\", alpha = 0.5, edgecolor=\"white\", label = \"Losing Team Free Throw Rate\")\n",
    "\n",
    "# Add titles and labels \n",
    "ax.set_title(\"Histogram Distribution of Free Throw Rate\", fontsize=20)\n",
    "ax.set_xlabel(\"Free Throw Rate\", fontsize=16)\n",
    "ax.set_ylabel(\"Frequency\", fontsize=16)\n",
    "\n",
    "# Make grid lighter and set behind data\n",
    "ax.grid(alpha=0.25)\n",
    "ax.set_axisbelow(True)\n",
    "ax.legend()"
   ]
  },
  {
   "cell_type": "markdown",
   "id": "ae8f1eb9",
   "metadata": {},
   "source": [
    "## Determining probability of win for teams using the given distribution"
   ]
  },
  {
   "cell_type": "code",
   "execution_count": 11,
   "id": "f9e90858-483d-4aaa-9347-7cdd3f8d01ef",
   "metadata": {},
   "outputs": [],
   "source": [
    "tournament_probability_df = factors_tournament_moneyline_df.drop([\"WEFGP\", \"LEFGP\", \"WTP\", \"LTP\", \"WORP\", \"LORP\", \"WFTR\", \"LFTR\"], axis=1)"
   ]
  },
  {
   "cell_type": "code",
   "execution_count": 12,
   "id": "528882f8-65c3-4946-a271-94ccce81b7cf",
   "metadata": {},
   "outputs": [],
   "source": [
    "tournament_probability_df['W4_Team_Win'] = factors_tournament_moneyline_df.apply(lambda row: (0.4 * row.WEFGP) - (0.25 * row.WTP) + (0.2 * row.WORP) + (0.15 * row.WFTR), axis=1)"
   ]
  },
  {
   "cell_type": "code",
   "execution_count": 13,
   "id": "bf708b69-11e6-47fe-9fdc-9eaec673c757",
   "metadata": {},
   "outputs": [],
   "source": [
    "tournament_probability_df['L4_Team_Win'] = factors_tournament_moneyline_df.apply(lambda row: (0.4 * row.LEFGP) - (0.25 * row.LTP) + (0.2 * row.LORP) + (0.15 * row.LFTR), axis=1)"
   ]
  },
  {
   "cell_type": "code",
   "execution_count": 14,
   "id": "515c8031-1151-4ef0-a1d8-0bf3bc364ca9",
   "metadata": {},
   "outputs": [],
   "source": [
    "tournament_probability_df['Difference'] = tournament_probability_df.apply(lambda row: (row.W4_Team_Win)-(row.L4_Team_Win), axis=1)"
   ]
  },
  {
   "cell_type": "code",
   "execution_count": 15,
   "id": "6fd73aaf-9bad-4867-b943-78f1278d21c9",
   "metadata": {},
   "outputs": [
    {
     "data": {
      "text/html": [
       "<div>\n",
       "<style scoped>\n",
       "    .dataframe tbody tr th:only-of-type {\n",
       "        vertical-align: middle;\n",
       "    }\n",
       "\n",
       "    .dataframe tbody tr th {\n",
       "        vertical-align: top;\n",
       "    }\n",
       "\n",
       "    .dataframe thead th {\n",
       "        text-align: right;\n",
       "    }\n",
       "</style>\n",
       "<table border=\"1\" class=\"dataframe\">\n",
       "  <thead>\n",
       "    <tr style=\"text-align: right;\">\n",
       "      <th></th>\n",
       "      <th>Season</th>\n",
       "      <th>DayNum</th>\n",
       "      <th>WTeamID</th>\n",
       "      <th>LTeamID</th>\n",
       "      <th>WMoneyline</th>\n",
       "      <th>LMoneyline</th>\n",
       "      <th>W4_Team_Win</th>\n",
       "      <th>L4_Team_Win</th>\n",
       "      <th>Difference</th>\n",
       "    </tr>\n",
       "  </thead>\n",
       "  <tbody>\n",
       "    <tr>\n",
       "      <th>0</th>\n",
       "      <td>2008</td>\n",
       "      <td>134</td>\n",
       "      <td>1291</td>\n",
       "      <td>1164</td>\n",
       "      <td>-375.0</td>\n",
       "      <td>315.0</td>\n",
       "      <td>0.259599</td>\n",
       "      <td>0.212404</td>\n",
       "      <td>0.047194</td>\n",
       "    </tr>\n",
       "    <tr>\n",
       "      <th>1</th>\n",
       "      <td>2008</td>\n",
       "      <td>136</td>\n",
       "      <td>1181</td>\n",
       "      <td>1125</td>\n",
       "      <td>-4500.0</td>\n",
       "      <td>2250.0</td>\n",
       "      <td>0.256569</td>\n",
       "      <td>0.234844</td>\n",
       "      <td>0.021725</td>\n",
       "    </tr>\n",
       "    <tr>\n",
       "      <th>2</th>\n",
       "      <td>2008</td>\n",
       "      <td>136</td>\n",
       "      <td>1242</td>\n",
       "      <td>1340</td>\n",
       "      <td>-5000.0</td>\n",
       "      <td>2500.0</td>\n",
       "      <td>0.328873</td>\n",
       "      <td>0.233109</td>\n",
       "      <td>0.095763</td>\n",
       "    </tr>\n",
       "    <tr>\n",
       "      <th>3</th>\n",
       "      <td>2008</td>\n",
       "      <td>136</td>\n",
       "      <td>1243</td>\n",
       "      <td>1425</td>\n",
       "      <td>140.0</td>\n",
       "      <td>-160.0</td>\n",
       "      <td>0.323370</td>\n",
       "      <td>0.267517</td>\n",
       "      <td>0.055853</td>\n",
       "    </tr>\n",
       "    <tr>\n",
       "      <th>4</th>\n",
       "      <td>2008</td>\n",
       "      <td>136</td>\n",
       "      <td>1266</td>\n",
       "      <td>1246</td>\n",
       "      <td>-275.0</td>\n",
       "      <td>235.0</td>\n",
       "      <td>0.331863</td>\n",
       "      <td>0.282328</td>\n",
       "      <td>0.049535</td>\n",
       "    </tr>\n",
       "  </tbody>\n",
       "</table>\n",
       "</div>"
      ],
      "text/plain": [
       "   Season  DayNum  WTeamID  LTeamID  WMoneyline  LMoneyline  W4_Team_Win  \\\n",
       "0    2008     134     1291     1164      -375.0       315.0     0.259599   \n",
       "1    2008     136     1181     1125     -4500.0      2250.0     0.256569   \n",
       "2    2008     136     1242     1340     -5000.0      2500.0     0.328873   \n",
       "3    2008     136     1243     1425       140.0      -160.0     0.323370   \n",
       "4    2008     136     1266     1246      -275.0       235.0     0.331863   \n",
       "\n",
       "   L4_Team_Win  Difference  \n",
       "0     0.212404    0.047194  \n",
       "1     0.234844    0.021725  \n",
       "2     0.233109    0.095763  \n",
       "3     0.267517    0.055853  \n",
       "4     0.282328    0.049535  "
      ]
     },
     "execution_count": 15,
     "metadata": {},
     "output_type": "execute_result"
    }
   ],
   "source": [
    "tournament_probability_df.head()"
   ]
  },
  {
   "cell_type": "code",
   "execution_count": 32,
   "id": "a6df6ba0-8150-4fef-86d1-329f53d9248a",
   "metadata": {},
   "outputs": [
    {
     "data": {
      "text/plain": [
       "<matplotlib.legend.Legend at 0x7f1843b824a0>"
      ]
     },
     "execution_count": 32,
     "metadata": {},
     "output_type": "execute_result"
    },
    {
     "data": {
      "image/png": "[encoded data removed]",
      "text/plain": [
       "<Figure size 576x576 with 1 Axes>"
      ]
     },
     "metadata": {
      "needs_background": "light"
     },
     "output_type": "display_data"
    }
   ],
   "source": [
    "fig, ax = plt.subplots(figsize=(8,8))\n",
    "tournament_probability_df.hist(column='Difference', ax=ax,facecolor=\"pink\", alpha = 0.5, edgecolor=\"white\", label = \"Difference in the Matchup 4 Factor Computed Score\")\n",
    "\n",
    "\n",
    "# Add titles and labels \n",
    "ax.set_title(\"Histogram Distribution the Difference in the Matchup 4 Factor Computed Score\", fontsize=20)\n",
    "ax.set_xlabel(\"Difference in the Matchup 4 Factor Computed Score\", fontsize=16)\n",
    "ax.set_ylabel(\"Frequency\", fontsize=16)\n",
    "\n",
    "# Make grid lighter and set behind data\n",
    "ax.grid(alpha=0.25)\n",
    "ax.set_axisbelow(True)\n",
    "ax.legend()"
   ]
  },
  {
   "cell_type": "markdown",
   "id": "aeac1fda-0330-456c-b54f-d3a818fe3a62",
   "metadata": {},
   "source": [
    "## Pseudocode for determining bets:\n",
    "\n",
    "Alpha 0.1\n",
    "\n",
    "if Difference >=0.1:\n",
    "    bet on winning team\n",
    "if Difference <-0.1:\n",
    "    bet on losing team\n",
    "else:\n",
    "    do not bet"
   ]
  },
  {
   "cell_type": "markdown",
   "id": "e540d212-fe3a-4bac-b430-150d6ce84ec7",
   "metadata": {},
   "source": [
    "# Next steps:\n",
    "- determine bets\n",
    "- average the W_4/L_4 team metrics per team id for an average metric of the teams performace\n",
    "- then you can use these weights to determien bets again (using pseudocode) in matchups "
   ]
  },
  {
   "cell_type": "code",
   "execution_count": null,
   "id": "330a1548-5f48-4385-bf9d-694159e4e66c",
   "metadata": {},
   "outputs": [],
   "source": []
  }
 ],
 "metadata": {
  "kernelspec": {
   "display_name": "Python 3 (ipykernel)",
   "language": "python",
   "name": "python3"
  },
  "language_info": {
   "codemirror_mode": {
    "name": "ipython",
    "version": 3
   },
   "file_extension": ".py",
   "mimetype": "text/x-python",
   "name": "python",
   "nbconvert_exporter": "python",
   "pygments_lexer": "ipython3",
   "version": "3.10.5"
  }
 },
 "nbformat": 4,
 "nbformat_minor": 5
}
