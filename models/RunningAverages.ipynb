{
 "cells": [
  {
   "cell_type": "markdown",
   "id": "1feacbd1-7370-41f5-af89-dbaff09be760",
   "metadata": {},
   "source": [
    "# Calculating a team's running average for each metric\n",
    "\n",
    "It is inaccurate to say that all the averaged data cam be applied to yearly team matchups when for example in 2008 you as a better cannot know the future performace of a 2010 team. For this reason, it is important to consider runnign averages to make a more realistic and accutate model\n",
    "\n",
    "This notebook works in developing running averaged metrics per teams"
   ]
  },
  {
   "cell_type": "code",
   "execution_count": null,
   "id": "5f719083-60b5-4989-99f7-8bcabde77bb8",
   "metadata": {},
   "outputs": [],
   "source": []
  }
 ],
 "metadata": {
  "kernelspec": {
   "display_name": "Python 3 (ipykernel)",
   "language": "python",
   "name": "python3"
  },
  "language_info": {
   "codemirror_mode": {
    "name": "ipython",
    "version": 3
   },
   "file_extension": ".py",
   "mimetype": "text/x-python",
   "name": "python",
   "nbconvert_exporter": "python",
   "pygments_lexer": "ipython3",
   "version": "3.10.5"
  }
 },
 "nbformat": 4,
 "nbformat_minor": 5
}
