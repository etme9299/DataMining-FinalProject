{
 "cells": [
  {
   "cell_type": "markdown",
   "id": "6726dd22-c4a3-4b88-9871-4d334bfd89fa",
   "metadata": {},
   "source": [
    "# Four Factors Prediction Model\n",
    "\n",
    "Four Factors are the box score derived metrics that correlate most closely with winning basketball games. These factors also identify a team’s strategic strengths and weaknesses. These can be calculated for the winning and loosing teams.\n",
    "\n",
    "1) Team’s Own Effective Field Goal Percentage\n",
    "    1) Effective Field Goal Percentage measures the shooting factor is measured using\n",
    "    2) Effective Field Goal Percentage = (Field Goals Made) + (0.5 * 3-Pointer Field Goals Made) / (Field Goal Attempts)\n",
    "    3) Winning Team: WFGM + (0.5 * WFGM3) / WFGA\n",
    "    4) Losing Team: LFGM + (0.5 * LFGM3) / LFGA\n",
    "2) Team’s Own Turnover Percentage\n",
    "    1) Turnover Percentage is the percentage of a team’s or possessions that end in a turnover. Calculating the number of turnovers a player will make in 100 possessions makes itself ‘tempo-free’\n",
    "    2) Turnover Percentage = Turnovers / (Field Goal Attempts + (0.44 * Free Throw Attempts) + Turnovers)\n",
    "    3) Winning Team: WTO / (WFGA + (0.44 * WFTA) + WTO)\n",
    "    4) Losing Team: LTO / (LFGA + (0.44 * LFTA) + LTO)\n",
    "3) Team’s Own Offensive Rebound Percentage\n",
    "    1) Offensive rebound percentage is an estimate of the percentage of available offensive rebounds a team grabbed.\n",
    "    2) Offensive Rebounding Percentage = (Offensive Rebounds) / (Offensive Rebounds + Opponent’s Defensive Rebounds)\n",
    "    3) Winning Team: WOR / WOR + LDR\n",
    "    4) Losing Team: LOR / LOR + WDR\n",
    "4) Team’s Own Free Throw Rate\n",
    "    1) The free throw factor is a measure of both how often a team gets to the line and how often they make them.\n",
    "    2)Free Throw Rate = Free Throws Made / Field Goals Attempted\n",
    "    3) Winning Team: WFTM / WFGA\n",
    "    4) Losing Team: LFTM / LFGA\n",
    "    \n",
    "While these are the four essential factors that decide to win and to lose in the NBA, the factors do not carry equal weight. Dean Oliver (American statistician and assistant coach for the NBA's Washington Wizards) placed a certain set of weights on each of the four categories to ascertain value of each factor in regards to a win. \n",
    "\n",
    "1. Shooting (40%)\n",
    "2. Turnovers (25%)\n",
    "3. Rebounding (20%)\n",
    "4. Free Throws (15%)"
   ]
  },
  {
   "cell_type": "markdown",
   "id": "c6f797e2-f457-44f7-bdd1-318d815b6eb3",
   "metadata": {},
   "source": [
    "- https://www.nbastuffer.com/analytics101/four-factors/\n",
    "- https://www.basketball-reference.com/about/factors.html\n",
    "- https://squared2020.com/2017/09/05/introduction-to-olivers-four-factors/"
   ]
  },
  {
   "cell_type": "code",
   "execution_count": 1,
   "id": "3600f6c4-c65e-442c-897d-6c7bad47e940",
   "metadata": {},
   "outputs": [],
   "source": [
    "import pandas as pd\n",
    "import numpy as np\n",
    "import warnings\n",
    "from pandas.core.common import SettingWithCopyWarning\n",
    "warnings.simplefilter(action=\"ignore\", category=SettingWithCopyWarning)\n",
    "import matplotlib.pyplot as plt"
   ]
  },
  {
   "cell_type": "markdown",
   "id": "4b135921-7d0b-4e76-9592-1df0b5f55d4d",
   "metadata": {
    "jp-MarkdownHeadingCollapsed": true,
    "tags": []
   },
   "source": [
    "## Loading Data"
   ]
  },
  {
   "cell_type": "code",
   "execution_count": 2,
   "id": "38d1f6f5",
   "metadata": {},
   "outputs": [],
   "source": [
    "# Load Tournament results and filter to year > 2008 (oldest moneyline data)\n",
    "box_scores_df = pd.read_csv(\"../data//Kaggle-Data/MDataFiles_Stage1/MRegularSeasonDetailedResults.csv\")\n",
    "box_scores_df = box_scores_df[box_scores_df['Season'] >= 2008]\n",
    "\n",
    "moneyline_df = pd.read_csv(\"../data/Pre-Processed-Data/CleanedMoneylineData.csv\",index_col=0)"
   ]
  },
  {
   "cell_type": "code",
   "execution_count": 3,
   "id": "be041a90",
   "metadata": {},
   "outputs": [],
   "source": [
    "box_scores_df = box_scores_df[[\"Season\", \"DayNum\", \"WTeamID\", \"LTeamID\", \"WFGM\", \"WFGA\", \"WFGM3\", \"WFTM\", \"WFTA\", \"WOR\", \"WDR\", \"WTO\", \"LFGM\", \"LFGA\", \"LFGM3\", \"LFTM\", \"LFTA\", \"LOR\", \"LDR\", \"LTO\"]]"
   ]
  },
  {
   "cell_type": "code",
   "execution_count": 4,
   "id": "b2de6a9f",
   "metadata": {},
   "outputs": [],
   "source": [
    "winner_moneylines = pd.merge(box_scores_df, moneyline_df, how='left', \n",
    "                             left_on=['Season','DayNum','WTeamID'], \n",
    "                             right_on = ['Season','DayNum','TeamID'])[[\"Season\", \"DayNum\", \"WTeamID\", \"LTeamID\",\"Moneyline\", \"WFGM\", \"WFGA\", \"WFGM3\", \"WFTM\", \"WFTA\", \"WOR\", \"WDR\", \"WTO\", \"LFGM\", \"LFGA\", \"LFGM3\", \"LFTM\", \"LFTA\", \"LOR\", \"LDR\", \"LTO\"]]\n",
    "\n",
    "winner_moneylines.rename(columns = {\"Moneyline\": \"WMoneyline\"}, inplace = True)"
   ]
  },
  {
   "cell_type": "code",
   "execution_count": 5,
   "id": "19469659",
   "metadata": {},
   "outputs": [
    {
     "data": {
      "text/html": [
       "<div>\n",
       "<style scoped>\n",
       "    .dataframe tbody tr th:only-of-type {\n",
       "        vertical-align: middle;\n",
       "    }\n",
       "\n",
       "    .dataframe tbody tr th {\n",
       "        vertical-align: top;\n",
       "    }\n",
       "\n",
       "    .dataframe thead th {\n",
       "        text-align: right;\n",
       "    }\n",
       "</style>\n",
       "<table border=\"1\" class=\"dataframe\">\n",
       "  <thead>\n",
       "    <tr style=\"text-align: right;\">\n",
       "      <th></th>\n",
       "      <th>Season</th>\n",
       "      <th>DayNum</th>\n",
       "      <th>WTeamID</th>\n",
       "      <th>LTeamID</th>\n",
       "      <th>WMoneyline</th>\n",
       "      <th>LMoneyline</th>\n",
       "      <th>WFGM</th>\n",
       "      <th>WFGA</th>\n",
       "      <th>WFGM3</th>\n",
       "      <th>WFTM</th>\n",
       "      <th>...</th>\n",
       "      <th>WDR</th>\n",
       "      <th>WTO</th>\n",
       "      <th>LFGM</th>\n",
       "      <th>LFGA</th>\n",
       "      <th>LFGM3</th>\n",
       "      <th>LFTM</th>\n",
       "      <th>LFTA</th>\n",
       "      <th>LOR</th>\n",
       "      <th>LDR</th>\n",
       "      <th>LTO</th>\n",
       "    </tr>\n",
       "  </thead>\n",
       "  <tbody>\n",
       "    <tr>\n",
       "      <th>0</th>\n",
       "      <td>2008</td>\n",
       "      <td>0</td>\n",
       "      <td>1272</td>\n",
       "      <td>1404</td>\n",
       "      <td>-39000.0</td>\n",
       "      <td>13000.0</td>\n",
       "      <td>37</td>\n",
       "      <td>83</td>\n",
       "      <td>11</td>\n",
       "      <td>17</td>\n",
       "      <td>...</td>\n",
       "      <td>37</td>\n",
       "      <td>10</td>\n",
       "      <td>24</td>\n",
       "      <td>77</td>\n",
       "      <td>10</td>\n",
       "      <td>13</td>\n",
       "      <td>22</td>\n",
       "      <td>20</td>\n",
       "      <td>27</td>\n",
       "      <td>19</td>\n",
       "    </tr>\n",
       "    <tr>\n",
       "      <th>1</th>\n",
       "      <td>2008</td>\n",
       "      <td>0</td>\n",
       "      <td>1350</td>\n",
       "      <td>1263</td>\n",
       "      <td>-240.0</td>\n",
       "      <td>200.0</td>\n",
       "      <td>17</td>\n",
       "      <td>51</td>\n",
       "      <td>4</td>\n",
       "      <td>6</td>\n",
       "      <td>...</td>\n",
       "      <td>14</td>\n",
       "      <td>18</td>\n",
       "      <td>19</td>\n",
       "      <td>45</td>\n",
       "      <td>1</td>\n",
       "      <td>3</td>\n",
       "      <td>5</td>\n",
       "      <td>12</td>\n",
       "      <td>28</td>\n",
       "      <td>29</td>\n",
       "    </tr>\n",
       "    <tr>\n",
       "      <th>2</th>\n",
       "      <td>2008</td>\n",
       "      <td>1</td>\n",
       "      <td>1205</td>\n",
       "      <td>1105</td>\n",
       "      <td>-160.0</td>\n",
       "      <td>140.0</td>\n",
       "      <td>21</td>\n",
       "      <td>59</td>\n",
       "      <td>5</td>\n",
       "      <td>22</td>\n",
       "      <td>...</td>\n",
       "      <td>22</td>\n",
       "      <td>21</td>\n",
       "      <td>17</td>\n",
       "      <td>49</td>\n",
       "      <td>4</td>\n",
       "      <td>17</td>\n",
       "      <td>26</td>\n",
       "      <td>12</td>\n",
       "      <td>23</td>\n",
       "      <td>27</td>\n",
       "    </tr>\n",
       "    <tr>\n",
       "      <th>3</th>\n",
       "      <td>2008</td>\n",
       "      <td>1</td>\n",
       "      <td>1246</td>\n",
       "      <td>1146</td>\n",
       "      <td>-7000.0</td>\n",
       "      <td>3000.0</td>\n",
       "      <td>26</td>\n",
       "      <td>55</td>\n",
       "      <td>4</td>\n",
       "      <td>11</td>\n",
       "      <td>...</td>\n",
       "      <td>26</td>\n",
       "      <td>16</td>\n",
       "      <td>10</td>\n",
       "      <td>50</td>\n",
       "      <td>3</td>\n",
       "      <td>17</td>\n",
       "      <td>21</td>\n",
       "      <td>15</td>\n",
       "      <td>14</td>\n",
       "      <td>18</td>\n",
       "    </tr>\n",
       "    <tr>\n",
       "      <th>4</th>\n",
       "      <td>2008</td>\n",
       "      <td>1</td>\n",
       "      <td>1272</td>\n",
       "      <td>1350</td>\n",
       "      <td>-10000.0</td>\n",
       "      <td>4000.0</td>\n",
       "      <td>25</td>\n",
       "      <td>51</td>\n",
       "      <td>9</td>\n",
       "      <td>21</td>\n",
       "      <td>...</td>\n",
       "      <td>25</td>\n",
       "      <td>18</td>\n",
       "      <td>24</td>\n",
       "      <td>63</td>\n",
       "      <td>8</td>\n",
       "      <td>7</td>\n",
       "      <td>12</td>\n",
       "      <td>15</td>\n",
       "      <td>19</td>\n",
       "      <td>21</td>\n",
       "    </tr>\n",
       "  </tbody>\n",
       "</table>\n",
       "<p>5 rows × 22 columns</p>\n",
       "</div>"
      ],
      "text/plain": [
       "   Season  DayNum  WTeamID  LTeamID  WMoneyline  LMoneyline  WFGM  WFGA  \\\n",
       "0    2008       0     1272     1404    -39000.0     13000.0    37    83   \n",
       "1    2008       0     1350     1263      -240.0       200.0    17    51   \n",
       "2    2008       1     1205     1105      -160.0       140.0    21    59   \n",
       "3    2008       1     1246     1146     -7000.0      3000.0    26    55   \n",
       "4    2008       1     1272     1350    -10000.0      4000.0    25    51   \n",
       "\n",
       "   WFGM3  WFTM  ...  WDR  WTO  LFGM  LFGA  LFGM3  LFTM  LFTA  LOR  LDR  LTO  \n",
       "0     11    17  ...   37   10    24    77     10    13    22   20   27   19  \n",
       "1      4     6  ...   14   18    19    45      1     3     5   12   28   29  \n",
       "2      5    22  ...   22   21    17    49      4    17    26   12   23   27  \n",
       "3      4    11  ...   26   16    10    50      3    17    21   15   14   18  \n",
       "4      9    21  ...   25   18    24    63      8     7    12   15   19   21  \n",
       "\n",
       "[5 rows x 22 columns]"
      ]
     },
     "execution_count": 5,
     "metadata": {},
     "output_type": "execute_result"
    }
   ],
   "source": [
    "regular_moneyline_df = pd.merge(winner_moneylines, moneyline_df, how='left', \n",
    "                             left_on=['Season','DayNum','LTeamID'], \n",
    "                             right_on = ['Season','DayNum','TeamID'])[[\"Season\", \"DayNum\", \"WTeamID\", \"LTeamID\",\"WMoneyline\",\"Moneyline\", \"WFGM\", \"WFGA\", \"WFGM3\", \"WFTM\", \"WFTA\", \"WOR\", \"WDR\", \"WTO\", \"LFGM\", \"LFGA\", \"LFGM3\", \"LFTM\", \"LFTA\", \"LOR\", \"LDR\", \"LTO\"]]\n",
    "\n",
    "regular_moneyline_df.rename(columns = {\"Moneyline\": \"LMoneyline\"}, inplace = True)\n",
    "\n",
    "regular_moneyline_df.head()"
   ]
  },
  {
   "cell_type": "code",
   "execution_count": 6,
   "id": "4fc9dfa4",
   "metadata": {},
   "outputs": [
    {
     "data": {
      "text/plain": [
       "Season            0\n",
       "DayNum            0\n",
       "WTeamID           0\n",
       "LTeamID           0\n",
       "WMoneyline    19490\n",
       "LMoneyline    19517\n",
       "WFGM              0\n",
       "WFGA              0\n",
       "WFGM3             0\n",
       "WFTM              0\n",
       "WFTA              0\n",
       "WOR               0\n",
       "WDR               0\n",
       "WTO               0\n",
       "LFGM              0\n",
       "LFGA              0\n",
       "LFGM3             0\n",
       "LFTM              0\n",
       "LFTA              0\n",
       "LOR               0\n",
       "LDR               0\n",
       "LTO               0\n",
       "dtype: int64"
      ]
     },
     "execution_count": 6,
     "metadata": {},
     "output_type": "execute_result"
    }
   ],
   "source": [
    "regular_moneyline_df.isna().sum()"
   ]
  },
  {
   "cell_type": "code",
   "execution_count": 7,
   "id": "85c7f671",
   "metadata": {},
   "outputs": [],
   "source": [
    "# For now, drop NAs\n",
    "regular_moneyline_df = regular_moneyline_df.dropna()"
   ]
  },
  {
   "cell_type": "code",
   "execution_count": 8,
   "id": "f0340209-9f68-4af4-a98f-73cc2981ba7f",
   "metadata": {},
   "outputs": [],
   "source": [
    "teams_df = pd.read_csv(\"../data//Kaggle-Data/MDataFiles_Stage1/MTeams.csv\")"
   ]
  },
  {
   "cell_type": "code",
   "execution_count": 9,
   "id": "668af6e5-e760-4587-94a2-938d6f2ddf8c",
   "metadata": {},
   "outputs": [],
   "source": [
    "teams_df = teams_df.drop([\"FirstD1Season\",\"LastD1Season\"], axis=1)"
   ]
  },
  {
   "cell_type": "code",
   "execution_count": 10,
   "id": "99e7892c-c484-461f-9d1f-d8f52e2c54b0",
   "metadata": {},
   "outputs": [
    {
     "data": {
      "text/html": [
       "<div>\n",
       "<style scoped>\n",
       "    .dataframe tbody tr th:only-of-type {\n",
       "        vertical-align: middle;\n",
       "    }\n",
       "\n",
       "    .dataframe tbody tr th {\n",
       "        vertical-align: top;\n",
       "    }\n",
       "\n",
       "    .dataframe thead th {\n",
       "        text-align: right;\n",
       "    }\n",
       "</style>\n",
       "<table border=\"1\" class=\"dataframe\">\n",
       "  <thead>\n",
       "    <tr style=\"text-align: right;\">\n",
       "      <th></th>\n",
       "      <th>Season</th>\n",
       "      <th>DayNum</th>\n",
       "      <th>WTeamID</th>\n",
       "      <th>LTeamID</th>\n",
       "      <th>WMoneyline</th>\n",
       "      <th>LMoneyline</th>\n",
       "    </tr>\n",
       "  </thead>\n",
       "  <tbody>\n",
       "    <tr>\n",
       "      <th>0</th>\n",
       "      <td>2008</td>\n",
       "      <td>134</td>\n",
       "      <td>1291</td>\n",
       "      <td>1164</td>\n",
       "      <td>-375.0</td>\n",
       "      <td>315.0</td>\n",
       "    </tr>\n",
       "    <tr>\n",
       "      <th>1</th>\n",
       "      <td>2008</td>\n",
       "      <td>136</td>\n",
       "      <td>1181</td>\n",
       "      <td>1125</td>\n",
       "      <td>-4500.0</td>\n",
       "      <td>2250.0</td>\n",
       "    </tr>\n",
       "    <tr>\n",
       "      <th>2</th>\n",
       "      <td>2008</td>\n",
       "      <td>136</td>\n",
       "      <td>1242</td>\n",
       "      <td>1340</td>\n",
       "      <td>-5000.0</td>\n",
       "      <td>2500.0</td>\n",
       "    </tr>\n",
       "    <tr>\n",
       "      <th>3</th>\n",
       "      <td>2008</td>\n",
       "      <td>136</td>\n",
       "      <td>1243</td>\n",
       "      <td>1425</td>\n",
       "      <td>140.0</td>\n",
       "      <td>-160.0</td>\n",
       "    </tr>\n",
       "    <tr>\n",
       "      <th>4</th>\n",
       "      <td>2008</td>\n",
       "      <td>136</td>\n",
       "      <td>1266</td>\n",
       "      <td>1246</td>\n",
       "      <td>-275.0</td>\n",
       "      <td>235.0</td>\n",
       "    </tr>\n",
       "  </tbody>\n",
       "</table>\n",
       "</div>"
      ],
      "text/plain": [
       "   Season  DayNum  WTeamID  LTeamID  WMoneyline  LMoneyline\n",
       "0    2008     134     1291     1164      -375.0       315.0\n",
       "1    2008     136     1181     1125     -4500.0      2250.0\n",
       "2    2008     136     1242     1340     -5000.0      2500.0\n",
       "3    2008     136     1243     1425       140.0      -160.0\n",
       "4    2008     136     1266     1246      -275.0       235.0"
      ]
     },
     "execution_count": 10,
     "metadata": {},
     "output_type": "execute_result"
    }
   ],
   "source": [
    "box_scores_tourney = pd.read_csv(\"../data//Kaggle-Data/MDataFiles_Stage1/MNCAATourneyDetailedResults.csv\")\n",
    "box_scores_tourney = box_scores_tourney[box_scores_tourney['Season'] >= 2008]\n",
    "box_scores_tourney = box_scores_tourney[[\"Season\", \"DayNum\", \"WTeamID\", \"LTeamID\"]]\n",
    "\n",
    "winner_moneylines_tourney = pd.merge(box_scores_tourney, moneyline_df, how='left', \n",
    "                             left_on=['Season','DayNum','WTeamID'], \n",
    "                             right_on = ['Season','DayNum','TeamID'])[[\"Season\", \"DayNum\", \"WTeamID\", \"LTeamID\",\"Moneyline\",]]\n",
    "\n",
    "winner_moneylines_tourney.rename(columns = {\"Moneyline\": \"WMoneyline\"}, inplace = True)\n",
    "\n",
    "tourney_df = pd.merge(winner_moneylines_tourney, moneyline_df, how='left', \n",
    "                             left_on=['Season','DayNum','LTeamID'], \n",
    "                             right_on = ['Season','DayNum','TeamID'])[[\"Season\", \"DayNum\", \"WTeamID\", \"LTeamID\",\"WMoneyline\",\"Moneyline\"]]\n",
    "\n",
    "tourney_df.rename(columns = {\"Moneyline\": \"LMoneyline\"}, inplace = True)\n",
    "\n",
    "tourney_df.head()"
   ]
  },
  {
   "cell_type": "markdown",
   "id": "ae159d89-f419-4706-8222-9eb7985aba14",
   "metadata": {
    "jp-MarkdownHeadingCollapsed": true,
    "tags": []
   },
   "source": [
    "## Compute the factors/attributes for each Regular Season Game"
   ]
  },
  {
   "cell_type": "code",
   "execution_count": 11,
   "id": "4d9b6ab7-a888-48a7-becf-f4742f9d6eeb",
   "metadata": {},
   "outputs": [],
   "source": [
    "# Effective Field Goal Percentage\n",
    "# Winning Team: WFGM + (0.5 * WFGM3) / WFGA\n",
    "regular_moneyline_df['WEFGP'] = regular_moneyline_df.apply(lambda row: (row.WFGM + (0.5 * row.WFGM3))/(row.WFGA), axis=1)\n",
    "# Losing Team: LFGM + (0.5 * LFGM3) / LFGA\n",
    "regular_moneyline_df['LEFGP'] = regular_moneyline_df.apply(lambda row: (row.LFGM + (0.5 * row.LFGM3))/(row.LFGA), axis=1)\n",
    "\n",
    "#Turnover Percentage\n",
    "# Winning Team: WTO / (WFGA + (0.44 * WFTA) + WTO)\n",
    "regular_moneyline_df['WTP'] = regular_moneyline_df.apply(lambda row: (row.WTO)/(row.WFGA + (0.44 * row.WFTA) + row.WTO), axis=1)\n",
    "# Losing Team: LTO / (LFGA + (0.44 * LFTA) + LTO)\n",
    "regular_moneyline_df['LTP'] = regular_moneyline_df.apply(lambda row: (row.LTO)/(row.LFGA + (0.44 * row.LFTA) + row.LTO), axis=1)\n",
    "\n",
    "# Offensive Rebound Percentage\n",
    "# Winning Team: WOR / WOR + LDR\n",
    "regular_moneyline_df['WORP'] = regular_moneyline_df.apply(lambda row: (row.WOR)/(row.WOR + row.LDR), axis=1)\n",
    "#Losing Team: LOR / LOR + WDR\n",
    "regular_moneyline_df['LORP'] = regular_moneyline_df.apply(lambda row: (row.LOR)/(row.LOR + row.WDR), axis=1)\n",
    "\n",
    "#Winning Team Defensive Rebound: WDR / (LOR + WDR)\n",
    "#regular_moneyline_df['WDRP'] = regular_moneyline_df.apply(lambda row: (row.WDR)/(row.LOR + row.WDR), axis=1)\n",
    "#Losing Team Defensive Rebound: LDR / (WOR + LDR)\n",
    "#regular_moneyline_df['LDRP'] = regular_moneyline_df.apply(lambda row: (row.LDR)/(row.WOR + row.LDR), axis=1)\n",
    "\n",
    "# Free Throw Rate\n",
    "# Winning Team: WFTM / WFGA\n",
    "regular_moneyline_df['WFTR'] = regular_moneyline_df.apply(lambda row: (row.WFTM)/(row.WFGA), axis=1)\n",
    "# Losing Team: LFTM / LFGA\n",
    "regular_moneyline_df['LFTR'] = regular_moneyline_df.apply(lambda row: (row.LFTM)/(row.LFGA), axis=1)"
   ]
  },
  {
   "cell_type": "code",
   "execution_count": 12,
   "id": "19ce26dc-5732-4bcb-9d90-fc219bc02adc",
   "metadata": {},
   "outputs": [],
   "source": [
    "factors_regular_moneyline_df = regular_moneyline_df.drop([\"WFGM\", \"WFGA\", \"WFGM3\", \"WFTM\", \"WFTA\", \"WOR\", \"WDR\", \"WTO\", \"LFGM\", \"LFGA\", \"LFGM3\", \"LFTM\", \"LFTA\", \"LOR\", \"LDR\", \"LTO\"], axis=1)"
   ]
  },
  {
   "cell_type": "code",
   "execution_count": 13,
   "id": "877ac1ae-49f8-4a37-89a0-721e4be80354",
   "metadata": {},
   "outputs": [
    {
     "data": {
      "text/html": [
       "<div>\n",
       "<style scoped>\n",
       "    .dataframe tbody tr th:only-of-type {\n",
       "        vertical-align: middle;\n",
       "    }\n",
       "\n",
       "    .dataframe tbody tr th {\n",
       "        vertical-align: top;\n",
       "    }\n",
       "\n",
       "    .dataframe thead th {\n",
       "        text-align: right;\n",
       "    }\n",
       "</style>\n",
       "<table border=\"1\" class=\"dataframe\">\n",
       "  <thead>\n",
       "    <tr style=\"text-align: right;\">\n",
       "      <th></th>\n",
       "      <th>Season</th>\n",
       "      <th>DayNum</th>\n",
       "      <th>WTeamID</th>\n",
       "      <th>LTeamID</th>\n",
       "      <th>WMoneyline</th>\n",
       "      <th>LMoneyline</th>\n",
       "      <th>WEFGP</th>\n",
       "      <th>LEFGP</th>\n",
       "      <th>WTP</th>\n",
       "      <th>LTP</th>\n",
       "      <th>WORP</th>\n",
       "      <th>LORP</th>\n",
       "      <th>WFTR</th>\n",
       "      <th>LFTR</th>\n",
       "    </tr>\n",
       "  </thead>\n",
       "  <tbody>\n",
       "    <tr>\n",
       "      <th>0</th>\n",
       "      <td>2008</td>\n",
       "      <td>0</td>\n",
       "      <td>1272</td>\n",
       "      <td>1404</td>\n",
       "      <td>-39000.0</td>\n",
       "      <td>13000.0</td>\n",
       "      <td>0.512048</td>\n",
       "      <td>0.376623</td>\n",
       "      <td>0.094554</td>\n",
       "      <td>0.179788</td>\n",
       "      <td>0.437500</td>\n",
       "      <td>0.350877</td>\n",
       "      <td>0.204819</td>\n",
       "      <td>0.168831</td>\n",
       "    </tr>\n",
       "    <tr>\n",
       "      <th>1</th>\n",
       "      <td>2008</td>\n",
       "      <td>0</td>\n",
       "      <td>1350</td>\n",
       "      <td>1263</td>\n",
       "      <td>-240.0</td>\n",
       "      <td>200.0</td>\n",
       "      <td>0.372549</td>\n",
       "      <td>0.433333</td>\n",
       "      <td>0.249723</td>\n",
       "      <td>0.380577</td>\n",
       "      <td>0.200000</td>\n",
       "      <td>0.461538</td>\n",
       "      <td>0.117647</td>\n",
       "      <td>0.066667</td>\n",
       "    </tr>\n",
       "    <tr>\n",
       "      <th>2</th>\n",
       "      <td>2008</td>\n",
       "      <td>1</td>\n",
       "      <td>1205</td>\n",
       "      <td>1105</td>\n",
       "      <td>-160.0</td>\n",
       "      <td>140.0</td>\n",
       "      <td>0.398305</td>\n",
       "      <td>0.387755</td>\n",
       "      <td>0.223214</td>\n",
       "      <td>0.308783</td>\n",
       "      <td>0.465116</td>\n",
       "      <td>0.352941</td>\n",
       "      <td>0.372881</td>\n",
       "      <td>0.346939</td>\n",
       "    </tr>\n",
       "    <tr>\n",
       "      <th>3</th>\n",
       "      <td>2008</td>\n",
       "      <td>1</td>\n",
       "      <td>1246</td>\n",
       "      <td>1146</td>\n",
       "      <td>-7000.0</td>\n",
       "      <td>3000.0</td>\n",
       "      <td>0.509091</td>\n",
       "      <td>0.230000</td>\n",
       "      <td>0.205023</td>\n",
       "      <td>0.233040</td>\n",
       "      <td>0.562500</td>\n",
       "      <td>0.365854</td>\n",
       "      <td>0.200000</td>\n",
       "      <td>0.340000</td>\n",
       "    </tr>\n",
       "    <tr>\n",
       "      <th>4</th>\n",
       "      <td>2008</td>\n",
       "      <td>1</td>\n",
       "      <td>1272</td>\n",
       "      <td>1350</td>\n",
       "      <td>-10000.0</td>\n",
       "      <td>4000.0</td>\n",
       "      <td>0.578431</td>\n",
       "      <td>0.444444</td>\n",
       "      <td>0.216659</td>\n",
       "      <td>0.235215</td>\n",
       "      <td>0.387097</td>\n",
       "      <td>0.375000</td>\n",
       "      <td>0.411765</td>\n",
       "      <td>0.111111</td>\n",
       "    </tr>\n",
       "  </tbody>\n",
       "</table>\n",
       "</div>"
      ],
      "text/plain": [
       "   Season  DayNum  WTeamID  LTeamID  WMoneyline  LMoneyline     WEFGP  \\\n",
       "0    2008       0     1272     1404    -39000.0     13000.0  0.512048   \n",
       "1    2008       0     1350     1263      -240.0       200.0  0.372549   \n",
       "2    2008       1     1205     1105      -160.0       140.0  0.398305   \n",
       "3    2008       1     1246     1146     -7000.0      3000.0  0.509091   \n",
       "4    2008       1     1272     1350    -10000.0      4000.0  0.578431   \n",
       "\n",
       "      LEFGP       WTP       LTP      WORP      LORP      WFTR      LFTR  \n",
       "0  0.376623  0.094554  0.179788  0.437500  0.350877  0.204819  0.168831  \n",
       "1  0.433333  0.249723  0.380577  0.200000  0.461538  0.117647  0.066667  \n",
       "2  0.387755  0.223214  0.308783  0.465116  0.352941  0.372881  0.346939  \n",
       "3  0.230000  0.205023  0.233040  0.562500  0.365854  0.200000  0.340000  \n",
       "4  0.444444  0.216659  0.235215  0.387097  0.375000  0.411765  0.111111  "
      ]
     },
     "execution_count": 13,
     "metadata": {},
     "output_type": "execute_result"
    }
   ],
   "source": [
    "factors_regular_moneyline_df.head()"
   ]
  },
  {
   "cell_type": "markdown",
   "id": "721220a3-9ab4-49c5-8807-39fe419888e6",
   "metadata": {
    "jp-MarkdownHeadingCollapsed": true,
    "tags": []
   },
   "source": [
    "## Data Visualization For Regular Season Games"
   ]
  },
  {
   "cell_type": "code",
   "execution_count": 14,
   "id": "2b830c27-f2bf-44ef-b7a9-5f9736d53b73",
   "metadata": {},
   "outputs": [
    {
     "data": {
      "text/plain": [
       "<matplotlib.legend.Legend at 0x7f2f50401db0>"
      ]
     },
     "execution_count": 14,
     "metadata": {},
     "output_type": "execute_result"
    },
    {
     "data": {
      "image/png": "[encoded data removed]",
      "text/plain": [
       "<Figure size 576x576 with 1 Axes>"
      ]
     },
     "metadata": {
      "needs_background": "light"
     },
     "output_type": "display_data"
    }
   ],
   "source": [
    "fig, ax = plt.subplots(figsize=(8,8))\n",
    "factors_regular_moneyline_df.hist(column='WEFGP', ax=ax,facecolor=\"darkgreen\", alpha = 0.5, edgecolor=\"white\", label = \"Winning Team Effective Field Goal Percentage\")\n",
    "factors_regular_moneyline_df.hist(column='LEFGP', ax=ax,facecolor=\"yellow\", alpha = 0.5, edgecolor=\"white\", label = \"Losing Team Effective Field Goal Percentage\")\n",
    "\n",
    "# Add titles and labels \n",
    "ax.set_title(\"Histogram Distribution of Effective Field Goal Percentage\", fontsize=20)\n",
    "ax.set_xlabel(\"Effective Field Goal Percentage\", fontsize=16)\n",
    "ax.set_ylabel(\"Frequency\", fontsize=16)\n",
    "\n",
    "# Make grid lighter and set behind data\n",
    "ax.grid(alpha=0.25)\n",
    "ax.set_axisbelow(True)\n",
    "ax.legend()"
   ]
  },
  {
   "cell_type": "code",
   "execution_count": 15,
   "id": "f019c656-0d05-4534-8311-5c4ace6cad71",
   "metadata": {},
   "outputs": [
    {
     "data": {
      "text/plain": [
       "<matplotlib.legend.Legend at 0x7f2f5021f490>"
      ]
     },
     "execution_count": 15,
     "metadata": {},
     "output_type": "execute_result"
    },
    {
     "data": {
      "image/png": "[encoded data removed]",
      "text/plain": [
       "<Figure size 576x576 with 1 Axes>"
      ]
     },
     "metadata": {
      "needs_background": "light"
     },
     "output_type": "display_data"
    }
   ],
   "source": [
    "fig, ax = plt.subplots(figsize=(8,8))\n",
    "factors_regular_moneyline_df.hist(column='WTP', ax=ax,facecolor=\"darkgreen\", alpha = 0.5, edgecolor=\"white\", label = \"Winning Team Turnover Percentage\")\n",
    "factors_regular_moneyline_df.hist(column='LTP', ax=ax,facecolor=\"yellow\", alpha = 0.5, edgecolor=\"white\", label = \"Losing Team Turnover Percentage\")\n",
    "\n",
    "# Add titles and labels \n",
    "ax.set_title(\"Histogram Distribution of Turnover Percentage\", fontsize=20)\n",
    "ax.set_xlabel(\"Turnover Percentage\", fontsize=16)\n",
    "ax.set_ylabel(\"Frequency\", fontsize=16)\n",
    "\n",
    "# Make grid lighter and set behind data\n",
    "ax.grid(alpha=0.25)\n",
    "ax.set_axisbelow(True)\n",
    "ax.legend()"
   ]
  },
  {
   "cell_type": "code",
   "execution_count": 16,
   "id": "df08d821-867e-4ea6-9661-4b234683de84",
   "metadata": {},
   "outputs": [
    {
     "data": {
      "text/plain": [
       "<matplotlib.legend.Legend at 0x7f2f47fca410>"
      ]
     },
     "execution_count": 16,
     "metadata": {},
     "output_type": "execute_result"
    },
    {
     "data": {
      "image/png": "[encoded data removed]",
      "text/plain": [
       "<Figure size 576x576 with 1 Axes>"
      ]
     },
     "metadata": {
      "needs_background": "light"
     },
     "output_type": "display_data"
    }
   ],
   "source": [
    "fig, ax = plt.subplots(figsize=(8,8))\n",
    "factors_regular_moneyline_df.hist(column='WORP', ax=ax,facecolor=\"darkgreen\", alpha = 0.5, edgecolor=\"white\", label = \"Winning Team Offensive Rebound Percentage\")\n",
    "factors_regular_moneyline_df.hist(column='LORP', ax=ax,facecolor=\"yellow\", alpha = 0.5, edgecolor=\"white\", label = \"Losing Team Offensive Rebound Percentage\")\n",
    "\n",
    "# Add titles and labels \n",
    "ax.set_title(\"Histogram Distribution of Offensive Rebound Percentage\", fontsize=20)\n",
    "ax.set_xlabel(\"Offensive Rebound Percentage\", fontsize=16)\n",
    "ax.set_ylabel(\"Frequency\", fontsize=16)\n",
    "\n",
    "# Make grid lighter and set behind data\n",
    "ax.grid(alpha=0.25)\n",
    "ax.set_axisbelow(True)\n",
    "ax.legend()"
   ]
  },
  {
   "cell_type": "code",
   "execution_count": 17,
   "id": "e788346a-00ea-4499-9bb6-1941cd3ce455",
   "metadata": {},
   "outputs": [
    {
     "data": {
      "text/plain": [
       "<matplotlib.legend.Legend at 0x7f2f4806e290>"
      ]
     },
     "execution_count": 17,
     "metadata": {},
     "output_type": "execute_result"
    },
    {
     "data": {
      "image/png": "[encoded data removed]",
      "text/plain": [
       "<Figure size 576x576 with 1 Axes>"
      ]
     },
     "metadata": {
      "needs_background": "light"
     },
     "output_type": "display_data"
    }
   ],
   "source": [
    "fig, ax = plt.subplots(figsize=(8,8))\n",
    "factors_regular_moneyline_df.hist(column='WFTR', ax=ax,facecolor=\"darkgreen\", alpha = 0.5, edgecolor=\"white\", label = \"Winning Team Free Throw Rate\")\n",
    "factors_regular_moneyline_df.hist(column='LFTR', ax=ax,facecolor=\"yellow\", alpha = 0.5, edgecolor=\"white\", label = \"Losing Team Free Throw Rate\")\n",
    "\n",
    "# Add titles and labels \n",
    "ax.set_title(\"Histogram Distribution of Free Throw Rate\", fontsize=20)\n",
    "ax.set_xlabel(\"Free Throw Rate\", fontsize=16)\n",
    "ax.set_ylabel(\"Frequency\", fontsize=16)\n",
    "\n",
    "# Make grid lighter and set behind data\n",
    "ax.grid(alpha=0.25)\n",
    "ax.set_axisbelow(True)\n",
    "ax.legend()"
   ]
  },
  {
   "cell_type": "markdown",
   "id": "99065b08-4744-4eee-8ae0-58c2f7bdf5f4",
   "metadata": {
    "jp-MarkdownHeadingCollapsed": true,
    "tags": []
   },
   "source": [
    "## Computing team 4-factor averages for each team during the regular season"
   ]
  },
  {
   "cell_type": "code",
   "execution_count": 18,
   "id": "7df146fb-334d-469e-ae34-aae1147b5e75",
   "metadata": {},
   "outputs": [],
   "source": [
    "regular_4F_avg = factors_regular_moneyline_df.drop([\"WEFGP\", \"LEFGP\", \"WTP\", \"LTP\", \"WORP\", \"LORP\", \"WFTR\", \"LFTR\", \"WMoneyline\", \"LMoneyline\"], axis=1)"
   ]
  },
  {
   "cell_type": "code",
   "execution_count": 19,
   "id": "85ae1759-adca-4475-bd03-c6367e30dc4c",
   "metadata": {},
   "outputs": [],
   "source": [
    "regular_4F_avg['W4_Score'] = factors_regular_moneyline_df.apply(lambda row: (0.4 * row.WEFGP) - (0.25 * row.WTP) + (0.2 * row.WORP) + (0.15 * row.WFTR), axis=1)"
   ]
  },
  {
   "cell_type": "code",
   "execution_count": 20,
   "id": "6436e2e6-971c-4efb-881d-5364ed813b88",
   "metadata": {},
   "outputs": [],
   "source": [
    "regular_4F_avg['L4_Score'] = factors_regular_moneyline_df.apply(lambda row: (0.4 * row.LEFGP) - (0.25 * row.LTP) + (0.2 * row.LORP) + (0.15 * row.LFTR), axis=1)"
   ]
  },
  {
   "cell_type": "code",
   "execution_count": 21,
   "id": "57914b4a-979a-4bdb-a286-d2d350b3d693",
   "metadata": {},
   "outputs": [
    {
     "data": {
      "text/html": [
       "<div>\n",
       "<style scoped>\n",
       "    .dataframe tbody tr th:only-of-type {\n",
       "        vertical-align: middle;\n",
       "    }\n",
       "\n",
       "    .dataframe tbody tr th {\n",
       "        vertical-align: top;\n",
       "    }\n",
       "\n",
       "    .dataframe thead th {\n",
       "        text-align: right;\n",
       "    }\n",
       "</style>\n",
       "<table border=\"1\" class=\"dataframe\">\n",
       "  <thead>\n",
       "    <tr style=\"text-align: right;\">\n",
       "      <th></th>\n",
       "      <th>Season</th>\n",
       "      <th>DayNum</th>\n",
       "      <th>WTeamID</th>\n",
       "      <th>LTeamID</th>\n",
       "      <th>W4_Score</th>\n",
       "      <th>L4_Score</th>\n",
       "    </tr>\n",
       "  </thead>\n",
       "  <tbody>\n",
       "    <tr>\n",
       "      <th>0</th>\n",
       "      <td>2008</td>\n",
       "      <td>0</td>\n",
       "      <td>1272</td>\n",
       "      <td>1404</td>\n",
       "      <td>0.299404</td>\n",
       "      <td>0.201202</td>\n",
       "    </tr>\n",
       "    <tr>\n",
       "      <th>1</th>\n",
       "      <td>2008</td>\n",
       "      <td>0</td>\n",
       "      <td>1350</td>\n",
       "      <td>1263</td>\n",
       "      <td>0.144236</td>\n",
       "      <td>0.180497</td>\n",
       "    </tr>\n",
       "    <tr>\n",
       "      <th>2</th>\n",
       "      <td>2008</td>\n",
       "      <td>1</td>\n",
       "      <td>1205</td>\n",
       "      <td>1105</td>\n",
       "      <td>0.252474</td>\n",
       "      <td>0.200535</td>\n",
       "    </tr>\n",
       "    <tr>\n",
       "      <th>3</th>\n",
       "      <td>2008</td>\n",
       "      <td>1</td>\n",
       "      <td>1246</td>\n",
       "      <td>1146</td>\n",
       "      <td>0.294881</td>\n",
       "      <td>0.157911</td>\n",
       "    </tr>\n",
       "    <tr>\n",
       "      <th>4</th>\n",
       "      <td>2008</td>\n",
       "      <td>1</td>\n",
       "      <td>1272</td>\n",
       "      <td>1350</td>\n",
       "      <td>0.316392</td>\n",
       "      <td>0.210641</td>\n",
       "    </tr>\n",
       "  </tbody>\n",
       "</table>\n",
       "</div>"
      ],
      "text/plain": [
       "   Season  DayNum  WTeamID  LTeamID  W4_Score  L4_Score\n",
       "0    2008       0     1272     1404  0.299404  0.201202\n",
       "1    2008       0     1350     1263  0.144236  0.180497\n",
       "2    2008       1     1205     1105  0.252474  0.200535\n",
       "3    2008       1     1246     1146  0.294881  0.157911\n",
       "4    2008       1     1272     1350  0.316392  0.210641"
      ]
     },
     "execution_count": 21,
     "metadata": {},
     "output_type": "execute_result"
    }
   ],
   "source": [
    "regular_4F_avg.head()"
   ]
  },
  {
   "cell_type": "code",
   "execution_count": 22,
   "id": "02af9dc3-66a4-41b4-887e-758ca668e0e6",
   "metadata": {},
   "outputs": [],
   "source": [
    "teams_df[\"4Factor_Score\"] = 0"
   ]
  },
  {
   "cell_type": "code",
   "execution_count": 23,
   "id": "c56b82d5-5fa2-41a7-8697-064a925bdc41",
   "metadata": {},
   "outputs": [
    {
     "name": "stderr",
     "output_type": "stream",
     "text": [
      "/tmp/ipykernel_534/514679800.py:6: RuntimeWarning: Mean of empty slice\n",
      "  avg = np.nanmean(list3)\n"
     ]
    }
   ],
   "source": [
    "for idx, row in teams_df.iterrows():\n",
    "    new_df = regular_4F_avg.loc[(regular_4F_avg['WTeamID'] == row[\"TeamID\"]) | (regular_4F_avg['LTeamID'] == row[\"TeamID\"])]\n",
    "    list1 = new_df['W4_Score'].values.tolist()\n",
    "    list2 = new_df['L4_Score'].values.tolist()\n",
    "    list3 = list1 + list2\n",
    "    avg = np.nanmean(list3)\n",
    "    teams_df.at[idx, '4Factor_Score'] = avg"
   ]
  },
  {
   "cell_type": "code",
   "execution_count": 24,
   "id": "dc7f613b-f542-4dbd-b04a-ee1f90e87b2b",
   "metadata": {},
   "outputs": [
    {
     "data": {
      "text/html": [
       "<div>\n",
       "<style scoped>\n",
       "    .dataframe tbody tr th:only-of-type {\n",
       "        vertical-align: middle;\n",
       "    }\n",
       "\n",
       "    .dataframe tbody tr th {\n",
       "        vertical-align: top;\n",
       "    }\n",
       "\n",
       "    .dataframe thead th {\n",
       "        text-align: right;\n",
       "    }\n",
       "</style>\n",
       "<table border=\"1\" class=\"dataframe\">\n",
       "  <thead>\n",
       "    <tr style=\"text-align: right;\">\n",
       "      <th></th>\n",
       "      <th>TeamID</th>\n",
       "      <th>TeamName</th>\n",
       "      <th>4Factor_Score</th>\n",
       "    </tr>\n",
       "  </thead>\n",
       "  <tbody>\n",
       "    <tr>\n",
       "      <th>0</th>\n",
       "      <td>1101</td>\n",
       "      <td>Abilene Chr</td>\n",
       "      <td>0.252009</td>\n",
       "    </tr>\n",
       "    <tr>\n",
       "      <th>1</th>\n",
       "      <td>1102</td>\n",
       "      <td>Air Force</td>\n",
       "      <td>0.254044</td>\n",
       "    </tr>\n",
       "    <tr>\n",
       "      <th>2</th>\n",
       "      <td>1103</td>\n",
       "      <td>Akron</td>\n",
       "      <td>0.254680</td>\n",
       "    </tr>\n",
       "    <tr>\n",
       "      <th>3</th>\n",
       "      <td>1104</td>\n",
       "      <td>Alabama</td>\n",
       "      <td>0.255337</td>\n",
       "    </tr>\n",
       "    <tr>\n",
       "      <th>4</th>\n",
       "      <td>1105</td>\n",
       "      <td>Alabama A&amp;M</td>\n",
       "      <td>0.236108</td>\n",
       "    </tr>\n",
       "    <tr>\n",
       "      <th>5</th>\n",
       "      <td>1106</td>\n",
       "      <td>Alabama St</td>\n",
       "      <td>0.246527</td>\n",
       "    </tr>\n",
       "    <tr>\n",
       "      <th>6</th>\n",
       "      <td>1107</td>\n",
       "      <td>SUNY Albany</td>\n",
       "      <td>0.242054</td>\n",
       "    </tr>\n",
       "    <tr>\n",
       "      <th>7</th>\n",
       "      <td>1108</td>\n",
       "      <td>Alcorn St</td>\n",
       "      <td>0.248145</td>\n",
       "    </tr>\n",
       "    <tr>\n",
       "      <th>8</th>\n",
       "      <td>1109</td>\n",
       "      <td>Alliant Intl</td>\n",
       "      <td>NaN</td>\n",
       "    </tr>\n",
       "    <tr>\n",
       "      <th>9</th>\n",
       "      <td>1110</td>\n",
       "      <td>American Univ</td>\n",
       "      <td>0.250238</td>\n",
       "    </tr>\n",
       "  </tbody>\n",
       "</table>\n",
       "</div>"
      ],
      "text/plain": [
       "   TeamID       TeamName  4Factor_Score\n",
       "0    1101    Abilene Chr       0.252009\n",
       "1    1102      Air Force       0.254044\n",
       "2    1103          Akron       0.254680\n",
       "3    1104        Alabama       0.255337\n",
       "4    1105    Alabama A&M       0.236108\n",
       "5    1106     Alabama St       0.246527\n",
       "6    1107    SUNY Albany       0.242054\n",
       "7    1108      Alcorn St       0.248145\n",
       "8    1109   Alliant Intl            NaN\n",
       "9    1110  American Univ       0.250238"
      ]
     },
     "execution_count": 24,
     "metadata": {},
     "output_type": "execute_result"
    }
   ],
   "source": [
    "teams_df.head(10)"
   ]
  },
  {
   "cell_type": "code",
   "execution_count": 25,
   "id": "01632522-62dd-4c84-96c9-b84a7be6ab43",
   "metadata": {},
   "outputs": [
    {
     "name": "stdout",
     "output_type": "stream",
     "text": [
      "12\n",
      "0.2858329013659896\n",
      "0.2361084276027426\n",
      "Range:  0.04972447376324701\n"
     ]
    }
   ],
   "source": [
    "print(teams_df['4Factor_Score'].isna().sum())\n",
    "print(teams_df['4Factor_Score'].max())\n",
    "print(teams_df['4Factor_Score'].min())\n",
    "print(\"Range: \", teams_df['4Factor_Score'].max() - teams_df['4Factor_Score'].min())"
   ]
  },
  {
   "cell_type": "markdown",
   "id": "587adc15",
   "metadata": {
    "jp-MarkdownHeadingCollapsed": true,
    "tags": []
   },
   "source": [
    "## Compute the team matchup 4 Factor score differences for the NCAA March Madness Season Games"
   ]
  },
  {
   "cell_type": "code",
   "execution_count": 26,
   "id": "6a77a337-cd21-4403-86dd-8334125108fb",
   "metadata": {},
   "outputs": [
    {
     "data": {
      "text/html": [
       "<div>\n",
       "<style scoped>\n",
       "    .dataframe tbody tr th:only-of-type {\n",
       "        vertical-align: middle;\n",
       "    }\n",
       "\n",
       "    .dataframe tbody tr th {\n",
       "        vertical-align: top;\n",
       "    }\n",
       "\n",
       "    .dataframe thead th {\n",
       "        text-align: right;\n",
       "    }\n",
       "</style>\n",
       "<table border=\"1\" class=\"dataframe\">\n",
       "  <thead>\n",
       "    <tr style=\"text-align: right;\">\n",
       "      <th></th>\n",
       "      <th>Season</th>\n",
       "      <th>DayNum</th>\n",
       "      <th>WTeamID</th>\n",
       "      <th>LTeamID</th>\n",
       "      <th>WMoneyline</th>\n",
       "      <th>LMoneyline</th>\n",
       "    </tr>\n",
       "  </thead>\n",
       "  <tbody>\n",
       "    <tr>\n",
       "      <th>0</th>\n",
       "      <td>2008</td>\n",
       "      <td>134</td>\n",
       "      <td>1291</td>\n",
       "      <td>1164</td>\n",
       "      <td>-375.0</td>\n",
       "      <td>315.0</td>\n",
       "    </tr>\n",
       "    <tr>\n",
       "      <th>1</th>\n",
       "      <td>2008</td>\n",
       "      <td>136</td>\n",
       "      <td>1181</td>\n",
       "      <td>1125</td>\n",
       "      <td>-4500.0</td>\n",
       "      <td>2250.0</td>\n",
       "    </tr>\n",
       "    <tr>\n",
       "      <th>2</th>\n",
       "      <td>2008</td>\n",
       "      <td>136</td>\n",
       "      <td>1242</td>\n",
       "      <td>1340</td>\n",
       "      <td>-5000.0</td>\n",
       "      <td>2500.0</td>\n",
       "    </tr>\n",
       "    <tr>\n",
       "      <th>3</th>\n",
       "      <td>2008</td>\n",
       "      <td>136</td>\n",
       "      <td>1243</td>\n",
       "      <td>1425</td>\n",
       "      <td>140.0</td>\n",
       "      <td>-160.0</td>\n",
       "    </tr>\n",
       "    <tr>\n",
       "      <th>4</th>\n",
       "      <td>2008</td>\n",
       "      <td>136</td>\n",
       "      <td>1266</td>\n",
       "      <td>1246</td>\n",
       "      <td>-275.0</td>\n",
       "      <td>235.0</td>\n",
       "    </tr>\n",
       "    <tr>\n",
       "      <th>5</th>\n",
       "      <td>2008</td>\n",
       "      <td>136</td>\n",
       "      <td>1277</td>\n",
       "      <td>1396</td>\n",
       "      <td>-300.0</td>\n",
       "      <td>250.0</td>\n",
       "    </tr>\n",
       "    <tr>\n",
       "      <th>6</th>\n",
       "      <td>2008</td>\n",
       "      <td>136</td>\n",
       "      <td>1323</td>\n",
       "      <td>1206</td>\n",
       "      <td>-300.0</td>\n",
       "      <td>250.0</td>\n",
       "    </tr>\n",
       "    <tr>\n",
       "      <th>7</th>\n",
       "      <td>2008</td>\n",
       "      <td>136</td>\n",
       "      <td>1338</td>\n",
       "      <td>1331</td>\n",
       "      <td>-415.0</td>\n",
       "      <td>345.0</td>\n",
       "    </tr>\n",
       "    <tr>\n",
       "      <th>8</th>\n",
       "      <td>2008</td>\n",
       "      <td>136</td>\n",
       "      <td>1345</td>\n",
       "      <td>1124</td>\n",
       "      <td>-145.0</td>\n",
       "      <td>125.0</td>\n",
       "    </tr>\n",
       "    <tr>\n",
       "      <th>9</th>\n",
       "      <td>2008</td>\n",
       "      <td>136</td>\n",
       "      <td>1390</td>\n",
       "      <td>1165</td>\n",
       "      <td>-3000.0</td>\n",
       "      <td>1500.0</td>\n",
       "    </tr>\n",
       "  </tbody>\n",
       "</table>\n",
       "</div>"
      ],
      "text/plain": [
       "   Season  DayNum  WTeamID  LTeamID  WMoneyline  LMoneyline\n",
       "0    2008     134     1291     1164      -375.0       315.0\n",
       "1    2008     136     1181     1125     -4500.0      2250.0\n",
       "2    2008     136     1242     1340     -5000.0      2500.0\n",
       "3    2008     136     1243     1425       140.0      -160.0\n",
       "4    2008     136     1266     1246      -275.0       235.0\n",
       "5    2008     136     1277     1396      -300.0       250.0\n",
       "6    2008     136     1323     1206      -300.0       250.0\n",
       "7    2008     136     1338     1331      -415.0       345.0\n",
       "8    2008     136     1345     1124      -145.0       125.0\n",
       "9    2008     136     1390     1165     -3000.0      1500.0"
      ]
     },
     "execution_count": 26,
     "metadata": {},
     "output_type": "execute_result"
    }
   ],
   "source": [
    "tourney_df.head(10)"
   ]
  },
  {
   "cell_type": "markdown",
   "id": "73713269-e99b-42d5-b28a-83eca7e5f3c9",
   "metadata": {},
   "source": [
    "difference = wteamid 4 factor score - lteamid 4 factor score"
   ]
  },
  {
   "cell_type": "code",
   "execution_count": 27,
   "id": "816eb05b-95ea-41e1-804e-8abc7818a22e",
   "metadata": {},
   "outputs": [],
   "source": [
    "tourney_df['Difference*100'] = 0"
   ]
  },
  {
   "cell_type": "code",
   "execution_count": 28,
   "id": "1c6cd2ae-5c2c-4cb3-a0cb-ea1415b40f63",
   "metadata": {},
   "outputs": [],
   "source": [
    "for idx, row in tourney_df.iterrows():\n",
    "    wrow = teams_df.loc[(teams_df['TeamID'] == row[\"WTeamID\"])]\n",
    "    lrow = teams_df.loc[(teams_df['TeamID'] == row[\"LTeamID\"])]\n",
    "    wscore = wrow[\"4Factor_Score\"] * 100\n",
    "    wscore = wscore.tolist()\n",
    "    lscore = lrow[\"4Factor_Score\"] * 100\n",
    "    lscore = lscore.tolist()\n",
    "    diff = wscore[0] - lscore[0]\n",
    "    tourney_df.at[idx, 'Difference*100'] = diff"
   ]
  },
  {
   "cell_type": "code",
   "execution_count": 29,
   "id": "a6df6ba0-8150-4fef-86d1-329f53d9248a",
   "metadata": {},
   "outputs": [
    {
     "data": {
      "text/plain": [
       "<matplotlib.legend.Legend at 0x7f2f501e01c0>"
      ]
     },
     "execution_count": 29,
     "metadata": {},
     "output_type": "execute_result"
    },
    {
     "data": {
      "image/png": "[encoded data removed]",
      "text/plain": [
       "<Figure size 576x576 with 1 Axes>"
      ]
     },
     "metadata": {
      "needs_background": "light"
     },
     "output_type": "display_data"
    }
   ],
   "source": [
    "fig, ax = plt.subplots(figsize=(8,8))\n",
    "tourney_df.hist(column='Difference*100', ax=ax,facecolor=\"pink\", alpha = 0.5, edgecolor=\"white\", label = \"Difference in the Matchup 4 Factor Computed Score\")\n",
    "\n",
    "\n",
    "# Add titles and labels \n",
    "ax.set_title(\"Histogram Distribution the Difference in the Matchup 4 Factor Computed Score\", fontsize=20)\n",
    "ax.set_xlabel(\"Difference in the Matchup 4 Factor Computed Score\", fontsize=16)\n",
    "ax.set_ylabel(\"Frequency\", fontsize=16)\n",
    "\n",
    "# Make grid lighter and set behind data\n",
    "ax.grid(alpha=0.25)\n",
    "ax.set_axisbelow(True)\n",
    "ax.legend()"
   ]
  },
  {
   "cell_type": "markdown",
   "id": "aeac1fda-0330-456c-b54f-d3a818fe3a62",
   "metadata": {},
   "source": [
    "## Placing Bets, Testing the Model on NCAA March Madness"
   ]
  },
  {
   "cell_type": "code",
   "execution_count": 30,
   "id": "8242119e-ad58-4c22-8c92-498e1853dcb5",
   "metadata": {},
   "outputs": [
    {
     "data": {
      "text/html": [
       "<div>\n",
       "<style scoped>\n",
       "    .dataframe tbody tr th:only-of-type {\n",
       "        vertical-align: middle;\n",
       "    }\n",
       "\n",
       "    .dataframe tbody tr th {\n",
       "        vertical-align: top;\n",
       "    }\n",
       "\n",
       "    .dataframe thead th {\n",
       "        text-align: right;\n",
       "    }\n",
       "</style>\n",
       "<table border=\"1\" class=\"dataframe\">\n",
       "  <thead>\n",
       "    <tr style=\"text-align: right;\">\n",
       "      <th></th>\n",
       "      <th>Season</th>\n",
       "      <th>DayNum</th>\n",
       "      <th>WTeamID</th>\n",
       "      <th>LTeamID</th>\n",
       "      <th>WMoneyline</th>\n",
       "      <th>LMoneyline</th>\n",
       "      <th>Difference*100</th>\n",
       "    </tr>\n",
       "  </thead>\n",
       "  <tbody>\n",
       "    <tr>\n",
       "      <th>0</th>\n",
       "      <td>2008</td>\n",
       "      <td>134</td>\n",
       "      <td>1291</td>\n",
       "      <td>1164</td>\n",
       "      <td>-375.0</td>\n",
       "      <td>315.0</td>\n",
       "      <td>0.354588</td>\n",
       "    </tr>\n",
       "    <tr>\n",
       "      <th>1</th>\n",
       "      <td>2008</td>\n",
       "      <td>136</td>\n",
       "      <td>1181</td>\n",
       "      <td>1125</td>\n",
       "      <td>-4500.0</td>\n",
       "      <td>2250.0</td>\n",
       "      <td>0.297255</td>\n",
       "    </tr>\n",
       "    <tr>\n",
       "      <th>2</th>\n",
       "      <td>2008</td>\n",
       "      <td>136</td>\n",
       "      <td>1242</td>\n",
       "      <td>1340</td>\n",
       "      <td>-5000.0</td>\n",
       "      <td>2500.0</td>\n",
       "      <td>-0.882730</td>\n",
       "    </tr>\n",
       "    <tr>\n",
       "      <th>3</th>\n",
       "      <td>2008</td>\n",
       "      <td>136</td>\n",
       "      <td>1243</td>\n",
       "      <td>1425</td>\n",
       "      <td>140.0</td>\n",
       "      <td>-160.0</td>\n",
       "      <td>0.903147</td>\n",
       "    </tr>\n",
       "    <tr>\n",
       "      <th>4</th>\n",
       "      <td>2008</td>\n",
       "      <td>136</td>\n",
       "      <td>1266</td>\n",
       "      <td>1246</td>\n",
       "      <td>-275.0</td>\n",
       "      <td>235.0</td>\n",
       "      <td>0.089568</td>\n",
       "    </tr>\n",
       "  </tbody>\n",
       "</table>\n",
       "</div>"
      ],
      "text/plain": [
       "   Season  DayNum  WTeamID  LTeamID  WMoneyline  LMoneyline  Difference*100\n",
       "0    2008     134     1291     1164      -375.0       315.0        0.354588\n",
       "1    2008     136     1181     1125     -4500.0      2250.0        0.297255\n",
       "2    2008     136     1242     1340     -5000.0      2500.0       -0.882730\n",
       "3    2008     136     1243     1425       140.0      -160.0        0.903147\n",
       "4    2008     136     1266     1246      -275.0       235.0        0.089568"
      ]
     },
     "execution_count": 30,
     "metadata": {},
     "output_type": "execute_result"
    }
   ],
   "source": [
    "tourney_df.head()"
   ]
  },
  {
   "cell_type": "code",
   "execution_count": 31,
   "id": "6abb5dbd-59bd-4b2c-9162-d0ec8eb5e0c6",
   "metadata": {},
   "outputs": [
    {
     "data": {
      "text/plain": [
       "min   -2.773357\n",
       "25%   -0.368774\n",
       "50%    0.097220\n",
       "75%    0.475145\n",
       "max    2.225652\n",
       "Name: Difference*100, dtype: float64"
      ]
     },
     "execution_count": 31,
     "metadata": {},
     "output_type": "execute_result"
    }
   ],
   "source": [
    "tourney_df['Difference*100'].describe().loc[['min', '25%', '50%', '75%', 'max']]"
   ]
  },
  {
   "cell_type": "markdown",
   "id": "79084b82-77e7-4dd3-b61f-23052e33f9d2",
   "metadata": {},
   "source": [
    "### Strategy 1: Leveraging the 5-Number Summary to make bets"
   ]
  },
  {
   "cell_type": "code",
   "execution_count": 32,
   "id": "f7979ed8-653a-4e45-a957-a22070323aab",
   "metadata": {},
   "outputs": [],
   "source": [
    "def calc_net_payout(moneyline, amount_bet = 1):\n",
    "    if moneyline < 0:\n",
    "        return -amount_bet*(100/moneyline)\n",
    "    else:\n",
    "        return amount_bet*(moneyline/100)"
   ]
  },
  {
   "cell_type": "code",
   "execution_count": 52,
   "id": "e191c7cf-60bd-4d66-b91b-d6fe0b888611",
   "metadata": {},
   "outputs": [],
   "source": [
    "def bet_difference(df, n_iter=30):\n",
    "    initial_investment = len(df.index) # 1 unit for every game\n",
    "    running_balance = initial_investment\n",
    "    bet_count = 0\n",
    "    lost_count = 0\n",
    "    won_count = 0\n",
    "    no_bet_count = 0\n",
    "    for idx, row in df.iterrows():\n",
    "        if(row[\"Difference*100\"] > 0.475145): #bet on the winner\n",
    "            running_balance += calc_net_payout(row[\"WMoneyline\"])\n",
    "            won_count +=1\n",
    "            bet_count +=1\n",
    "        elif(row[\"Difference*100\"] < -0.368774): # bet on the loser\n",
    "            running_balance -= 1\n",
    "            lost_count += 1\n",
    "            bet_count +=1\n",
    "        else: # did not make bet\n",
    "            running_balance = running_balance\n",
    "            no_bet_count += 1 \n",
    "\n",
    "    bet_difference_ROI = (running_balance - initial_investment)/initial_investment \n",
    "    \n",
    "    return bet_difference_ROI, bet_count, won_count, lost_count, no_bet_count"
   ]
  },
  {
   "cell_type": "code",
   "execution_count": 65,
   "id": "54f0b93f-4dff-409f-8e7c-e152cc16ce40",
   "metadata": {},
   "outputs": [],
   "source": [
    "list_of_years = np.unique(tourney_df[\"Season\"])\n",
    "difference_tracker = []\n",
    "accuracy_win_bet = []\n",
    "inaccuracy_lost_bet = []\n",
    "\n",
    "for year in list_of_years:\n",
    "    year_df = tourney_df[tourney_df[\"Season\"] == year]\n",
    "    model = bet_difference(year_df)\n",
    "    difference_tracker.append(model[0])\n",
    "    if(model[1]>0):\n",
    "        accuracy_win_bet.append(model[2]/model[1])\n",
    "        inaccuracy_lost_bet.append(model[3]/model[1])\n",
    "    else:\n",
    "        accuracy_win_bet.append(0)\n",
    "        inaccuracy_win_bet.append(0)\n",
    "        \n",
    "\n",
    "dummy_ROI_comparisson = pd.DataFrame({\"Year\": list_of_years, \n",
    "                                      \"Bet Difference\":difference_tracker})"
   ]
  },
  {
   "cell_type": "code",
   "execution_count": 60,
   "id": "b5b733dc-fc7a-4021-83bc-55cb243dc487",
   "metadata": {},
   "outputs": [
    {
     "data": {
      "image/png": "[encoded data removed]",
      "text/plain": [
       "<Figure size 1152x648 with 1 Axes>"
      ]
     },
     "metadata": {
      "needs_background": "light"
     },
     "output_type": "display_data"
    }
   ],
   "source": [
    "import matplotlib.pyplot as plt\n",
    "\n",
    "plt.figure(figsize=(16, 9))\n",
    "\n",
    "plt.plot(list_of_years, difference_tracker, label = \"Bet Difference\")\n",
    "plt.axhline(y = 0.00, color = 'r', linestyle = '-')\n",
    "plt.title(\"NCAA Tourney ROI\")\n",
    "plt.xlabel(\"Year\")\n",
    "plt.ylabel(\"ROI\")\n",
    "plt.legend()\n",
    "plt.show()"
   ]
  },
  {
   "cell_type": "code",
   "execution_count": 66,
   "id": "1fc59cea-fd1e-46d2-8432-c0c6e9c64bbe",
   "metadata": {},
   "outputs": [
    {
     "data": {
      "image/png": "[encoded data removed]",
      "text/plain": [
       "<Figure size 1152x648 with 1 Axes>"
      ]
     },
     "metadata": {
      "needs_background": "light"
     },
     "output_type": "display_data"
    }
   ],
   "source": [
    "import matplotlib.pyplot as plt\n",
    "\n",
    "plt.figure(figsize=(16, 9))\n",
    "\n",
    "plt.plot(list_of_years, accuracy_win_bet, label = \"Betting Accuracy, Bet on the Winner\")\n",
    "#plt.plot(list_of_years, inaccuracy_lost_bet, label = \"Betting Inaccuracy, Bet on the Loser\")\n",
    "plt.axhline(y = 0.00, color = 'r', linestyle = '-')\n",
    "plt.title(\"NCAA Tourney Betting Accuracy\")\n",
    "plt.xlabel(\"Year\")\n",
    "plt.ylabel(\"Accuracy(Number of Bets Won/Number of Bets Made)\")\n",
    "plt.legend()\n",
    "plt.show()"
   ]
  },
  {
   "cell_type": "code",
   "execution_count": null,
   "id": "330a1548-5f48-4385-bf9d-694159e4e66c",
   "metadata": {},
   "outputs": [],
   "source": []
  }
 ],
 "metadata": {
  "kernelspec": {
   "display_name": "Python 3 (ipykernel)",
   "language": "python",
   "name": "python3"
  },
  "language_info": {
   "codemirror_mode": {
    "name": "ipython",
    "version": 3
   },
   "file_extension": ".py",
   "mimetype": "text/x-python",
   "name": "python",
   "nbconvert_exporter": "python",
   "pygments_lexer": "ipython3",
   "version": "3.10.5"
  }
 },
 "nbformat": 4,
 "nbformat_minor": 5
}
